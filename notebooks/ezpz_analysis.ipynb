{
 "cells": [
  {
   "cell_type": "code",
   "execution_count": null,
   "id": "3e209790",
   "metadata": {},
   "outputs": [],
   "source": [
    "# Update all relevant packages with conda\n",
    "!conda install statsmodels seaborn pandas scipy seaborn numpy matplotlib plotly -y "
   ]
  },
  {
   "cell_type": "code",
   "execution_count": 553,
   "id": "01718da3-538c-4107-b2e1-681cd54c2f61",
   "metadata": {},
   "outputs": [],
   "source": [
    "import sys\n",
    "import pandas as pd\n",
    "import numpy as np\n",
    "import scipy.stats as ttest_ind\n",
    "import seaborn as sns\n",
    "import matplotlib.pyplot as plt\n",
    "from scipy import stats\n",
    "import statsmodels.api as sm\n",
    "from statsmodels.formula.api import ols\n",
    "from statsmodels.stats.multicomp import pairwise_tukeyhsd\n",
    "import plotly.graph_objects as go\n",
    "from plotly.subplots import make_subplots\n",
    "import plotly.subplots as sp\n"
   ]
  },
  {
   "cell_type": "code",
   "execution_count": 554,
   "id": "a48600a5",
   "metadata": {},
   "outputs": [
    {
     "name": "stdout",
     "output_type": "stream",
     "text": [
      "/opt/anaconda3/envs/ezpz_env/bin/python\n"
     ]
    }
   ],
   "source": [
    "print(sys.executable)"
   ]
  },
  {
   "cell_type": "code",
   "execution_count": 555,
   "id": "5fa5eed4-229e-4714-be47-f932bc65a1f9",
   "metadata": {},
   "outputs": [
    {
     "name": "stdout",
     "output_type": "stream",
     "text": [
      "ezpz_analysis.ipynb\n",
      "/Users/ecrespo/Documents/github_project_folder/ezpzmouseanalytics/notebooks\n",
      "Python 3.8.19\n"
     ]
    }
   ],
   "source": [
    "# List the contents of the current directory\n",
    "!ls\n",
    "# Print the working directory\n",
    "!pwd\n",
    "# Check the Python version\n",
    "!python --version\n"
   ]
  },
  {
   "cell_type": "markdown",
   "id": "4ed8422d",
   "metadata": {},
   "source": [
    "# Import the data"
   ]
  },
  {
   "cell_type": "code",
   "execution_count": 556,
   "id": "51a2b7a4",
   "metadata": {},
   "outputs": [],
   "source": [
    "file_path = '/Users/ecrespo/Documents/github_project_folder/ezpzmouseanalytics/data/raw/Rbp4_social.csv' "
   ]
  },
  {
   "cell_type": "markdown",
   "id": "f3f2db82",
   "metadata": {},
   "source": [
    "# Initialize the class "
   ]
  },
  {
   "cell_type": "code",
   "execution_count": 557,
   "id": "d059d9cb-3369-4f8a-b27a-6370532e186b",
   "metadata": {},
   "outputs": [],
   "source": [
    "class EzPzMouseAnalytics:\n",
    "    def __init__(self, file_path):\n",
    "        # Main class code\n",
    "        \"\"\"\n",
    "        Initialize the EzPzMouseAnalytics object with the path to the CSV file containing the data.\n",
    "        :param file_path: Path to the CSV file containing the data.\n",
    "        \n",
    "        \"\"\"\n",
    "        self.file_path = file_path\n",
    "        \"\"\"string: Path to the CSV file containing the data.\"\"\"\n",
    "        self.data = None\n",
    "        \"\"\"pandas.DataFrame: The main dataframe containing all mouse data after initial processing.\"\"\" \n",
    "        self.genotype_nested_df = None\n",
    "        \"\"\"pandas.DataFrame: Grouped dataframe where each group represents a unique genotype.\"\"\"\n",
    "        self.genotype_sex_groups = None\n",
    "        \"\"\"pandas.DataFrame: Grouped dataframe where each group represents a unique combination of genotype and sex.\"\"\"\n",
    "        self.genotype_colors = {\n",
    "            'Rbp4-LMO3': 'hotpink',\n",
    "            'wt-LMO3': 'grey'}\n",
    "        \"\"\"dict: Mapping of genotypes to their respective plot colors.\"\"\"\n",
    "\n",
    "        \n",
    "        \n",
    "        # Load and process data\n",
    "        self.extract_data()  # Load the data\n",
    "        self.rename_columns()  # Rename columns as needed\n",
    "        self.calculate_age_in_months() # Calculate age in months and add to DataFrame\n",
    "        self.check_unique_tags() # Check for duplicate tag entries \n",
    "        self._initialize_dataframes()  # Create grouped DataFrames after renaming\n",
    "        \n",
    "\n",
    "        # Initialize the classes neeed for analysis and plotting\n",
    "     \n",
    "        self.genotype_comparison = self.GenotypeComparisonAnalysis(self)\n",
    "        \"\"\"GenotypeComparisonAnalysis: Object for comparing two genotypes.\"\"\"\n",
    "        \n",
    "        self.analysis = self.Analysis(self)\n",
    "        \"\"\"Analysis: Object for performing statistical analysis on the data.\"\"\"   \n",
    "    \n",
    "    def _initialize_dataframes(self):\n",
    "        \"\"\"\n",
    "        Internal method to initialize the genotype and genotype-sex separated DataFrames\n",
    "        after loading the data. Intiliazed during the __init__ method.\n",
    "        \"\"\"\n",
    "        if self.data is None:\n",
    "            raise ValueError(\"Data not loaded. Please run extract_data() first.\")\n",
    "\n",
    "        # Create nested DataFrame for each genotype, dropping only the 'genotype' column\n",
    "        self.genotype_nested_df = self.data.groupby('genotype').apply(\n",
    "            lambda x: x.drop('genotype', axis=1)\n",
    "        )\n",
    "\n",
    "        # Create separate DataFrames for each combination of genotype and sex\n",
    "        self.genotype_sex_groups = self.data.groupby(['genotype', 'sex']).apply(\n",
    "            lambda x: x.drop(['genotype', 'sex'], axis=1)\n",
    "        )\n",
    " \n",
    "        #print(\"Columns in genotype_nested_df:\", self.genotype_nested_df.columns.tolist())\n",
    "        #print(\"Columns in genotype_sex_groups:\", self.genotype_sex_groups.columns.tolist())\n",
    "\n",
    "    def rename_columns(self):\n",
    "        \"\"\"\n",
    "        Rename specific columns in the self.data based on the strings in the column_map dictionary. \n",
    "        Intialized during the __init__ method.\n",
    "        \n",
    "        \"\"\"\n",
    "        if self.data is None:\n",
    "            raise ValueError(\"Data not loaded. Please run extract_data() first.\")\n",
    "        \n",
    "        print(\"rename_columns method called.\")\n",
    "        print(\"Columns before renaming:\", self.data.columns.tolist())\n",
    "      \n",
    "       #create a mapping of the new names \n",
    "        column_map = {\n",
    "            'summouse1': 'interactiontime_sum_familiar',\n",
    "            'summouse2': 'interactiontime_sum_stranger',\n",
    "            'avgmouse1': 'interactiontime_avg_familiar',\n",
    "            'avgmouse2': 'interactiontime_avg_stranger',\n",
    "            'boutmouse1': 'approach_sum_familiar',\n",
    "            'boutmouse2': 'approach_sum_stranger'\n",
    "        }\n",
    "        \n",
    "        # Rename the column names that are in the column_map\n",
    "        self.data.rename(columns=column_map, inplace=True)\n",
    "        print(\"Columns after renaming:\", self.data.columns.tolist())\n",
    "    \n",
    "    def extract_data(self):\n",
    "        \"\"\"\n",
    "        \n",
    "        Extract data from the CSV file and store it in a DataFrame. But remove the Unamed: 15 and Unamed: 16 columns\n",
    "        \n",
    "        :return: DataFrame containing the loaded data.\n",
    "        \"\"\"\n",
    "        self.data = pd.read_csv(self.file_path)\n",
    "        self.data = self.data.drop(columns=['Unnamed: 15', 'Unnamed: 16'])\n",
    "\n",
    "        return self.data\n",
    "\n",
    "    def calculate_age_in_months(self):\n",
    "        \"\"\"\n",
    "        Calculate the age of each mouse at the time of testing in months.\n",
    "        Intialized during the __init__ method.\n",
    "        :return: DataFrame with columns for DOB, datetested, and age in months.\n",
    "        \"\"\"\n",
    "        if self.data is None:\n",
    "            raise ValueError(\"Data not loaded. Please run extract_data() first.\")\n",
    "        \n",
    "        # Clean up any leading or trailing spaces in the column names\n",
    "        self.data.columns = self.data.columns.str.strip()\n",
    "        \n",
    "        # Rename 'date tested' to 'datetested' if it exists\n",
    "        if 'date tested' in self.data.columns:\n",
    "            self.data.rename(columns={'date tested': 'datetested'}, inplace=True)\n",
    "        else:\n",
    "            raise KeyError(\"Column 'date tested' not found in the data. Please check the column names.\")\n",
    "        \n",
    "        # Convert DOB and datetested to datetime objects\n",
    "        self.data['DOB'] = pd.to_datetime(self.data['DOB'], format='%m/%d/%y')\n",
    "        self.data['datetested'] = pd.to_datetime(self.data['datetested'], format='%m/%d/%y')\n",
    "        \n",
    "        # Calculate the difference in months\n",
    "        self.data['age_in_months'] = ((self.data['datetested'] - self.data['DOB']).dt.days / 30.44).round(2)\n",
    "        return self.data[['DOB', 'datetested', 'age_in_months']]\n",
    "\n",
    "    def check_unique_tags(self):\n",
    "        \"\"\"\n",
    "        Ensure that the 'tag' column contains unique identifiers for each mouse.\n",
    "        \n",
    "        :return: DataFrame with duplicate tag entries if any exist; otherwise, None.\n",
    "        \"\"\"\n",
    "        if self.data is None:\n",
    "            raise ValueError(\"Data not loaded. Please run extract_data() first.\")\n",
    "        \n",
    "        duplicate_tags = self.data[self.data.duplicated('tag', keep=False)]\n",
    "        \n",
    "        if not duplicate_tags.empty:\n",
    "            print(\"Duplicate 'tag' values found.\")\n",
    "            return duplicate_tags[['tag', 'DOB', 'date tested', 'genotype', 'treatment']]\n",
    "        else:\n",
    "            return None\n",
    "\n",
    "    class GenotypeComparisonAnalysis:\n",
    "        # First nested clas\n",
    "        def __init__(self, parent):\n",
    "            \"\"\"\n",
    "            Initialize the GenotypeComparisonAnalysis object \n",
    "            \"\"\"\n",
    "            self.parent = parent           \n",
    "            self.genotype1 = 'Rbp4-LMO3'\n",
    "            \"\"\"str: The first genotype to be compared.\"\"\"\n",
    "            self.genotype2 = 'wt-LMO3'\n",
    "            \"\"\"str: The second genotype to be compared.\"\"\"\n",
    "\n",
    "            self.data_genotype1 = None\n",
    "            \"\"\"pandas.DataFrame: Data subset for the first genotype (Rbp4-LMO3).\"\"\"\n",
    "            self.data_genotype2 = None\n",
    "            \"\"\"pandas.DataFrame: Data subset for the second genotype (wt-LMO3).\"\"\"\n",
    "            \n",
    "            self._initialize_genotype_data()\n",
    "        \n",
    "        def _initialize_genotype_data(self):\n",
    "\n",
    "            # Access the genotype-separated DataFrames through the parent\n",
    "            if self.genotype1 in self.parent.genotype_nested_df.index.get_level_values('genotype'):\n",
    "                self.data_genotype1 = self.parent.genotype_nested_df.xs(self.genotype1, level='genotype')\n",
    "            else:\n",
    "                raise ValueError(f\"Genotype '{self.genotype1}' not found in the data.\")\n",
    "            \n",
    "            if self.genotype2 in self.parent.genotype_nested_df.index.get_level_values('genotype'):\n",
    "                self.data_genotype2 = self.parent.genotype_nested_df.xs(self.genotype2, level='genotype')\n",
    "            else:\n",
    "                raise ValueError(f\"Genotype '{self.genotype2}' not found in the data.\")\n",
    "\n",
    "\n",
    "    class Analysis:\n",
    "         # Second nested class\n",
    "        def __init__(self, parent):\n",
    "            self.parent = parent\n",
    "            self.genotype_results = pd.DataFrame()\n",
    "            \"\"\"pandas.DataFrame: Stores results for genotype comparisons.\"\"\"\n",
    "            \n",
    "            self.genotype_sex_results = pd.DataFrame()\n",
    "            \"\"\"pandas.DataFrame: Stores results for genotype-sex comparisons.\"\"\"\n",
    "            \n",
    "            self.paired_metrics = [\n",
    "            ('interactiontime_sum_familiar', 'interactiontime_sum_stranger'),\n",
    "            ('interactiontime_avg_familiar', 'interactiontime_avg_stranger'),\n",
    "            ('approach_sum_familiar', 'approach_sum_stranger')]\n",
    "\n",
    "            \"\"\"list of tuples: Pairs of metrics to be compared (familiar vs stranger).\"\"\"\n",
    "    \n",
    "\n",
    "        def compare_genotypes(self):\n",
    "            results = []\n",
    "            print(f\"Paired metrics: {self.paired_metrics}\")\n",
    "            print(f\"Genotypes: {self.parent.genotype_comparison.genotype1}, {self.parent.genotype_comparison.genotype2}\")\n",
    "\n",
    "            for familiar_metric, stranger_metric in self.paired_metrics:\n",
    "                for genotype in [self.parent.genotype_comparison.genotype1, self.parent.genotype_comparison.genotype2]:\n",
    "                    print(f\"Processing genotype: {genotype}\")\n",
    "                    print(f\"Metrics: {familiar_metric} vs {stranger_metric}\")\n",
    "\n",
    "                    # Access the data for the current genotype\n",
    "                    data = self.parent.genotype_nested_df.xs(genotype, level='genotype')\n",
    "                    print(f\"Data shape for {genotype}: {data.shape}\")\n",
    "                    print(f\"Columns in data: {data.columns}\")\n",
    "\n",
    "                    if familiar_metric not in data.columns or stranger_metric not in data.columns:\n",
    "                        print(f\"Error: Metrics not found in data columns for genotype {genotype}\")\n",
    "                        continue\n",
    "\n",
    "                    familiar_data = data[familiar_metric]\n",
    "                    stranger_data = data[stranger_metric]\n",
    "                    print(f\"Familiar data: {familiar_data.head()}\")\n",
    "                    print(f\"Stranger data: {stranger_data.head()}\")\n",
    "\n",
    "                    if len(familiar_data) != len(stranger_data):\n",
    "                        print(f\"Error: Mismatched lengths for {genotype}\")\n",
    "                        continue\n",
    "\n",
    "                    try:\n",
    "                        t_stat, p_value = stats.ttest_rel(familiar_data, stranger_data)\n",
    "                        print(f\"t-statistic: {t_stat}, p-value: {p_value}\")\n",
    "                    except Exception as e:\n",
    "                        print(f\"Error in t-test for {genotype}: {str(e)}\")\n",
    "                        continue\n",
    "\n",
    "                    results.append({\n",
    "                        'genotype': genotype,\n",
    "                        'familiar_metric': familiar_metric,\n",
    "                        'stranger_metric': stranger_metric,\n",
    "                        't_statistic': t_stat,\n",
    "                        'p_value': p_value\n",
    "                    })\n",
    "\n",
    "            self.genotype_results = pd.DataFrame(results)\n",
    "            print(f\"Final results shape: {self.genotype_results.shape}\")\n",
    "            return self.genotype_results\n",
    "        \n",
    "        def get_genotype_results(self):\n",
    "            if self.genotype_results is None:\n",
    "                self.compare_genotypes()  # Calculate results if not already done\n",
    "            return self.genotype_results\n",
    "\n",
    "        def check_assumptions(self):\n",
    "            assumption_results = []\n",
    "            print(f\"Paired metrics: {self.paired_metrics}\")\n",
    "            print(f\"Genotypes: {self.parent.genotype_comparison.genotype1}, {self.parent.genotype_comparison.genotype2}\")\n",
    "\n",
    "            for familiar_metric, stranger_metric in self.paired_metrics:\n",
    "                print(f\"\\nChecking assumptions for metrics: {familiar_metric} vs {stranger_metric}\")\n",
    "                \n",
    "                for genotype in [self.parent.genotype_comparison.genotype1, self.parent.genotype_comparison.genotype2]:\n",
    "                    print(f\"\\nProcessing genotype: {genotype}\")\n",
    "\n",
    "                    # Access the data for the current genotype\n",
    "                    data = self.parent.genotype_nested_df.xs(genotype, level='genotype')\n",
    "\n",
    "                    if familiar_metric not in data.columns or stranger_metric not in data.columns:\n",
    "                        print(f\"Error: Metrics not found in data columns for genotype {genotype}\")\n",
    "                        continue\n",
    "\n",
    "                    familiar_data = data[familiar_metric]\n",
    "                    stranger_data = data[stranger_metric]\n",
    "                    difference = familiar_data - stranger_data  # For paired data, we check assumptions on the differences\n",
    "\n",
    "                    # Check normality\n",
    "                    _, normality_p_value = stats.shapiro(difference)\n",
    "                    print(f\"Shapiro-Wilk test for normality p-value: {normality_p_value:.4f}\")\n",
    "\n",
    "                    # Check homogeneity of variances (for between-group comparisons)\n",
    "                    _, levene_p_value = stats.levene(familiar_data, stranger_data)\n",
    "                    print(f\"Levene's test for homogeneity of variances p-value: {levene_p_value:.4f}\")\n",
    "\n",
    "                    # Create Q-Q plot\n",
    "                    fig, (ax1, ax2) = plt.subplots(1, 2, figsize=(12, 5))\n",
    "                    stats.probplot(difference, dist=\"norm\", plot=ax1)\n",
    "                    ax1.set_title(f\"Q-Q Plot for {genotype}\")\n",
    "\n",
    "                    # Create histogram\n",
    "                    sns.histplot(difference, kde=True, ax=ax2)\n",
    "                    ax2.set_title(f\"Distribution of Differences for {genotype}\")\n",
    "                    plt.tight_layout()\n",
    "                    plt.show()\n",
    "\n",
    "                    assumption_results.append({\n",
    "                        'genotype': genotype,\n",
    "                        'metric_pair': f\"{familiar_metric} vs {stranger_metric}\",\n",
    "                        'normality_p_value': normality_p_value,\n",
    "                        'homogeneity_p_value': levene_p_value\n",
    "                    })\n",
    "\n",
    "            self.assumption_results = pd.DataFrame(assumption_results)\n",
    "            print(\"\\nAssumption check results:\")\n",
    "            print(self.assumption_results)\n",
    "            return self.assumption_results\n",
    "    \n",
    "        def create_interactive_plot(self):\n",
    "            if not hasattr(self, 'genotype_results'):\n",
    "                print(\"No results available. Please run compare_genotypes first.\")\n",
    "                return\n",
    "\n",
    "            # Prepare data\n",
    "            plot_data = []\n",
    "            for familiar_metric, stranger_metric in self.paired_metrics:\n",
    "                for genotype in [self.parent.genotype_comparison.genotype1, self.parent.genotype_comparison.genotype2]:\n",
    "                    data = self.parent.genotype_nested_df.xs(genotype, level='genotype').reset_index()\n",
    "                    plot_data.append(pd.DataFrame({\n",
    "                        'Genotype': genotype,\n",
    "                        'Metric Pair': f\"{familiar_metric} vs {stranger_metric}\",\n",
    "                        'Condition': 'Familiar',\n",
    "                        'Value': data[familiar_metric],\n",
    "                        'Tag': data['tag'],\n",
    "                        'Age': data['age_in_months']\n",
    "                    }))\n",
    "                    plot_data.append(pd.DataFrame({\n",
    "                        'Genotype': genotype,\n",
    "                        'Metric Pair': f\"{familiar_metric} vs {stranger_metric}\",\n",
    "                        'Condition': 'Stranger',\n",
    "                        'Value': data[stranger_metric],\n",
    "                        'Tag': data['tag'],\n",
    "                        'Age': data['age_in_months']\n",
    "                    }))\n",
    "\n",
    "            plot_df = pd.concat(plot_data, ignore_index=True)\n",
    "\n",
    "            # Create figure\n",
    "            fig = go.Figure()\n",
    "\n",
    "            # Define colors for genotypes\n",
    "            genotype_colors = {\n",
    "                self.parent.genotype_comparison.genotype1: 'blue',\n",
    "                self.parent.genotype_comparison.genotype2: 'red'\n",
    "            }\n",
    "\n",
    "            # Add traces for each genotype and metric pair\n",
    "            for metric_pair in plot_df['Metric Pair'].unique():\n",
    "                for genotype in [self.parent.genotype_comparison.genotype1, self.parent.genotype_comparison.genotype2]:\n",
    "                    genotype_data = plot_df[(plot_df['Genotype'] == genotype) & (plot_df['Metric Pair'] == metric_pair)]\n",
    "                    \n",
    "                    for condition in ['Familiar', 'Stranger']:\n",
    "                        condition_data = genotype_data[genotype_data['Condition'] == condition]\n",
    "                        \n",
    "                        hovertext = [f\"Tag: {tag}<br>Age: {age:.2f} months<br>Value: {value:.2f}\" \n",
    "                                    for tag, age, value in zip(condition_data['Tag'], \n",
    "                                                                condition_data['Age'], \n",
    "                                                                condition_data['Value'])]\n",
    "                        \n",
    "                        fig.add_trace(\n",
    "                            go.Box(x=[f\"{genotype} - {condition}\"] * len(condition_data),\n",
    "                                y=condition_data['Value'],\n",
    "                                name=f\"{metric_pair} | {genotype} - {condition}\", \n",
    "                                boxpoints='all', jitter=0.3, pointpos=-1.8,\n",
    "                                hovertext=hovertext,\n",
    "                                hoverinfo='text',\n",
    "                                marker_color=genotype_colors[genotype],\n",
    "                                showlegend=False,\n",
    "                                visible=(metric_pair == plot_df['Metric Pair'].unique()[0]))\n",
    "                        )\n",
    "\n",
    "            # Update layout\n",
    "            fig.update_layout(\n",
    "                title=\"Comparison of Familiar vs Stranger Metrics by Genotype\",\n",
    "                height=600,\n",
    "                width=1000,\n",
    "                boxmode='group',\n",
    "                xaxis_title=\"Genotype - Condition\",\n",
    "                yaxis_title=\"Value\"\n",
    "            )\n",
    "\n",
    "            # Add dropdown for metric selection\n",
    "            fig.update_layout(\n",
    "                updatemenus=[\n",
    "                    dict(\n",
    "                        buttons=list([\n",
    "                            dict(label=metric_pair,\n",
    "                                method=\"update\",\n",
    "                                args=[{\"visible\": [metric_pair in trace.name for trace in fig.data]},\n",
    "                                    {\"title\": f\"Comparison of {metric_pair}\"}])\n",
    "                            for metric_pair in plot_df['Metric Pair'].unique()\n",
    "                        ]),\n",
    "                        direction=\"down\",\n",
    "                        pad={\"r\": 10, \"t\": 10},\n",
    "                        showactive=True,\n",
    "                        x=0.1,\n",
    "                        xanchor=\"left\",\n",
    "                        y=1.1,\n",
    "                        yanchor=\"top\"\n",
    "                    ),\n",
    "                ]\n",
    "            )\n",
    "\n",
    "            return fig\n",
    "\n",
    "        def show_interactive_plot(self):\n",
    "            fig = self.create_interactive_plot()\n",
    "            fig.show()\n",
    "    \n",
    "        def perform_discrimination_ttest(self):\n",
    "                if not hasattr(self, 'discrimination_df'):\n",
    "                    print(\"No discrimination data available. Please run calculate_discrimination_metric first.\")\n",
    "                    return\n",
    "\n",
    "                ttest_results = []\n",
    "                for metric_pair in self.discrimination_df['Metric Pair'].unique():\n",
    "                    genotype1_data = self.discrimination_df[(self.discrimination_df['Genotype'] == self.parent.genotype_comparison.genotype1) & \n",
    "                                                            (self.discrimination_df['Metric Pair'] == metric_pair)]['Discrimination']\n",
    "                    genotype2_data = self.discrimination_df[(self.discrimination_df['Genotype'] == self.parent.genotype_comparison.genotype2) & \n",
    "                                                            (self.discrimination_df['Metric Pair'] == metric_pair)]['Discrimination']\n",
    "                    \n",
    "                    t_stat, p_value = stats.ttest_ind(genotype1_data, genotype2_data)\n",
    "                    \n",
    "                    ttest_results.append({\n",
    "                        'Metric Pair': metric_pair,\n",
    "                        't-statistic': t_stat,\n",
    "                        'p-value': p_value\n",
    "                    })\n",
    "\n",
    "                self.discrimination_ttest_results = pd.DataFrame(ttest_results)\n",
    "                return self.discrimination_ttest_results\n",
    "    \n",
    "        def calculate_discrimination_metric(self):\n",
    "            discrimination_data = []\n",
    "            for familiar_metric, stranger_metric in self.paired_metrics:\n",
    "                for genotype in [self.parent.genotype_comparison.genotype1, self.parent.genotype_comparison.genotype2]:\n",
    "                    data = self.parent.genotype_nested_df.xs(genotype, level='genotype').reset_index()\n",
    "                    \n",
    "                    familiar_values = data[familiar_metric]\n",
    "                    stranger_values = data[stranger_metric]\n",
    "                    \n",
    "                    discrimination = (stranger_values - familiar_values) / (stranger_values + familiar_values)\n",
    "                    \n",
    "                    for tag, age, disc_value in zip(data['tag'], data['age_in_months'], discrimination):\n",
    "                        discrimination_data.append({\n",
    "                            'Genotype': genotype,\n",
    "                            'Metric Pair': f\"{familiar_metric} vs {stranger_metric}\",\n",
    "                            'Discrimination': disc_value,\n",
    "                            'Tag': tag,\n",
    "                            'Age': age\n",
    "                        })\n",
    "            \n",
    "            self.discrimination_df = pd.DataFrame(discrimination_data)\n",
    "                \n",
    "        def create_discrimination_plot(self):\n",
    "            if not hasattr(self, 'discrimination_df'):\n",
    "                print(\"No discrimination data available. Please run calculate_discrimination_metric first.\")\n",
    "                return\n",
    "\n",
    "            fig = go.Figure()\n",
    "\n",
    "            # Define colors for genotypes\n",
    "            genotype_colors = {\n",
    "                self.parent.genotype_comparison.genotype1: 'blue',\n",
    "                self.parent.genotype_comparison.genotype2: 'red'\n",
    "            }\n",
    "\n",
    "            # Add traces for each genotype and metric pair\n",
    "            for metric_pair in self.discrimination_df['Metric Pair'].unique():\n",
    "                for genotype in [self.parent.genotype_comparison.genotype1, self.parent.genotype_comparison.genotype2]:\n",
    "                    genotype_data = self.discrimination_df[(self.discrimination_df['Genotype'] == genotype) & \n",
    "                                                        (self.discrimination_df['Metric Pair'] == metric_pair)]\n",
    "                    \n",
    "                    hovertext = [f\"Tag: {tag}<br>Age: {age:.2f} months<br>Discrimination: {disc:.4f}\" \n",
    "                                for tag, age, disc in zip(genotype_data['Tag'], \n",
    "                                                        genotype_data['Age'], \n",
    "                                                        genotype_data['Discrimination'])]\n",
    "                    \n",
    "                    fig.add_trace(\n",
    "                        go.Box(x=[genotype] * len(genotype_data),\n",
    "                            y=genotype_data['Discrimination'],\n",
    "                            name=f\"{metric_pair} | {genotype}\", \n",
    "                            boxpoints='all', jitter=0.3, pointpos=-1.8,\n",
    "                            hovertext=hovertext,\n",
    "                            hoverinfo='text',\n",
    "                            marker_color=genotype_colors[genotype],\n",
    "                            showlegend=False,\n",
    "                            visible=(metric_pair == self.discrimination_df['Metric Pair'].unique()[0]))\n",
    "                    )\n",
    "\n",
    "            # Update layout\n",
    "            fig.update_layout(\n",
    "                title=\"Discrimination Metric by Genotype\",\n",
    "                height=600,\n",
    "                width=1000,\n",
    "                boxmode='group',\n",
    "                xaxis_title=\"Genotype\",\n",
    "                yaxis_title=\"Discrimination Metric\"\n",
    "            )\n",
    "\n",
    "            # Add dropdown for metric selection\n",
    "            fig.update_layout(\n",
    "                updatemenus=[\n",
    "                    dict(\n",
    "                        buttons=list([\n",
    "                            dict(label=metric_pair,\n",
    "                                method=\"update\",\n",
    "                                args=[{\"visible\": [metric_pair in trace.name for trace in fig.data]},\n",
    "                                    {\"title\": f\"Discrimination Metric: {metric_pair}\"}])\n",
    "                            for metric_pair in self.discrimination_df['Metric Pair'].unique()\n",
    "                        ]),\n",
    "                        direction=\"down\",\n",
    "                        pad={\"r\": 10, \"t\": 10},\n",
    "                        showactive=True,\n",
    "                        x=0.1,\n",
    "                        xanchor=\"left\",\n",
    "                        y=1.1,\n",
    "                        yanchor=\"top\"\n",
    "                    ),\n",
    "                ]\n",
    "            )\n",
    "\n",
    "            return fig\n",
    "\n",
    "        def show_discrimination_plot(self):\n",
    "            fig = self.create_discrimination_plot()\n",
    "            fig.show()        \n",
    "            \n",
    "        def calculate_sex_dependent_discrimination_metric(self):\n",
    "            discrimination_data = []\n",
    "            for (genotype, sex), group in self.parent.genotype_sex_groups.groupby(level=['genotype', 'sex']):\n",
    "                print(f\"\\nProcessing group: Genotype = {genotype}, Sex = {sex}\")\n",
    "                for familiar_metric, stranger_metric in self.paired_metrics:\n",
    "                    familiar_values = group[familiar_metric]\n",
    "                    stranger_values = group[stranger_metric]\n",
    "                    \n",
    "                    discrimination = (stranger_values - familiar_values) / (stranger_values + familiar_values)\n",
    "                    \n",
    "                    for tag, age, disc_value in zip(group['tag'], group['age_in_months'], discrimination):\n",
    "                        print(f\"  Mouse {tag}: Discrimination = {disc_value:.4f}\")\n",
    "                        discrimination_data.append({\n",
    "                            'Genotype': genotype,\n",
    "                            'Sex': sex,\n",
    "                            'Metric Pair': f\"{familiar_metric} vs {stranger_metric}\",\n",
    "                            'Discrimination': disc_value,\n",
    "                            'Tag': tag,\n",
    "                            'Age': age\n",
    "                        })\n",
    "            \n",
    "            self.discrimination_df = pd.DataFrame(discrimination_data)\n",
    "            print(\"\\nFinal discrimination_df:\")\n",
    "            print(self.discrimination_df)\n",
    "        \n",
    "        def perform_sex_dependent_discrimination_ttest(self):\n",
    "            if self.discrimination_df is None:\n",
    "                print(\"No discrimination data available. Please run calculate_sex_dependent_discrimination_metric first.\")\n",
    "                return\n",
    "\n",
    "            ttest_results = []\n",
    "            for metric_pair in self.discrimination_df['Metric Pair'].unique():\n",
    "                # Compare genotypes (regardless of sex)\n",
    "                genotype1_data = self.discrimination_df[(self.discrimination_df['Genotype'] == self.parent.genotype_comparison.genotype1) & \n",
    "                                                        (self.discrimination_df['Metric Pair'] == metric_pair)]['Discrimination']\n",
    "                genotype2_data = self.discrimination_df[(self.discrimination_df['Genotype'] == self.parent.genotype_comparison.genotype2) & \n",
    "                                                        (self.discrimination_df['Metric Pair'] == metric_pair)]['Discrimination']\n",
    "                \n",
    "                t_stat, p_value = stats.ttest_ind(genotype1_data, genotype2_data)\n",
    "                \n",
    "                ttest_results.append({\n",
    "                    'Metric Pair': metric_pair,\n",
    "                    'Comparison': f\"{self.parent.genotype_comparison.genotype1} vs {self.parent.genotype_comparison.genotype2}\",\n",
    "                    't-statistic': t_stat,\n",
    "                    'p-value': p_value\n",
    "                })\n",
    "\n",
    "                # Compare males vs females within each genotype\n",
    "                for genotype in [self.parent.genotype_comparison.genotype1, self.parent.genotype_comparison.genotype2]:\n",
    "                    male_data = self.discrimination_df[(self.discrimination_df['Genotype'] == genotype) & \n",
    "                                                    (self.discrimination_df['Metric Pair'] == metric_pair) &\n",
    "                                                    (self.discrimination_df['Sex'] == 'M')]['Discrimination']\n",
    "                    female_data = self.discrimination_df[(self.discrimination_df['Genotype'] == genotype) & \n",
    "                                                        (self.discrimination_df['Metric Pair'] == metric_pair) &\n",
    "                                                        (self.discrimination_df['Sex'] == 'F')]['Discrimination']\n",
    "                    \n",
    "                    if len(male_data) > 0 and len(female_data) > 0:\n",
    "                        t_stat, p_value = stats.ttest_ind(male_data, female_data)\n",
    "                    else:\n",
    "                        t_stat, p_value = np.nan, np.nan\n",
    "                    \n",
    "                    ttest_results.append({\n",
    "                        'Metric Pair': metric_pair,\n",
    "                        'Comparison': f\"{genotype}: Male vs Female\",\n",
    "                        't-statistic': t_stat,\n",
    "                        'p-value': p_value\n",
    "                    })\n",
    "\n",
    "            self.discrimination_ttest_results = pd.DataFrame(ttest_results)\n",
    "        \n",
    "        def create_sex_dependent_discrimination_plot(self):\n",
    "            if self.discrimination_df is None:\n",
    "                print(\"No discrimination data available. Please run calculate_sex_dependent_discrimination_metric first.\")\n",
    "                return\n",
    "\n",
    "            fig = go.Figure()\n",
    "\n",
    "            genotype_colors = {\n",
    "                self.parent.genotype_comparison.genotype1: 'blue',\n",
    "                self.parent.genotype_comparison.genotype2: 'red'\n",
    "            }\n",
    "            sex_shapes = {'M': 'circle', 'F': 'square'}\n",
    "\n",
    "            # Print debug information\n",
    "            print(\"Unique Genotypes:\", self.discrimination_df['Genotype'].unique())\n",
    "            print(\"Unique Sexes:\", self.discrimination_df['Sex'].unique())\n",
    "            print(\"Unique Metric Pairs:\", self.discrimination_df['Metric Pair'].unique())\n",
    "\n",
    "            for metric_pair in self.discrimination_df['Metric Pair'].unique():\n",
    "                for genotype in self.discrimination_df['Genotype'].unique():\n",
    "                    for sex in self.discrimination_df['Sex'].unique():\n",
    "                        data = self.discrimination_df[(self.discrimination_df['Genotype'] == genotype) & \n",
    "                                                    (self.discrimination_df['Sex'] == sex) &\n",
    "                                                    (self.discrimination_df['Metric Pair'] == metric_pair)]\n",
    "                        \n",
    "                        # Print debug information\n",
    "                        print(f\"Data for {genotype} - {sex} - {metric_pair}:\")\n",
    "                        print(f\"Number of data points: {len(data)}\")\n",
    "                        if len(data) > 0:\n",
    "                            print(f\"Sample data: {data.head()}\")\n",
    "                        else:\n",
    "                            print(\"No data available for this combination\")\n",
    "\n",
    "                        if len(data) > 0:\n",
    "                            fig.add_trace(\n",
    "                                go.Box(x=[f\"{genotype} - {sex}\"] * len(data),\n",
    "                                    y=data['Discrimination'],\n",
    "                                    name=f\"{metric_pair} | {genotype} - {sex}\",\n",
    "                                    boxpoints='all', jitter=0.3, pointpos=-1.8,\n",
    "                                    marker_color=genotype_colors.get(genotype, 'gray'),\n",
    "                                    marker_symbol=sex_shapes.get(sex, 'circle'),\n",
    "                                    hovertext=[f\"Tag: {tag}<br>Age: {age:.2f} months<br>Discrimination: {disc:.4f}\" \n",
    "                                                for tag, age, disc in zip(data['Tag'], data['Age'], data['Discrimination'])],\n",
    "                                    hoverinfo='text',\n",
    "                                    showlegend=False,\n",
    "                                    visible=(metric_pair == self.discrimination_df['Metric Pair'].unique()[0]))\n",
    "                            )\n",
    "\n",
    "            fig.update_layout(\n",
    "                title=\"Sex-Dependent Discrimination Metric by Genotype\",\n",
    "                xaxis_title=\"Genotype - Sex\",\n",
    "                yaxis_title=\"Discrimination Metric\",\n",
    "                boxmode='group',\n",
    "                updatemenus=[{\n",
    "                    'buttons': [{'label': metric_pair,\n",
    "                                'method': 'update',\n",
    "                                'args': [{'visible': [metric_pair in trace.name for trace in fig.data]},\n",
    "                                        {'title': f\"Sex-Dependent Discrimination Metric: {metric_pair}\"}]}\n",
    "                                for metric_pair in self.discrimination_df['Metric Pair'].unique()],\n",
    "                    'direction': 'down',\n",
    "                    'showactive': True,\n",
    "                    'x': 0.1,\n",
    "                    'xanchor': 'left',\n",
    "                    'y': 1.15,\n",
    "                    'yanchor': 'top'\n",
    "                }]\n",
    "            )\n",
    "\n",
    "            return fig\n",
    "\n",
    "        def show_sex_dependent_discrimination_plot(self):\n",
    "            fig = self.create_sex_dependent_discrimination_plot()\n",
    "            fig.show()\n",
    "\n",
    "        def inspect_genotype_sex_groups(self):\n",
    "            print(\"Type of genotype_sex_groups:\", type(self.parent.genotype_sex_groups))\n",
    "            print(\"Keys in genotype_sex_groups:\")\n",
    "            for key in self.parent.genotype_sex_groups.keys():\n",
    "                print(key)\n",
    "            print(\"\\nSample of first group:\")\n",
    "            first_key = next(iter(self.parent.genotype_sex_groups))\n",
    "            print(self.parent.genotype_sex_groups[first_key].head())\n",
    "\n",
    "        def prepare_metric_pair_data(self):\n",
    "            metric_pair_data = []\n",
    "            for (genotype, sex), group in self.parent.genotype_sex_groups.groupby(level=['genotype', 'sex']):\n",
    "                for familiar_metric, stranger_metric in self.paired_metrics:\n",
    "                    for tag, age, familiar_value, stranger_value in zip(\n",
    "                        group['tag'], \n",
    "                        group['age_in_months'], \n",
    "                        group[familiar_metric], \n",
    "                        group[stranger_metric]\n",
    "                    ):\n",
    "                        metric_pair_data.append({\n",
    "                            'Genotype': genotype,\n",
    "                            'Sex': sex,\n",
    "                            'Metric Pair': f\"{familiar_metric} vs {stranger_metric}\",\n",
    "                            'Familiar Value': familiar_value,\n",
    "                            'Stranger Value': stranger_value,\n",
    "                            'Tag': tag,\n",
    "                            'Age': age\n",
    "                        })\n",
    "            \n",
    "            self.metric_pair_df = pd.DataFrame(metric_pair_data)\n",
    "\n",
    "        def create_sex_based_metric_pair_plot(self):\n",
    "            if self.metric_pair_df is None:\n",
    "                print(\"No metric pair data available. Please run prepare_metric_pair_data first.\")\n",
    "                return\n",
    "\n",
    "            genotype_colors = {\n",
    "                self.parent.genotype_comparison.genotype1: 'blue',\n",
    "                self.parent.genotype_comparison.genotype2: 'red'\n",
    "            }\n",
    "\n",
    "            fig = sp.make_subplots(rows=1, cols=2, subplot_titles=('Male', 'Female'))\n",
    "\n",
    "            for metric_pair in self.metric_pair_df['Metric Pair'].unique():\n",
    "                for i, sex in enumerate(['M', 'F'], 1):\n",
    "                    for genotype in self.metric_pair_df['Genotype'].unique():\n",
    "                        data = self.metric_pair_df[(self.metric_pair_df['Genotype'] == genotype) & \n",
    "                                                (self.metric_pair_df['Sex'] == sex) &\n",
    "                                                (self.metric_pair_df['Metric Pair'] == metric_pair)]\n",
    "                        \n",
    "                        if len(data) > 0:\n",
    "                            fig.add_trace(\n",
    "                                go.Scatter(\n",
    "                                    x=data['Familiar Value'],\n",
    "                                    y=data['Stranger Value'],\n",
    "                                    mode='markers',\n",
    "                                    name=f\"{metric_pair} | {genotype}\",\n",
    "                                    marker=dict(\n",
    "                                        color=genotype_colors.get(genotype, 'gray'),\n",
    "                                        size=10\n",
    "                                    ),\n",
    "                                    hovertext=[f\"Tag: {tag}<br>Age: {age:.2f} months<br>Familiar: {fam:.2f}<br>Stranger: {str:.2f}\" \n",
    "                                            for tag, age, fam, str in zip(data['Tag'], data['Age'], \n",
    "                                                                            data['Familiar Value'], data['Stranger Value'])],\n",
    "                                    hoverinfo='text',\n",
    "                                    visible=(metric_pair == self.metric_pair_df['Metric Pair'].unique()[0]),\n",
    "                                    showlegend=(i == 1)  # Only show legend for the first column (Male)\n",
    "                                ),\n",
    "                                row=1, col=i\n",
    "                            )\n",
    "\n",
    "                # Add diagonal line for each subplot\n",
    "                max_value = max(self.metric_pair_df['Familiar Value'].max(), self.metric_pair_df['Stranger Value'].max())\n",
    "                for i in range(1, 3):\n",
    "                    fig.add_trace(\n",
    "                        go.Scatter(\n",
    "                            x=[0, max_value],\n",
    "                            y=[0, max_value],\n",
    "                            mode='lines',\n",
    "                            name='Equal Line',\n",
    "                            line=dict(color='black', dash='dash'),\n",
    "                            showlegend=False,\n",
    "                            visible=(metric_pair == self.metric_pair_df['Metric Pair'].unique()[0])\n",
    "                        ),\n",
    "                        row=1, col=i\n",
    "                    )\n",
    "\n",
    "            fig.update_layout(\n",
    "                title=\"Sex-based Familiar vs Stranger Metric Comparison\",\n",
    "                height=600,\n",
    "                width=1200,\n",
    "                updatemenus=[{\n",
    "                    'buttons': [{'label': metric_pair,\n",
    "                                'method': 'update',\n",
    "                                'args': [{'visible': [metric_pair in trace.name or \n",
    "                                                    (trace.name == 'Equal Line' and metric_pair == self.metric_pair_df['Metric Pair'].unique()[0])\n",
    "                                                    for trace in fig.data]},\n",
    "                                        {'title': f\"Sex-based Familiar vs Stranger: {metric_pair}\"}]}\n",
    "                                for metric_pair in self.metric_pair_df['Metric Pair'].unique()],\n",
    "                    'direction': 'down',\n",
    "                    'showactive': True,\n",
    "                    'x': 0.1,\n",
    "                    'xanchor': 'left',\n",
    "                    'y': 1.15,\n",
    "                    'yanchor': 'top'\n",
    "                }]\n",
    "            )\n",
    "\n",
    "            fig.update_xaxes(title_text=\"Familiar Value\", row=1, col=1)\n",
    "            fig.update_xaxes(title_text=\"Familiar Value\", row=1, col=2)\n",
    "            fig.update_yaxes(title_text=\"Stranger Value\", row=1, col=1)\n",
    "            fig.update_yaxes(title_text=\"Stranger Value\", row=1, col=2)\n",
    "\n",
    "            return fig\n",
    "\n",
    "        def show_sex_based_metric_pair_plot(self):\n",
    "            fig = self.create_sex_based_metric_pair_plot()\n",
    "            fig.show()"
   ]
  },
  {
   "cell_type": "code",
   "execution_count": 558,
   "id": "1abf552e-b615-4139-927c-369ae56d7b9b",
   "metadata": {},
   "outputs": [
    {
     "name": "stdout",
     "output_type": "stream",
     "text": [
      "rename_columns method called.\n",
      "Columns before renaming: ['cohort', 'tag', 'toe', 'sex', 'dam', 'DOB', 'genotype', 'treatment', 'summouse1', 'summouse2', 'avgmouse1', 'avgmouse2', 'boutmouse1', 'boutmouse2', 'date tested ']\n",
      "Columns after renaming: ['cohort', 'tag', 'toe', 'sex', 'dam', 'DOB', 'genotype', 'treatment', 'interactiontime_sum_familiar', 'interactiontime_sum_stranger', 'interactiontime_avg_familiar', 'interactiontime_avg_stranger', 'approach_sum_familiar', 'approach_sum_stranger', 'date tested ']\n"
     ]
    }
   ],
   "source": [
    "# Initialize and process data\n",
    "mouse_analysis = EzPzMouseAnalytics(file_path)"
   ]
  },
  {
   "cell_type": "markdown",
   "id": "514dc99a",
   "metadata": {},
   "source": []
  },
  {
   "cell_type": "code",
   "execution_count": 559,
   "id": "3e71845a",
   "metadata": {},
   "outputs": [
    {
     "data": {
      "text/html": [
       "<div>\n",
       "<style scoped>\n",
       "    .dataframe tbody tr th:only-of-type {\n",
       "        vertical-align: middle;\n",
       "    }\n",
       "\n",
       "    .dataframe tbody tr th {\n",
       "        vertical-align: top;\n",
       "    }\n",
       "\n",
       "    .dataframe thead th {\n",
       "        text-align: right;\n",
       "    }\n",
       "</style>\n",
       "<table border=\"1\" class=\"dataframe\">\n",
       "  <thead>\n",
       "    <tr style=\"text-align: right;\">\n",
       "      <th></th>\n",
       "      <th></th>\n",
       "      <th>cohort</th>\n",
       "      <th>tag</th>\n",
       "      <th>toe</th>\n",
       "      <th>sex</th>\n",
       "      <th>dam</th>\n",
       "      <th>DOB</th>\n",
       "      <th>treatment</th>\n",
       "      <th>interactiontime_sum_familiar</th>\n",
       "      <th>interactiontime_sum_stranger</th>\n",
       "      <th>interactiontime_avg_familiar</th>\n",
       "      <th>interactiontime_avg_stranger</th>\n",
       "      <th>approach_sum_familiar</th>\n",
       "      <th>approach_sum_stranger</th>\n",
       "      <th>datetested</th>\n",
       "      <th>age_in_months</th>\n",
       "    </tr>\n",
       "    <tr>\n",
       "      <th>genotype</th>\n",
       "      <th></th>\n",
       "      <th></th>\n",
       "      <th></th>\n",
       "      <th></th>\n",
       "      <th></th>\n",
       "      <th></th>\n",
       "      <th></th>\n",
       "      <th></th>\n",
       "      <th></th>\n",
       "      <th></th>\n",
       "      <th></th>\n",
       "      <th></th>\n",
       "      <th></th>\n",
       "      <th></th>\n",
       "      <th></th>\n",
       "      <th></th>\n",
       "    </tr>\n",
       "  </thead>\n",
       "  <tbody>\n",
       "    <tr>\n",
       "      <th rowspan=\"5\" valign=\"top\">Rbp4-LMO3</th>\n",
       "      <th>0</th>\n",
       "      <td>3</td>\n",
       "      <td>3427</td>\n",
       "      <td>3</td>\n",
       "      <td>M</td>\n",
       "      <td>3244</td>\n",
       "      <td>2023-06-10</td>\n",
       "      <td>CTZ</td>\n",
       "      <td>26</td>\n",
       "      <td>42</td>\n",
       "      <td>2.600000</td>\n",
       "      <td>4.666667</td>\n",
       "      <td>10</td>\n",
       "      <td>9.000000</td>\n",
       "      <td>2023-11-29</td>\n",
       "      <td>5.65</td>\n",
       "    </tr>\n",
       "    <tr>\n",
       "      <th>3</th>\n",
       "      <td>4</td>\n",
       "      <td>3435</td>\n",
       "      <td>3</td>\n",
       "      <td>M</td>\n",
       "      <td>3426</td>\n",
       "      <td>2023-06-20</td>\n",
       "      <td>CTZ</td>\n",
       "      <td>12</td>\n",
       "      <td>36</td>\n",
       "      <td>2.400000</td>\n",
       "      <td>7.200000</td>\n",
       "      <td>5</td>\n",
       "      <td>5.000000</td>\n",
       "      <td>2024-05-08</td>\n",
       "      <td>10.61</td>\n",
       "    </tr>\n",
       "    <tr>\n",
       "      <th>7</th>\n",
       "      <td>6</td>\n",
       "      <td>3515</td>\n",
       "      <td>3</td>\n",
       "      <td>M</td>\n",
       "      <td>3377</td>\n",
       "      <td>2023-08-10</td>\n",
       "      <td>CTZ</td>\n",
       "      <td>10</td>\n",
       "      <td>0</td>\n",
       "      <td>2.000000</td>\n",
       "      <td>0.000000</td>\n",
       "      <td>5</td>\n",
       "      <td>0.000000</td>\n",
       "      <td>2024-06-03</td>\n",
       "      <td>9.79</td>\n",
       "    </tr>\n",
       "    <tr>\n",
       "      <th>10</th>\n",
       "      <td>6</td>\n",
       "      <td>3518</td>\n",
       "      <td>4</td>\n",
       "      <td>M</td>\n",
       "      <td>3377</td>\n",
       "      <td>2023-08-10</td>\n",
       "      <td>CTZ</td>\n",
       "      <td>22</td>\n",
       "      <td>17</td>\n",
       "      <td>2.444444</td>\n",
       "      <td>6.000000</td>\n",
       "      <td>9</td>\n",
       "      <td>2.833333</td>\n",
       "      <td>2024-06-03</td>\n",
       "      <td>9.79</td>\n",
       "    </tr>\n",
       "    <tr>\n",
       "      <th>11</th>\n",
       "      <td>7</td>\n",
       "      <td>3522</td>\n",
       "      <td>2</td>\n",
       "      <td>M</td>\n",
       "      <td>3378</td>\n",
       "      <td>2023-08-14</td>\n",
       "      <td>CTZ</td>\n",
       "      <td>27</td>\n",
       "      <td>1</td>\n",
       "      <td>2.454545</td>\n",
       "      <td>1.000000</td>\n",
       "      <td>11</td>\n",
       "      <td>1.000000</td>\n",
       "      <td>2024-06-04</td>\n",
       "      <td>9.69</td>\n",
       "    </tr>\n",
       "  </tbody>\n",
       "</table>\n",
       "</div>"
      ],
      "text/plain": [
       "              cohort   tag  toe sex   dam        DOB treatment  \\\n",
       "genotype                                                         \n",
       "Rbp4-LMO3 0        3  3427    3   M  3244 2023-06-10       CTZ   \n",
       "          3        4  3435    3  M   3426 2023-06-20       CTZ   \n",
       "          7        6  3515    3   M  3377 2023-08-10       CTZ   \n",
       "          10       6  3518    4   M  3377 2023-08-10       CTZ   \n",
       "          11       7  3522    2   M  3378 2023-08-14       CTZ   \n",
       "\n",
       "              interactiontime_sum_familiar  interactiontime_sum_stranger  \\\n",
       "genotype                                                                   \n",
       "Rbp4-LMO3 0                             26                            42   \n",
       "          3                             12                            36   \n",
       "          7                             10                             0   \n",
       "          10                            22                            17   \n",
       "          11                            27                             1   \n",
       "\n",
       "              interactiontime_avg_familiar  interactiontime_avg_stranger  \\\n",
       "genotype                                                                   \n",
       "Rbp4-LMO3 0                       2.600000                      4.666667   \n",
       "          3                       2.400000                      7.200000   \n",
       "          7                       2.000000                      0.000000   \n",
       "          10                      2.444444                      6.000000   \n",
       "          11                      2.454545                      1.000000   \n",
       "\n",
       "              approach_sum_familiar  approach_sum_stranger datetested  \\\n",
       "genotype                                                                \n",
       "Rbp4-LMO3 0                      10               9.000000 2023-11-29   \n",
       "          3                       5               5.000000 2024-05-08   \n",
       "          7                       5               0.000000 2024-06-03   \n",
       "          10                      9               2.833333 2024-06-03   \n",
       "          11                     11               1.000000 2024-06-04   \n",
       "\n",
       "              age_in_months  \n",
       "genotype                     \n",
       "Rbp4-LMO3 0            5.65  \n",
       "          3           10.61  \n",
       "          7            9.79  \n",
       "          10           9.79  \n",
       "          11           9.69  "
      ]
     },
     "execution_count": 559,
     "metadata": {},
     "output_type": "execute_result"
    }
   ],
   "source": [
    "mouse_analysis.genotype_nested_df.head()"
   ]
  },
  {
   "cell_type": "code",
   "execution_count": 560,
   "id": "7b991932",
   "metadata": {},
   "outputs": [
    {
     "data": {
      "text/html": [
       "<div>\n",
       "<style scoped>\n",
       "    .dataframe tbody tr th:only-of-type {\n",
       "        vertical-align: middle;\n",
       "    }\n",
       "\n",
       "    .dataframe tbody tr th {\n",
       "        vertical-align: top;\n",
       "    }\n",
       "\n",
       "    .dataframe thead th {\n",
       "        text-align: right;\n",
       "    }\n",
       "</style>\n",
       "<table border=\"1\" class=\"dataframe\">\n",
       "  <thead>\n",
       "    <tr style=\"text-align: right;\">\n",
       "      <th></th>\n",
       "      <th></th>\n",
       "      <th></th>\n",
       "      <th>cohort</th>\n",
       "      <th>tag</th>\n",
       "      <th>toe</th>\n",
       "      <th>dam</th>\n",
       "      <th>DOB</th>\n",
       "      <th>treatment</th>\n",
       "      <th>interactiontime_sum_familiar</th>\n",
       "      <th>interactiontime_sum_stranger</th>\n",
       "      <th>interactiontime_avg_familiar</th>\n",
       "      <th>interactiontime_avg_stranger</th>\n",
       "      <th>approach_sum_familiar</th>\n",
       "      <th>approach_sum_stranger</th>\n",
       "      <th>datetested</th>\n",
       "      <th>age_in_months</th>\n",
       "    </tr>\n",
       "    <tr>\n",
       "      <th>genotype</th>\n",
       "      <th>sex</th>\n",
       "      <th></th>\n",
       "      <th></th>\n",
       "      <th></th>\n",
       "      <th></th>\n",
       "      <th></th>\n",
       "      <th></th>\n",
       "      <th></th>\n",
       "      <th></th>\n",
       "      <th></th>\n",
       "      <th></th>\n",
       "      <th></th>\n",
       "      <th></th>\n",
       "      <th></th>\n",
       "      <th></th>\n",
       "      <th></th>\n",
       "    </tr>\n",
       "  </thead>\n",
       "  <tbody>\n",
       "    <tr>\n",
       "      <th rowspan=\"5\" valign=\"top\">Rbp4-LMO3</th>\n",
       "      <th rowspan=\"5\" valign=\"top\">F</th>\n",
       "      <th>22</th>\n",
       "      <td>3</td>\n",
       "      <td>3440</td>\n",
       "      <td>1</td>\n",
       "      <td>3244</td>\n",
       "      <td>2023-06-10</td>\n",
       "      <td>CTZ</td>\n",
       "      <td>13</td>\n",
       "      <td>15</td>\n",
       "      <td>4.333333</td>\n",
       "      <td>3.750000</td>\n",
       "      <td>3</td>\n",
       "      <td>4.0</td>\n",
       "      <td>2024-03-28</td>\n",
       "      <td>9.59</td>\n",
       "    </tr>\n",
       "    <tr>\n",
       "      <th>23</th>\n",
       "      <td>4</td>\n",
       "      <td>3437</td>\n",
       "      <td>9</td>\n",
       "      <td>3246</td>\n",
       "      <td>2023-06-20</td>\n",
       "      <td>CTZ</td>\n",
       "      <td>12</td>\n",
       "      <td>14</td>\n",
       "      <td>2.400000</td>\n",
       "      <td>2.800000</td>\n",
       "      <td>5</td>\n",
       "      <td>5.0</td>\n",
       "      <td>2024-05-07</td>\n",
       "      <td>10.58</td>\n",
       "    </tr>\n",
       "    <tr>\n",
       "      <th>25</th>\n",
       "      <td>4</td>\n",
       "      <td>3439</td>\n",
       "      <td>7</td>\n",
       "      <td>3246</td>\n",
       "      <td>2023-06-20</td>\n",
       "      <td>CTZ</td>\n",
       "      <td>22</td>\n",
       "      <td>34</td>\n",
       "      <td>2.750000</td>\n",
       "      <td>3.400000</td>\n",
       "      <td>8</td>\n",
       "      <td>10.0</td>\n",
       "      <td>2024-05-07</td>\n",
       "      <td>10.58</td>\n",
       "    </tr>\n",
       "    <tr>\n",
       "      <th>28</th>\n",
       "      <td>6</td>\n",
       "      <td>3520</td>\n",
       "      <td>7</td>\n",
       "      <td>3377</td>\n",
       "      <td>2023-08-10</td>\n",
       "      <td>CTZ</td>\n",
       "      <td>19</td>\n",
       "      <td>25</td>\n",
       "      <td>2.375000</td>\n",
       "      <td>2.083333</td>\n",
       "      <td>8</td>\n",
       "      <td>12.0</td>\n",
       "      <td>2024-05-28</td>\n",
       "      <td>9.59</td>\n",
       "    </tr>\n",
       "    <tr>\n",
       "      <th>31</th>\n",
       "      <td>7</td>\n",
       "      <td>3525</td>\n",
       "      <td>1</td>\n",
       "      <td>3378</td>\n",
       "      <td>2023-08-14</td>\n",
       "      <td>CTZ</td>\n",
       "      <td>21</td>\n",
       "      <td>16</td>\n",
       "      <td>1.909091</td>\n",
       "      <td>3.200000</td>\n",
       "      <td>11</td>\n",
       "      <td>5.0</td>\n",
       "      <td>2024-07-02</td>\n",
       "      <td>10.61</td>\n",
       "    </tr>\n",
       "  </tbody>\n",
       "</table>\n",
       "</div>"
      ],
      "text/plain": [
       "                  cohort   tag  toe   dam        DOB treatment  \\\n",
       "genotype  sex                                                    \n",
       "Rbp4-LMO3 F   22       3  3440    1  3244 2023-06-10       CTZ   \n",
       "              23       4  3437    9  3246 2023-06-20       CTZ   \n",
       "              25       4  3439    7  3246 2023-06-20       CTZ   \n",
       "              28       6  3520    7  3377 2023-08-10       CTZ   \n",
       "              31       7  3525    1  3378 2023-08-14       CTZ   \n",
       "\n",
       "                  interactiontime_sum_familiar  interactiontime_sum_stranger  \\\n",
       "genotype  sex                                                                  \n",
       "Rbp4-LMO3 F   22                            13                            15   \n",
       "              23                            12                            14   \n",
       "              25                            22                            34   \n",
       "              28                            19                            25   \n",
       "              31                            21                            16   \n",
       "\n",
       "                  interactiontime_avg_familiar  interactiontime_avg_stranger  \\\n",
       "genotype  sex                                                                  \n",
       "Rbp4-LMO3 F   22                      4.333333                      3.750000   \n",
       "              23                      2.400000                      2.800000   \n",
       "              25                      2.750000                      3.400000   \n",
       "              28                      2.375000                      2.083333   \n",
       "              31                      1.909091                      3.200000   \n",
       "\n",
       "                  approach_sum_familiar  approach_sum_stranger datetested  \\\n",
       "genotype  sex                                                               \n",
       "Rbp4-LMO3 F   22                      3                    4.0 2024-03-28   \n",
       "              23                      5                    5.0 2024-05-07   \n",
       "              25                      8                   10.0 2024-05-07   \n",
       "              28                      8                   12.0 2024-05-28   \n",
       "              31                     11                    5.0 2024-07-02   \n",
       "\n",
       "                  age_in_months  \n",
       "genotype  sex                    \n",
       "Rbp4-LMO3 F   22           9.59  \n",
       "              23          10.58  \n",
       "              25          10.58  \n",
       "              28           9.59  \n",
       "              31          10.61  "
      ]
     },
     "execution_count": 560,
     "metadata": {},
     "output_type": "execute_result"
    }
   ],
   "source": [
    "mouse_analysis.genotype_sex_groups.head()"
   ]
  },
  {
   "cell_type": "code",
   "execution_count": 561,
   "id": "d0132a61",
   "metadata": {},
   "outputs": [
    {
     "name": "stdout",
     "output_type": "stream",
     "text": [
      "Paired metrics: [('interactiontime_sum_familiar', 'interactiontime_sum_stranger'), ('interactiontime_avg_familiar', 'interactiontime_avg_stranger'), ('approach_sum_familiar', 'approach_sum_stranger')]\n",
      "Genotypes: Rbp4-LMO3, wt-LMO3\n",
      "Processing genotype: Rbp4-LMO3\n",
      "Metrics: interactiontime_sum_familiar vs interactiontime_sum_stranger\n",
      "Data shape for Rbp4-LMO3: (23, 15)\n",
      "Columns in data: Index(['cohort', 'tag', 'toe', 'sex', 'dam', 'DOB', 'treatment',\n",
      "       'interactiontime_sum_familiar', 'interactiontime_sum_stranger',\n",
      "       'interactiontime_avg_familiar', 'interactiontime_avg_stranger',\n",
      "       'approach_sum_familiar', 'approach_sum_stranger', 'datetested',\n",
      "       'age_in_months'],\n",
      "      dtype='object')\n",
      "Familiar data: 0     26\n",
      "3     12\n",
      "7     10\n",
      "10    22\n",
      "11    27\n",
      "Name: interactiontime_sum_familiar, dtype: int64\n",
      "Stranger data: 0     42\n",
      "3     36\n",
      "7      0\n",
      "10    17\n",
      "11     1\n",
      "Name: interactiontime_sum_stranger, dtype: int64\n",
      "t-statistic: -0.786834341049485, p-value: 0.4397732267324479\n",
      "Processing genotype: wt-LMO3\n",
      "Metrics: interactiontime_sum_familiar vs interactiontime_sum_stranger\n",
      "Data shape for wt-LMO3: (23, 15)\n",
      "Columns in data: Index(['cohort', 'tag', 'toe', 'sex', 'dam', 'DOB', 'treatment',\n",
      "       'interactiontime_sum_familiar', 'interactiontime_sum_stranger',\n",
      "       'interactiontime_avg_familiar', 'interactiontime_avg_stranger',\n",
      "       'approach_sum_familiar', 'approach_sum_stranger', 'datetested',\n",
      "       'age_in_months'],\n",
      "      dtype='object')\n",
      "Familiar data: 1    51\n",
      "2    42\n",
      "4    47\n",
      "5    74\n",
      "6    23\n",
      "Name: interactiontime_sum_familiar, dtype: int64\n",
      "Stranger data: 1    52\n",
      "2    60\n",
      "4    65\n",
      "5    47\n",
      "6     5\n",
      "Name: interactiontime_sum_stranger, dtype: int64\n",
      "t-statistic: -0.4548793246979037, p-value: 0.6536529952764363\n",
      "Processing genotype: Rbp4-LMO3\n",
      "Metrics: interactiontime_avg_familiar vs interactiontime_avg_stranger\n",
      "Data shape for Rbp4-LMO3: (23, 15)\n",
      "Columns in data: Index(['cohort', 'tag', 'toe', 'sex', 'dam', 'DOB', 'treatment',\n",
      "       'interactiontime_sum_familiar', 'interactiontime_sum_stranger',\n",
      "       'interactiontime_avg_familiar', 'interactiontime_avg_stranger',\n",
      "       'approach_sum_familiar', 'approach_sum_stranger', 'datetested',\n",
      "       'age_in_months'],\n",
      "      dtype='object')\n",
      "Familiar data: 0     2.600000\n",
      "3     2.400000\n",
      "7     2.000000\n",
      "10    2.444444\n",
      "11    2.454545\n",
      "Name: interactiontime_avg_familiar, dtype: float64\n",
      "Stranger data: 0     4.666667\n",
      "3     7.200000\n",
      "7     0.000000\n",
      "10    6.000000\n",
      "11    1.000000\n",
      "Name: interactiontime_avg_stranger, dtype: float64\n",
      "t-statistic: -1.782365785685107, p-value: 0.08849747963798318\n",
      "Processing genotype: wt-LMO3\n",
      "Metrics: interactiontime_avg_familiar vs interactiontime_avg_stranger\n",
      "Data shape for wt-LMO3: (23, 15)\n",
      "Columns in data: Index(['cohort', 'tag', 'toe', 'sex', 'dam', 'DOB', 'treatment',\n",
      "       'interactiontime_sum_familiar', 'interactiontime_sum_stranger',\n",
      "       'interactiontime_avg_familiar', 'interactiontime_avg_stranger',\n",
      "       'approach_sum_familiar', 'approach_sum_stranger', 'datetested',\n",
      "       'age_in_months'],\n",
      "      dtype='object')\n",
      "Familiar data: 1     5.100000\n",
      "2    10.500000\n",
      "4     5.875000\n",
      "5     8.222222\n",
      "6     2.875000\n",
      "Name: interactiontime_avg_familiar, dtype: float64\n",
      "Stranger data: 1    5.777778\n",
      "2    4.615385\n",
      "4    5.909091\n",
      "5    9.400000\n",
      "6    1.666667\n",
      "Name: interactiontime_avg_stranger, dtype: float64\n",
      "t-statistic: 0.5467351587922203, p-value: 0.5900636565012509\n",
      "Processing genotype: Rbp4-LMO3\n",
      "Metrics: approach_sum_familiar vs approach_sum_stranger\n",
      "Data shape for Rbp4-LMO3: (23, 15)\n",
      "Columns in data: Index(['cohort', 'tag', 'toe', 'sex', 'dam', 'DOB', 'treatment',\n",
      "       'interactiontime_sum_familiar', 'interactiontime_sum_stranger',\n",
      "       'interactiontime_avg_familiar', 'interactiontime_avg_stranger',\n",
      "       'approach_sum_familiar', 'approach_sum_stranger', 'datetested',\n",
      "       'age_in_months'],\n",
      "      dtype='object')\n",
      "Familiar data: 0     10\n",
      "3      5\n",
      "7      5\n",
      "10     9\n",
      "11    11\n",
      "Name: approach_sum_familiar, dtype: int64\n",
      "Stranger data: 0     9.000000\n",
      "3     5.000000\n",
      "7     0.000000\n",
      "10    2.833333\n",
      "11    1.000000\n",
      "Name: approach_sum_stranger, dtype: float64\n",
      "t-statistic: 0.4828397776241403, p-value: 0.6339794627643548\n",
      "Processing genotype: wt-LMO3\n",
      "Metrics: approach_sum_familiar vs approach_sum_stranger\n",
      "Data shape for wt-LMO3: (23, 15)\n",
      "Columns in data: Index(['cohort', 'tag', 'toe', 'sex', 'dam', 'DOB', 'treatment',\n",
      "       'interactiontime_sum_familiar', 'interactiontime_sum_stranger',\n",
      "       'interactiontime_avg_familiar', 'interactiontime_avg_stranger',\n",
      "       'approach_sum_familiar', 'approach_sum_stranger', 'datetested',\n",
      "       'age_in_months'],\n",
      "      dtype='object')\n",
      "Familiar data: 1    10\n",
      "2     4\n",
      "4     8\n",
      "5     9\n",
      "6     8\n",
      "Name: approach_sum_familiar, dtype: int64\n",
      "Stranger data: 1     9.0\n",
      "2    13.0\n",
      "4    11.0\n",
      "5     5.0\n",
      "6     3.0\n",
      "Name: approach_sum_stranger, dtype: float64\n",
      "t-statistic: -1.4268077594686506, p-value: 0.16767437047025283\n",
      "Final results shape: (6, 5)\n"
     ]
    },
    {
     "data": {
      "text/html": [
       "<div>\n",
       "<style scoped>\n",
       "    .dataframe tbody tr th:only-of-type {\n",
       "        vertical-align: middle;\n",
       "    }\n",
       "\n",
       "    .dataframe tbody tr th {\n",
       "        vertical-align: top;\n",
       "    }\n",
       "\n",
       "    .dataframe thead th {\n",
       "        text-align: right;\n",
       "    }\n",
       "</style>\n",
       "<table border=\"1\" class=\"dataframe\">\n",
       "  <thead>\n",
       "    <tr style=\"text-align: right;\">\n",
       "      <th></th>\n",
       "      <th>genotype</th>\n",
       "      <th>familiar_metric</th>\n",
       "      <th>stranger_metric</th>\n",
       "      <th>t_statistic</th>\n",
       "      <th>p_value</th>\n",
       "    </tr>\n",
       "  </thead>\n",
       "  <tbody>\n",
       "    <tr>\n",
       "      <th>0</th>\n",
       "      <td>Rbp4-LMO3</td>\n",
       "      <td>interactiontime_sum_familiar</td>\n",
       "      <td>interactiontime_sum_stranger</td>\n",
       "      <td>-0.786834</td>\n",
       "      <td>0.439773</td>\n",
       "    </tr>\n",
       "    <tr>\n",
       "      <th>1</th>\n",
       "      <td>wt-LMO3</td>\n",
       "      <td>interactiontime_sum_familiar</td>\n",
       "      <td>interactiontime_sum_stranger</td>\n",
       "      <td>-0.454879</td>\n",
       "      <td>0.653653</td>\n",
       "    </tr>\n",
       "    <tr>\n",
       "      <th>2</th>\n",
       "      <td>Rbp4-LMO3</td>\n",
       "      <td>interactiontime_avg_familiar</td>\n",
       "      <td>interactiontime_avg_stranger</td>\n",
       "      <td>-1.782366</td>\n",
       "      <td>0.088497</td>\n",
       "    </tr>\n",
       "    <tr>\n",
       "      <th>3</th>\n",
       "      <td>wt-LMO3</td>\n",
       "      <td>interactiontime_avg_familiar</td>\n",
       "      <td>interactiontime_avg_stranger</td>\n",
       "      <td>0.546735</td>\n",
       "      <td>0.590064</td>\n",
       "    </tr>\n",
       "    <tr>\n",
       "      <th>4</th>\n",
       "      <td>Rbp4-LMO3</td>\n",
       "      <td>approach_sum_familiar</td>\n",
       "      <td>approach_sum_stranger</td>\n",
       "      <td>0.482840</td>\n",
       "      <td>0.633979</td>\n",
       "    </tr>\n",
       "    <tr>\n",
       "      <th>5</th>\n",
       "      <td>wt-LMO3</td>\n",
       "      <td>approach_sum_familiar</td>\n",
       "      <td>approach_sum_stranger</td>\n",
       "      <td>-1.426808</td>\n",
       "      <td>0.167674</td>\n",
       "    </tr>\n",
       "  </tbody>\n",
       "</table>\n",
       "</div>"
      ],
      "text/plain": [
       "    genotype               familiar_metric               stranger_metric  \\\n",
       "0  Rbp4-LMO3  interactiontime_sum_familiar  interactiontime_sum_stranger   \n",
       "1    wt-LMO3  interactiontime_sum_familiar  interactiontime_sum_stranger   \n",
       "2  Rbp4-LMO3  interactiontime_avg_familiar  interactiontime_avg_stranger   \n",
       "3    wt-LMO3  interactiontime_avg_familiar  interactiontime_avg_stranger   \n",
       "4  Rbp4-LMO3         approach_sum_familiar         approach_sum_stranger   \n",
       "5    wt-LMO3         approach_sum_familiar         approach_sum_stranger   \n",
       "\n",
       "   t_statistic   p_value  \n",
       "0    -0.786834  0.439773  \n",
       "1    -0.454879  0.653653  \n",
       "2    -1.782366  0.088497  \n",
       "3     0.546735  0.590064  \n",
       "4     0.482840  0.633979  \n",
       "5    -1.426808  0.167674  "
      ]
     },
     "execution_count": 561,
     "metadata": {},
     "output_type": "execute_result"
    }
   ],
   "source": [
    "mouse_analysis.analysis.compare_genotypes()"
   ]
  },
  {
   "cell_type": "code",
   "execution_count": 562,
   "id": "8ca5a5c0",
   "metadata": {},
   "outputs": [
    {
     "data": {
      "text/html": [
       "<div>\n",
       "<style scoped>\n",
       "    .dataframe tbody tr th:only-of-type {\n",
       "        vertical-align: middle;\n",
       "    }\n",
       "\n",
       "    .dataframe tbody tr th {\n",
       "        vertical-align: top;\n",
       "    }\n",
       "\n",
       "    .dataframe thead th {\n",
       "        text-align: right;\n",
       "    }\n",
       "</style>\n",
       "<table border=\"1\" class=\"dataframe\">\n",
       "  <thead>\n",
       "    <tr style=\"text-align: right;\">\n",
       "      <th></th>\n",
       "      <th></th>\n",
       "      <th>cohort</th>\n",
       "      <th>tag</th>\n",
       "      <th>toe</th>\n",
       "      <th>sex</th>\n",
       "      <th>dam</th>\n",
       "      <th>DOB</th>\n",
       "      <th>treatment</th>\n",
       "      <th>interactiontime_sum_familiar</th>\n",
       "      <th>interactiontime_sum_stranger</th>\n",
       "      <th>interactiontime_avg_familiar</th>\n",
       "      <th>interactiontime_avg_stranger</th>\n",
       "      <th>approach_sum_familiar</th>\n",
       "      <th>approach_sum_stranger</th>\n",
       "      <th>datetested</th>\n",
       "      <th>age_in_months</th>\n",
       "    </tr>\n",
       "    <tr>\n",
       "      <th>genotype</th>\n",
       "      <th></th>\n",
       "      <th></th>\n",
       "      <th></th>\n",
       "      <th></th>\n",
       "      <th></th>\n",
       "      <th></th>\n",
       "      <th></th>\n",
       "      <th></th>\n",
       "      <th></th>\n",
       "      <th></th>\n",
       "      <th></th>\n",
       "      <th></th>\n",
       "      <th></th>\n",
       "      <th></th>\n",
       "      <th></th>\n",
       "      <th></th>\n",
       "    </tr>\n",
       "  </thead>\n",
       "  <tbody>\n",
       "    <tr>\n",
       "      <th rowspan=\"23\" valign=\"top\">Rbp4-LMO3</th>\n",
       "      <th>0</th>\n",
       "      <td>3</td>\n",
       "      <td>3427</td>\n",
       "      <td>3</td>\n",
       "      <td>M</td>\n",
       "      <td>3244</td>\n",
       "      <td>2023-06-10</td>\n",
       "      <td>CTZ</td>\n",
       "      <td>26</td>\n",
       "      <td>42</td>\n",
       "      <td>2.600000</td>\n",
       "      <td>4.666667</td>\n",
       "      <td>10</td>\n",
       "      <td>9.000000</td>\n",
       "      <td>2023-11-29</td>\n",
       "      <td>5.65</td>\n",
       "    </tr>\n",
       "    <tr>\n",
       "      <th>3</th>\n",
       "      <td>4</td>\n",
       "      <td>3435</td>\n",
       "      <td>3</td>\n",
       "      <td>M</td>\n",
       "      <td>3426</td>\n",
       "      <td>2023-06-20</td>\n",
       "      <td>CTZ</td>\n",
       "      <td>12</td>\n",
       "      <td>36</td>\n",
       "      <td>2.400000</td>\n",
       "      <td>7.200000</td>\n",
       "      <td>5</td>\n",
       "      <td>5.000000</td>\n",
       "      <td>2024-05-08</td>\n",
       "      <td>10.61</td>\n",
       "    </tr>\n",
       "    <tr>\n",
       "      <th>7</th>\n",
       "      <td>6</td>\n",
       "      <td>3515</td>\n",
       "      <td>3</td>\n",
       "      <td>M</td>\n",
       "      <td>3377</td>\n",
       "      <td>2023-08-10</td>\n",
       "      <td>CTZ</td>\n",
       "      <td>10</td>\n",
       "      <td>0</td>\n",
       "      <td>2.000000</td>\n",
       "      <td>0.000000</td>\n",
       "      <td>5</td>\n",
       "      <td>0.000000</td>\n",
       "      <td>2024-06-03</td>\n",
       "      <td>9.79</td>\n",
       "    </tr>\n",
       "    <tr>\n",
       "      <th>10</th>\n",
       "      <td>6</td>\n",
       "      <td>3518</td>\n",
       "      <td>4</td>\n",
       "      <td>M</td>\n",
       "      <td>3377</td>\n",
       "      <td>2023-08-10</td>\n",
       "      <td>CTZ</td>\n",
       "      <td>22</td>\n",
       "      <td>17</td>\n",
       "      <td>2.444444</td>\n",
       "      <td>6.000000</td>\n",
       "      <td>9</td>\n",
       "      <td>2.833333</td>\n",
       "      <td>2024-06-03</td>\n",
       "      <td>9.79</td>\n",
       "    </tr>\n",
       "    <tr>\n",
       "      <th>11</th>\n",
       "      <td>7</td>\n",
       "      <td>3522</td>\n",
       "      <td>2</td>\n",
       "      <td>M</td>\n",
       "      <td>3378</td>\n",
       "      <td>2023-08-14</td>\n",
       "      <td>CTZ</td>\n",
       "      <td>27</td>\n",
       "      <td>1</td>\n",
       "      <td>2.454545</td>\n",
       "      <td>1.000000</td>\n",
       "      <td>11</td>\n",
       "      <td>1.000000</td>\n",
       "      <td>2024-06-04</td>\n",
       "      <td>9.69</td>\n",
       "    </tr>\n",
       "    <tr>\n",
       "      <th>12</th>\n",
       "      <td>7</td>\n",
       "      <td>3523</td>\n",
       "      <td>7</td>\n",
       "      <td>M</td>\n",
       "      <td>3378</td>\n",
       "      <td>2023-08-14</td>\n",
       "      <td>CTZ</td>\n",
       "      <td>0</td>\n",
       "      <td>15</td>\n",
       "      <td>0.000000</td>\n",
       "      <td>3.000000</td>\n",
       "      <td>0</td>\n",
       "      <td>5.000000</td>\n",
       "      <td>2024-06-04</td>\n",
       "      <td>9.69</td>\n",
       "    </tr>\n",
       "    <tr>\n",
       "      <th>13</th>\n",
       "      <td>8</td>\n",
       "      <td>3554</td>\n",
       "      <td>4</td>\n",
       "      <td>M</td>\n",
       "      <td>3243</td>\n",
       "      <td>2023-08-28</td>\n",
       "      <td>CTZ</td>\n",
       "      <td>10</td>\n",
       "      <td>15</td>\n",
       "      <td>2.500000</td>\n",
       "      <td>3.000000</td>\n",
       "      <td>4</td>\n",
       "      <td>5.000000</td>\n",
       "      <td>2024-06-04</td>\n",
       "      <td>9.23</td>\n",
       "    </tr>\n",
       "    <tr>\n",
       "      <th>15</th>\n",
       "      <td>9</td>\n",
       "      <td>3559</td>\n",
       "      <td>6</td>\n",
       "      <td>M</td>\n",
       "      <td>3377</td>\n",
       "      <td>2023-09-03</td>\n",
       "      <td>CTZ</td>\n",
       "      <td>36</td>\n",
       "      <td>5</td>\n",
       "      <td>4.000000</td>\n",
       "      <td>2.500000</td>\n",
       "      <td>9</td>\n",
       "      <td>2.000000</td>\n",
       "      <td>2024-06-06</td>\n",
       "      <td>9.10</td>\n",
       "    </tr>\n",
       "    <tr>\n",
       "      <th>17</th>\n",
       "      <td>9</td>\n",
       "      <td>3561</td>\n",
       "      <td>2</td>\n",
       "      <td>M</td>\n",
       "      <td>3377</td>\n",
       "      <td>2023-09-03</td>\n",
       "      <td>CTZ</td>\n",
       "      <td>8</td>\n",
       "      <td>40</td>\n",
       "      <td>2.666667</td>\n",
       "      <td>2.857143</td>\n",
       "      <td>3</td>\n",
       "      <td>14.000000</td>\n",
       "      <td>2024-06-06</td>\n",
       "      <td>9.10</td>\n",
       "    </tr>\n",
       "    <tr>\n",
       "      <th>18</th>\n",
       "      <td>10</td>\n",
       "      <td>3548</td>\n",
       "      <td>1</td>\n",
       "      <td>M</td>\n",
       "      <td>3378</td>\n",
       "      <td>2023-09-08</td>\n",
       "      <td>CTZ</td>\n",
       "      <td>15</td>\n",
       "      <td>16</td>\n",
       "      <td>2.500000</td>\n",
       "      <td>2.666667</td>\n",
       "      <td>6</td>\n",
       "      <td>6.000000</td>\n",
       "      <td>2024-06-07</td>\n",
       "      <td>8.97</td>\n",
       "    </tr>\n",
       "    <tr>\n",
       "      <th>22</th>\n",
       "      <td>3</td>\n",
       "      <td>3440</td>\n",
       "      <td>1</td>\n",
       "      <td>F</td>\n",
       "      <td>3244</td>\n",
       "      <td>2023-06-10</td>\n",
       "      <td>CTZ</td>\n",
       "      <td>13</td>\n",
       "      <td>15</td>\n",
       "      <td>4.333333</td>\n",
       "      <td>3.750000</td>\n",
       "      <td>3</td>\n",
       "      <td>4.000000</td>\n",
       "      <td>2024-03-28</td>\n",
       "      <td>9.59</td>\n",
       "    </tr>\n",
       "    <tr>\n",
       "      <th>23</th>\n",
       "      <td>4</td>\n",
       "      <td>3437</td>\n",
       "      <td>9</td>\n",
       "      <td>F</td>\n",
       "      <td>3246</td>\n",
       "      <td>2023-06-20</td>\n",
       "      <td>CTZ</td>\n",
       "      <td>12</td>\n",
       "      <td>14</td>\n",
       "      <td>2.400000</td>\n",
       "      <td>2.800000</td>\n",
       "      <td>5</td>\n",
       "      <td>5.000000</td>\n",
       "      <td>2024-05-07</td>\n",
       "      <td>10.58</td>\n",
       "    </tr>\n",
       "    <tr>\n",
       "      <th>25</th>\n",
       "      <td>4</td>\n",
       "      <td>3439</td>\n",
       "      <td>7</td>\n",
       "      <td>F</td>\n",
       "      <td>3246</td>\n",
       "      <td>2023-06-20</td>\n",
       "      <td>CTZ</td>\n",
       "      <td>22</td>\n",
       "      <td>34</td>\n",
       "      <td>2.750000</td>\n",
       "      <td>3.400000</td>\n",
       "      <td>8</td>\n",
       "      <td>10.000000</td>\n",
       "      <td>2024-05-07</td>\n",
       "      <td>10.58</td>\n",
       "    </tr>\n",
       "    <tr>\n",
       "      <th>28</th>\n",
       "      <td>6</td>\n",
       "      <td>3520</td>\n",
       "      <td>7</td>\n",
       "      <td>F</td>\n",
       "      <td>3377</td>\n",
       "      <td>2023-08-10</td>\n",
       "      <td>CTZ</td>\n",
       "      <td>19</td>\n",
       "      <td>25</td>\n",
       "      <td>2.375000</td>\n",
       "      <td>2.083333</td>\n",
       "      <td>8</td>\n",
       "      <td>12.000000</td>\n",
       "      <td>2024-05-28</td>\n",
       "      <td>9.59</td>\n",
       "    </tr>\n",
       "    <tr>\n",
       "      <th>31</th>\n",
       "      <td>7</td>\n",
       "      <td>3525</td>\n",
       "      <td>1</td>\n",
       "      <td>F</td>\n",
       "      <td>3378</td>\n",
       "      <td>2023-08-14</td>\n",
       "      <td>CTZ</td>\n",
       "      <td>21</td>\n",
       "      <td>16</td>\n",
       "      <td>1.909091</td>\n",
       "      <td>3.200000</td>\n",
       "      <td>11</td>\n",
       "      <td>5.000000</td>\n",
       "      <td>2024-07-02</td>\n",
       "      <td>10.61</td>\n",
       "    </tr>\n",
       "    <tr>\n",
       "      <th>32</th>\n",
       "      <td>7</td>\n",
       "      <td>3551</td>\n",
       "      <td>5</td>\n",
       "      <td>F</td>\n",
       "      <td>3378</td>\n",
       "      <td>2023-08-14</td>\n",
       "      <td>CTZ</td>\n",
       "      <td>21</td>\n",
       "      <td>16</td>\n",
       "      <td>1.909091</td>\n",
       "      <td>4.000000</td>\n",
       "      <td>11</td>\n",
       "      <td>4.000000</td>\n",
       "      <td>2024-07-02</td>\n",
       "      <td>10.61</td>\n",
       "    </tr>\n",
       "    <tr>\n",
       "      <th>33</th>\n",
       "      <td>7</td>\n",
       "      <td>3552</td>\n",
       "      <td>3</td>\n",
       "      <td>F</td>\n",
       "      <td>3378</td>\n",
       "      <td>2023-08-14</td>\n",
       "      <td>CTZ</td>\n",
       "      <td>1</td>\n",
       "      <td>14</td>\n",
       "      <td>1.000000</td>\n",
       "      <td>2.800000</td>\n",
       "      <td>1</td>\n",
       "      <td>5.000000</td>\n",
       "      <td>2024-07-02</td>\n",
       "      <td>10.61</td>\n",
       "    </tr>\n",
       "    <tr>\n",
       "      <th>36</th>\n",
       "      <td>8</td>\n",
       "      <td>3557</td>\n",
       "      <td>6</td>\n",
       "      <td>F</td>\n",
       "      <td>3243</td>\n",
       "      <td>2023-08-28</td>\n",
       "      <td>CTZ</td>\n",
       "      <td>5</td>\n",
       "      <td>9</td>\n",
       "      <td>1.666667</td>\n",
       "      <td>2.250000</td>\n",
       "      <td>3</td>\n",
       "      <td>4.000000</td>\n",
       "      <td>2024-07-08</td>\n",
       "      <td>10.35</td>\n",
       "    </tr>\n",
       "    <tr>\n",
       "      <th>38</th>\n",
       "      <td>9</td>\n",
       "      <td>3562</td>\n",
       "      <td>7</td>\n",
       "      <td>F</td>\n",
       "      <td>3377</td>\n",
       "      <td>2023-09-03</td>\n",
       "      <td>CTZ</td>\n",
       "      <td>19</td>\n",
       "      <td>15</td>\n",
       "      <td>3.166667</td>\n",
       "      <td>2.500000</td>\n",
       "      <td>6</td>\n",
       "      <td>6.000000</td>\n",
       "      <td>2024-07-09</td>\n",
       "      <td>10.18</td>\n",
       "    </tr>\n",
       "    <tr>\n",
       "      <th>40</th>\n",
       "      <td>9</td>\n",
       "      <td>3564</td>\n",
       "      <td>5</td>\n",
       "      <td>F</td>\n",
       "      <td>3377</td>\n",
       "      <td>2023-09-03</td>\n",
       "      <td>CTZ</td>\n",
       "      <td>4</td>\n",
       "      <td>19</td>\n",
       "      <td>1.333333</td>\n",
       "      <td>3.166667</td>\n",
       "      <td>3</td>\n",
       "      <td>6.000000</td>\n",
       "      <td>2024-07-09</td>\n",
       "      <td>10.18</td>\n",
       "    </tr>\n",
       "    <tr>\n",
       "      <th>41</th>\n",
       "      <td>9</td>\n",
       "      <td>3565</td>\n",
       "      <td>3</td>\n",
       "      <td>F</td>\n",
       "      <td>3377</td>\n",
       "      <td>2023-09-03</td>\n",
       "      <td>CTZ</td>\n",
       "      <td>18</td>\n",
       "      <td>11</td>\n",
       "      <td>2.571429</td>\n",
       "      <td>3.666667</td>\n",
       "      <td>7</td>\n",
       "      <td>3.000000</td>\n",
       "      <td>2024-07-09</td>\n",
       "      <td>10.18</td>\n",
       "    </tr>\n",
       "    <tr>\n",
       "      <th>43</th>\n",
       "      <td>10</td>\n",
       "      <td>2809</td>\n",
       "      <td>2</td>\n",
       "      <td>F</td>\n",
       "      <td>3378</td>\n",
       "      <td>2023-09-08</td>\n",
       "      <td>CTZ</td>\n",
       "      <td>8</td>\n",
       "      <td>3</td>\n",
       "      <td>4.000000</td>\n",
       "      <td>1.500000</td>\n",
       "      <td>2</td>\n",
       "      <td>2.000000</td>\n",
       "      <td>2024-07-10</td>\n",
       "      <td>10.05</td>\n",
       "    </tr>\n",
       "    <tr>\n",
       "      <th>45</th>\n",
       "      <td>10</td>\n",
       "      <td>2839</td>\n",
       "      <td>4</td>\n",
       "      <td>F</td>\n",
       "      <td>3378</td>\n",
       "      <td>2023-09-08</td>\n",
       "      <td>CTZ</td>\n",
       "      <td>4</td>\n",
       "      <td>9</td>\n",
       "      <td>1.333333</td>\n",
       "      <td>1.500000</td>\n",
       "      <td>3</td>\n",
       "      <td>6.000000</td>\n",
       "      <td>2024-07-10</td>\n",
       "      <td>10.05</td>\n",
       "    </tr>\n",
       "    <tr>\n",
       "      <th rowspan=\"23\" valign=\"top\">wt-LMO3</th>\n",
       "      <th>1</th>\n",
       "      <td>3</td>\n",
       "      <td>3428</td>\n",
       "      <td>4</td>\n",
       "      <td>M</td>\n",
       "      <td>3244</td>\n",
       "      <td>2023-06-10</td>\n",
       "      <td>CTZ</td>\n",
       "      <td>51</td>\n",
       "      <td>52</td>\n",
       "      <td>5.100000</td>\n",
       "      <td>5.777778</td>\n",
       "      <td>10</td>\n",
       "      <td>9.000000</td>\n",
       "      <td>2023-11-29</td>\n",
       "      <td>5.65</td>\n",
       "    </tr>\n",
       "    <tr>\n",
       "      <th>2</th>\n",
       "      <td>4</td>\n",
       "      <td>3434</td>\n",
       "      <td>4</td>\n",
       "      <td>M</td>\n",
       "      <td>3246</td>\n",
       "      <td>2023-06-20</td>\n",
       "      <td>CTZ</td>\n",
       "      <td>42</td>\n",
       "      <td>60</td>\n",
       "      <td>10.500000</td>\n",
       "      <td>4.615385</td>\n",
       "      <td>4</td>\n",
       "      <td>13.000000</td>\n",
       "      <td>2024-05-08</td>\n",
       "      <td>10.61</td>\n",
       "    </tr>\n",
       "    <tr>\n",
       "      <th>4</th>\n",
       "      <td>4</td>\n",
       "      <td>3436</td>\n",
       "      <td>1</td>\n",
       "      <td>M</td>\n",
       "      <td>3246</td>\n",
       "      <td>2023-06-20</td>\n",
       "      <td>CTZ</td>\n",
       "      <td>47</td>\n",
       "      <td>65</td>\n",
       "      <td>5.875000</td>\n",
       "      <td>5.909091</td>\n",
       "      <td>8</td>\n",
       "      <td>11.000000</td>\n",
       "      <td>2024-05-08</td>\n",
       "      <td>10.61</td>\n",
       "    </tr>\n",
       "    <tr>\n",
       "      <th>5</th>\n",
       "      <td>5</td>\n",
       "      <td>3442</td>\n",
       "      <td>2</td>\n",
       "      <td>M</td>\n",
       "      <td>3426</td>\n",
       "      <td>2023-07-14</td>\n",
       "      <td>CTZ</td>\n",
       "      <td>74</td>\n",
       "      <td>47</td>\n",
       "      <td>8.222222</td>\n",
       "      <td>9.400000</td>\n",
       "      <td>9</td>\n",
       "      <td>5.000000</td>\n",
       "      <td>2024-05-09</td>\n",
       "      <td>9.86</td>\n",
       "    </tr>\n",
       "    <tr>\n",
       "      <th>6</th>\n",
       "      <td>6</td>\n",
       "      <td>3514</td>\n",
       "      <td>2</td>\n",
       "      <td>M</td>\n",
       "      <td>3377</td>\n",
       "      <td>2023-08-10</td>\n",
       "      <td>CTZ</td>\n",
       "      <td>23</td>\n",
       "      <td>5</td>\n",
       "      <td>2.875000</td>\n",
       "      <td>1.666667</td>\n",
       "      <td>8</td>\n",
       "      <td>3.000000</td>\n",
       "      <td>2024-06-03</td>\n",
       "      <td>9.79</td>\n",
       "    </tr>\n",
       "    <tr>\n",
       "      <th>8</th>\n",
       "      <td>6</td>\n",
       "      <td>3516</td>\n",
       "      <td>8</td>\n",
       "      <td>M</td>\n",
       "      <td>3377</td>\n",
       "      <td>2023-08-10</td>\n",
       "      <td>CTZ</td>\n",
       "      <td>20</td>\n",
       "      <td>16</td>\n",
       "      <td>2.875143</td>\n",
       "      <td>2.000000</td>\n",
       "      <td>7</td>\n",
       "      <td>8.000000</td>\n",
       "      <td>2024-06-03</td>\n",
       "      <td>9.79</td>\n",
       "    </tr>\n",
       "    <tr>\n",
       "      <th>9</th>\n",
       "      <td>6</td>\n",
       "      <td>3517</td>\n",
       "      <td>1</td>\n",
       "      <td>M</td>\n",
       "      <td>3377</td>\n",
       "      <td>2023-08-10</td>\n",
       "      <td>CTZ</td>\n",
       "      <td>23</td>\n",
       "      <td>16</td>\n",
       "      <td>2.555556</td>\n",
       "      <td>3.200000</td>\n",
       "      <td>9</td>\n",
       "      <td>5.000000</td>\n",
       "      <td>2024-06-03</td>\n",
       "      <td>9.79</td>\n",
       "    </tr>\n",
       "    <tr>\n",
       "      <th>14</th>\n",
       "      <td>8</td>\n",
       "      <td>3555</td>\n",
       "      <td>3</td>\n",
       "      <td>M</td>\n",
       "      <td>3243</td>\n",
       "      <td>2023-08-28</td>\n",
       "      <td>CTZ</td>\n",
       "      <td>55</td>\n",
       "      <td>15</td>\n",
       "      <td>7.857143</td>\n",
       "      <td>3.750000</td>\n",
       "      <td>7</td>\n",
       "      <td>4.000000</td>\n",
       "      <td>2024-06-04</td>\n",
       "      <td>9.23</td>\n",
       "    </tr>\n",
       "    <tr>\n",
       "      <th>16</th>\n",
       "      <td>9</td>\n",
       "      <td>3560</td>\n",
       "      <td>1</td>\n",
       "      <td>M</td>\n",
       "      <td>3377</td>\n",
       "      <td>2023-09-03</td>\n",
       "      <td>CTZ</td>\n",
       "      <td>9</td>\n",
       "      <td>18</td>\n",
       "      <td>2.250000</td>\n",
       "      <td>6.000000</td>\n",
       "      <td>4</td>\n",
       "      <td>3.000000</td>\n",
       "      <td>2024-06-06</td>\n",
       "      <td>9.10</td>\n",
       "    </tr>\n",
       "    <tr>\n",
       "      <th>19</th>\n",
       "      <td>10</td>\n",
       "      <td>3549</td>\n",
       "      <td>8</td>\n",
       "      <td>M</td>\n",
       "      <td>3378</td>\n",
       "      <td>2023-09-08</td>\n",
       "      <td>CTZ</td>\n",
       "      <td>23</td>\n",
       "      <td>20</td>\n",
       "      <td>2.875000</td>\n",
       "      <td>2.500000</td>\n",
       "      <td>8</td>\n",
       "      <td>8.000000</td>\n",
       "      <td>2024-06-07</td>\n",
       "      <td>8.97</td>\n",
       "    </tr>\n",
       "    <tr>\n",
       "      <th>20</th>\n",
       "      <td>10</td>\n",
       "      <td>3550</td>\n",
       "      <td>5</td>\n",
       "      <td>M</td>\n",
       "      <td>3378</td>\n",
       "      <td>2023-09-08</td>\n",
       "      <td>CTZ</td>\n",
       "      <td>4</td>\n",
       "      <td>34</td>\n",
       "      <td>2.000000</td>\n",
       "      <td>3.400000</td>\n",
       "      <td>2</td>\n",
       "      <td>10.000000</td>\n",
       "      <td>2024-06-07</td>\n",
       "      <td>8.97</td>\n",
       "    </tr>\n",
       "    <tr>\n",
       "      <th>21</th>\n",
       "      <td>3</td>\n",
       "      <td>3429</td>\n",
       "      <td>2</td>\n",
       "      <td>F</td>\n",
       "      <td>3244</td>\n",
       "      <td>2023-06-10</td>\n",
       "      <td>CTZ</td>\n",
       "      <td>12</td>\n",
       "      <td>37</td>\n",
       "      <td>2.400000</td>\n",
       "      <td>2.466667</td>\n",
       "      <td>5</td>\n",
       "      <td>15.000000</td>\n",
       "      <td>2024-03-28</td>\n",
       "      <td>9.59</td>\n",
       "    </tr>\n",
       "    <tr>\n",
       "      <th>24</th>\n",
       "      <td>4</td>\n",
       "      <td>3438</td>\n",
       "      <td>6</td>\n",
       "      <td>F</td>\n",
       "      <td>3246</td>\n",
       "      <td>2023-06-20</td>\n",
       "      <td>CTZ</td>\n",
       "      <td>9</td>\n",
       "      <td>45</td>\n",
       "      <td>3.000000</td>\n",
       "      <td>4.090909</td>\n",
       "      <td>3</td>\n",
       "      <td>11.000000</td>\n",
       "      <td>2024-05-07</td>\n",
       "      <td>10.58</td>\n",
       "    </tr>\n",
       "    <tr>\n",
       "      <th>26</th>\n",
       "      <td>5</td>\n",
       "      <td>3445</td>\n",
       "      <td>4</td>\n",
       "      <td>F</td>\n",
       "      <td>3246</td>\n",
       "      <td>2023-07-14</td>\n",
       "      <td>CTZ</td>\n",
       "      <td>30</td>\n",
       "      <td>18</td>\n",
       "      <td>3.750000</td>\n",
       "      <td>2.571429</td>\n",
       "      <td>8</td>\n",
       "      <td>7.000000</td>\n",
       "      <td>2024-05-09</td>\n",
       "      <td>9.86</td>\n",
       "    </tr>\n",
       "    <tr>\n",
       "      <th>27</th>\n",
       "      <td>6</td>\n",
       "      <td>3519</td>\n",
       "      <td>6</td>\n",
       "      <td>F</td>\n",
       "      <td>3377</td>\n",
       "      <td>2023-08-10</td>\n",
       "      <td>CTZ</td>\n",
       "      <td>15</td>\n",
       "      <td>9</td>\n",
       "      <td>3.000000</td>\n",
       "      <td>1.800000</td>\n",
       "      <td>5</td>\n",
       "      <td>5.000000</td>\n",
       "      <td>2024-05-28</td>\n",
       "      <td>9.59</td>\n",
       "    </tr>\n",
       "    <tr>\n",
       "      <th>29</th>\n",
       "      <td>6</td>\n",
       "      <td>3521</td>\n",
       "      <td>5</td>\n",
       "      <td>F</td>\n",
       "      <td>3377</td>\n",
       "      <td>2023-08-10</td>\n",
       "      <td>CTZ</td>\n",
       "      <td>33</td>\n",
       "      <td>18</td>\n",
       "      <td>4.125000</td>\n",
       "      <td>2.000000</td>\n",
       "      <td>8</td>\n",
       "      <td>9.000000</td>\n",
       "      <td>2024-05-08</td>\n",
       "      <td>8.94</td>\n",
       "    </tr>\n",
       "    <tr>\n",
       "      <th>30</th>\n",
       "      <td>7</td>\n",
       "      <td>3524</td>\n",
       "      <td>8</td>\n",
       "      <td>F</td>\n",
       "      <td>3378</td>\n",
       "      <td>2023-08-14</td>\n",
       "      <td>CTZ</td>\n",
       "      <td>18</td>\n",
       "      <td>20</td>\n",
       "      <td>2.250000</td>\n",
       "      <td>2.500000</td>\n",
       "      <td>8</td>\n",
       "      <td>8.000000</td>\n",
       "      <td>2024-07-02</td>\n",
       "      <td>10.61</td>\n",
       "    </tr>\n",
       "    <tr>\n",
       "      <th>34</th>\n",
       "      <td>7</td>\n",
       "      <td>3553</td>\n",
       "      <td>6</td>\n",
       "      <td>F</td>\n",
       "      <td>3378</td>\n",
       "      <td>2023-08-14</td>\n",
       "      <td>CTZ</td>\n",
       "      <td>2</td>\n",
       "      <td>20</td>\n",
       "      <td>2.000000</td>\n",
       "      <td>2.500000</td>\n",
       "      <td>1</td>\n",
       "      <td>8.000000</td>\n",
       "      <td>2024-07-02</td>\n",
       "      <td>10.61</td>\n",
       "    </tr>\n",
       "    <tr>\n",
       "      <th>35</th>\n",
       "      <td>8</td>\n",
       "      <td>3556</td>\n",
       "      <td>7</td>\n",
       "      <td>F</td>\n",
       "      <td>3243</td>\n",
       "      <td>2023-08-28</td>\n",
       "      <td>CTZ</td>\n",
       "      <td>19</td>\n",
       "      <td>21</td>\n",
       "      <td>2.714286</td>\n",
       "      <td>2.100000</td>\n",
       "      <td>7</td>\n",
       "      <td>10.000000</td>\n",
       "      <td>2024-07-08</td>\n",
       "      <td>10.35</td>\n",
       "    </tr>\n",
       "    <tr>\n",
       "      <th>37</th>\n",
       "      <td>8</td>\n",
       "      <td>3558</td>\n",
       "      <td>5</td>\n",
       "      <td>F</td>\n",
       "      <td>3243</td>\n",
       "      <td>2023-08-28</td>\n",
       "      <td>CTZ</td>\n",
       "      <td>8</td>\n",
       "      <td>13</td>\n",
       "      <td>2.000000</td>\n",
       "      <td>1.857143</td>\n",
       "      <td>4</td>\n",
       "      <td>7.000000</td>\n",
       "      <td>2024-07-08</td>\n",
       "      <td>10.35</td>\n",
       "    </tr>\n",
       "    <tr>\n",
       "      <th>39</th>\n",
       "      <td>9</td>\n",
       "      <td>3563</td>\n",
       "      <td>4</td>\n",
       "      <td>F</td>\n",
       "      <td>3377</td>\n",
       "      <td>2023-09-03</td>\n",
       "      <td>CTZ</td>\n",
       "      <td>13</td>\n",
       "      <td>32</td>\n",
       "      <td>1.857143</td>\n",
       "      <td>5.333333</td>\n",
       "      <td>7</td>\n",
       "      <td>6.000000</td>\n",
       "      <td>2024-07-09</td>\n",
       "      <td>10.18</td>\n",
       "    </tr>\n",
       "    <tr>\n",
       "      <th>42</th>\n",
       "      <td>10</td>\n",
       "      <td>2808</td>\n",
       "      <td>7</td>\n",
       "      <td>F</td>\n",
       "      <td>3378</td>\n",
       "      <td>2023-09-08</td>\n",
       "      <td>CTZ</td>\n",
       "      <td>20</td>\n",
       "      <td>13</td>\n",
       "      <td>2.500000</td>\n",
       "      <td>2.166667</td>\n",
       "      <td>8</td>\n",
       "      <td>6.000000</td>\n",
       "      <td>2024-07-10</td>\n",
       "      <td>10.05</td>\n",
       "    </tr>\n",
       "    <tr>\n",
       "      <th>44</th>\n",
       "      <td>10</td>\n",
       "      <td>2838</td>\n",
       "      <td>6</td>\n",
       "      <td>F</td>\n",
       "      <td>3378</td>\n",
       "      <td>2023-09-08</td>\n",
       "      <td>CTZ</td>\n",
       "      <td>12</td>\n",
       "      <td>8</td>\n",
       "      <td>2.400000</td>\n",
       "      <td>2.000000</td>\n",
       "      <td>5</td>\n",
       "      <td>4.000000</td>\n",
       "      <td>2024-07-10</td>\n",
       "      <td>10.05</td>\n",
       "    </tr>\n",
       "  </tbody>\n",
       "</table>\n",
       "</div>"
      ],
      "text/plain": [
       "              cohort   tag  toe sex   dam        DOB treatment  \\\n",
       "genotype                                                         \n",
       "Rbp4-LMO3 0        3  3427    3   M  3244 2023-06-10       CTZ   \n",
       "          3        4  3435    3  M   3426 2023-06-20       CTZ   \n",
       "          7        6  3515    3   M  3377 2023-08-10       CTZ   \n",
       "          10       6  3518    4   M  3377 2023-08-10       CTZ   \n",
       "          11       7  3522    2   M  3378 2023-08-14       CTZ   \n",
       "          12       7  3523    7   M  3378 2023-08-14       CTZ   \n",
       "          13       8  3554    4   M  3243 2023-08-28       CTZ   \n",
       "          15       9  3559    6   M  3377 2023-09-03      CTZ    \n",
       "          17       9  3561    2   M  3377 2023-09-03      CTZ    \n",
       "          18      10  3548    1   M  3378 2023-09-08       CTZ   \n",
       "          22       3  3440    1  F   3244 2023-06-10       CTZ   \n",
       "          23       4  3437    9  F   3246 2023-06-20       CTZ   \n",
       "          25       4  3439    7  F   3246 2023-06-20       CTZ   \n",
       "          28       6  3520    7  F   3377 2023-08-10       CTZ   \n",
       "          31       7  3525    1  F   3378 2023-08-14       CTZ   \n",
       "          32       7  3551    5  F   3378 2023-08-14       CTZ   \n",
       "          33       7  3552    3  F   3378 2023-08-14       CTZ   \n",
       "          36       8  3557    6  F   3243 2023-08-28       CTZ   \n",
       "          38       9  3562    7  F   3377 2023-09-03       CTZ   \n",
       "          40       9  3564    5  F   3377 2023-09-03      CTZ    \n",
       "          41       9  3565    3  F   3377 2023-09-03       CTZ   \n",
       "          43      10  2809    2  F   3378 2023-09-08       CTZ   \n",
       "          45      10  2839    4  F   3378 2023-09-08       CTZ   \n",
       "wt-LMO3   1        3  3428    4   M  3244 2023-06-10       CTZ   \n",
       "          2        4  3434    4   M  3246 2023-06-20       CTZ   \n",
       "          4        4  3436    1   M  3246 2023-06-20       CTZ   \n",
       "          5        5  3442    2   M  3426 2023-07-14      CTZ    \n",
       "          6        6  3514    2   M  3377 2023-08-10       CTZ   \n",
       "          8        6  3516    8   M  3377 2023-08-10       CTZ   \n",
       "          9        6  3517    1   M  3377 2023-08-10       CTZ   \n",
       "          14       8  3555    3   M  3243 2023-08-28       CTZ   \n",
       "          16       9  3560    1   M  3377 2023-09-03      CTZ    \n",
       "          19      10  3549    8   M  3378 2023-09-08      CTZ    \n",
       "          20      10  3550    5   M  3378 2023-09-08      CTZ    \n",
       "          21       3  3429    2  F   3244 2023-06-10       CTZ   \n",
       "          24       4  3438    6  F   3246 2023-06-20      CTZ    \n",
       "          26       5  3445    4  F   3246 2023-07-14       CTZ   \n",
       "          27       6  3519    6  F   3377 2023-08-10       CTZ   \n",
       "          29       6  3521    5  F   3377 2023-08-10       CTZ   \n",
       "          30       7  3524    8  F   3378 2023-08-14       CTZ   \n",
       "          34       7  3553    6  F   3378 2023-08-14       CTZ   \n",
       "          35       8  3556    7  F   3243 2023-08-28       CTZ   \n",
       "          37       8  3558    5  F   3243 2023-08-28      CTZ    \n",
       "          39       9  3563    4  F   3377 2023-09-03       CTZ   \n",
       "          42      10  2808    7  F   3378 2023-09-08       CTZ   \n",
       "          44      10  2838    6  F   3378 2023-09-08       CTZ   \n",
       "\n",
       "              interactiontime_sum_familiar  interactiontime_sum_stranger  \\\n",
       "genotype                                                                   \n",
       "Rbp4-LMO3 0                             26                            42   \n",
       "          3                             12                            36   \n",
       "          7                             10                             0   \n",
       "          10                            22                            17   \n",
       "          11                            27                             1   \n",
       "          12                             0                            15   \n",
       "          13                            10                            15   \n",
       "          15                            36                             5   \n",
       "          17                             8                            40   \n",
       "          18                            15                            16   \n",
       "          22                            13                            15   \n",
       "          23                            12                            14   \n",
       "          25                            22                            34   \n",
       "          28                            19                            25   \n",
       "          31                            21                            16   \n",
       "          32                            21                            16   \n",
       "          33                             1                            14   \n",
       "          36                             5                             9   \n",
       "          38                            19                            15   \n",
       "          40                             4                            19   \n",
       "          41                            18                            11   \n",
       "          43                             8                             3   \n",
       "          45                             4                             9   \n",
       "wt-LMO3   1                             51                            52   \n",
       "          2                             42                            60   \n",
       "          4                             47                            65   \n",
       "          5                             74                            47   \n",
       "          6                             23                             5   \n",
       "          8                             20                            16   \n",
       "          9                             23                            16   \n",
       "          14                            55                            15   \n",
       "          16                             9                            18   \n",
       "          19                            23                            20   \n",
       "          20                             4                            34   \n",
       "          21                            12                            37   \n",
       "          24                             9                            45   \n",
       "          26                            30                            18   \n",
       "          27                            15                             9   \n",
       "          29                            33                            18   \n",
       "          30                            18                            20   \n",
       "          34                             2                            20   \n",
       "          35                            19                            21   \n",
       "          37                             8                            13   \n",
       "          39                            13                            32   \n",
       "          42                            20                            13   \n",
       "          44                            12                             8   \n",
       "\n",
       "              interactiontime_avg_familiar  interactiontime_avg_stranger  \\\n",
       "genotype                                                                   \n",
       "Rbp4-LMO3 0                       2.600000                      4.666667   \n",
       "          3                       2.400000                      7.200000   \n",
       "          7                       2.000000                      0.000000   \n",
       "          10                      2.444444                      6.000000   \n",
       "          11                      2.454545                      1.000000   \n",
       "          12                      0.000000                      3.000000   \n",
       "          13                      2.500000                      3.000000   \n",
       "          15                      4.000000                      2.500000   \n",
       "          17                      2.666667                      2.857143   \n",
       "          18                      2.500000                      2.666667   \n",
       "          22                      4.333333                      3.750000   \n",
       "          23                      2.400000                      2.800000   \n",
       "          25                      2.750000                      3.400000   \n",
       "          28                      2.375000                      2.083333   \n",
       "          31                      1.909091                      3.200000   \n",
       "          32                      1.909091                      4.000000   \n",
       "          33                      1.000000                      2.800000   \n",
       "          36                      1.666667                      2.250000   \n",
       "          38                      3.166667                      2.500000   \n",
       "          40                      1.333333                      3.166667   \n",
       "          41                      2.571429                      3.666667   \n",
       "          43                      4.000000                      1.500000   \n",
       "          45                      1.333333                      1.500000   \n",
       "wt-LMO3   1                       5.100000                      5.777778   \n",
       "          2                      10.500000                      4.615385   \n",
       "          4                       5.875000                      5.909091   \n",
       "          5                       8.222222                      9.400000   \n",
       "          6                       2.875000                      1.666667   \n",
       "          8                       2.875143                      2.000000   \n",
       "          9                       2.555556                      3.200000   \n",
       "          14                      7.857143                      3.750000   \n",
       "          16                      2.250000                      6.000000   \n",
       "          19                      2.875000                      2.500000   \n",
       "          20                      2.000000                      3.400000   \n",
       "          21                      2.400000                      2.466667   \n",
       "          24                      3.000000                      4.090909   \n",
       "          26                      3.750000                      2.571429   \n",
       "          27                      3.000000                      1.800000   \n",
       "          29                      4.125000                      2.000000   \n",
       "          30                      2.250000                      2.500000   \n",
       "          34                      2.000000                      2.500000   \n",
       "          35                      2.714286                      2.100000   \n",
       "          37                      2.000000                      1.857143   \n",
       "          39                      1.857143                      5.333333   \n",
       "          42                      2.500000                      2.166667   \n",
       "          44                      2.400000                      2.000000   \n",
       "\n",
       "              approach_sum_familiar  approach_sum_stranger datetested  \\\n",
       "genotype                                                                \n",
       "Rbp4-LMO3 0                      10               9.000000 2023-11-29   \n",
       "          3                       5               5.000000 2024-05-08   \n",
       "          7                       5               0.000000 2024-06-03   \n",
       "          10                      9               2.833333 2024-06-03   \n",
       "          11                     11               1.000000 2024-06-04   \n",
       "          12                      0               5.000000 2024-06-04   \n",
       "          13                      4               5.000000 2024-06-04   \n",
       "          15                      9               2.000000 2024-06-06   \n",
       "          17                      3              14.000000 2024-06-06   \n",
       "          18                      6               6.000000 2024-06-07   \n",
       "          22                      3               4.000000 2024-03-28   \n",
       "          23                      5               5.000000 2024-05-07   \n",
       "          25                      8              10.000000 2024-05-07   \n",
       "          28                      8              12.000000 2024-05-28   \n",
       "          31                     11               5.000000 2024-07-02   \n",
       "          32                     11               4.000000 2024-07-02   \n",
       "          33                      1               5.000000 2024-07-02   \n",
       "          36                      3               4.000000 2024-07-08   \n",
       "          38                      6               6.000000 2024-07-09   \n",
       "          40                      3               6.000000 2024-07-09   \n",
       "          41                      7               3.000000 2024-07-09   \n",
       "          43                      2               2.000000 2024-07-10   \n",
       "          45                      3               6.000000 2024-07-10   \n",
       "wt-LMO3   1                      10               9.000000 2023-11-29   \n",
       "          2                       4              13.000000 2024-05-08   \n",
       "          4                       8              11.000000 2024-05-08   \n",
       "          5                       9               5.000000 2024-05-09   \n",
       "          6                       8               3.000000 2024-06-03   \n",
       "          8                       7               8.000000 2024-06-03   \n",
       "          9                       9               5.000000 2024-06-03   \n",
       "          14                      7               4.000000 2024-06-04   \n",
       "          16                      4               3.000000 2024-06-06   \n",
       "          19                      8               8.000000 2024-06-07   \n",
       "          20                      2              10.000000 2024-06-07   \n",
       "          21                      5              15.000000 2024-03-28   \n",
       "          24                      3              11.000000 2024-05-07   \n",
       "          26                      8               7.000000 2024-05-09   \n",
       "          27                      5               5.000000 2024-05-28   \n",
       "          29                      8               9.000000 2024-05-08   \n",
       "          30                      8               8.000000 2024-07-02   \n",
       "          34                      1               8.000000 2024-07-02   \n",
       "          35                      7              10.000000 2024-07-08   \n",
       "          37                      4               7.000000 2024-07-08   \n",
       "          39                      7               6.000000 2024-07-09   \n",
       "          42                      8               6.000000 2024-07-10   \n",
       "          44                      5               4.000000 2024-07-10   \n",
       "\n",
       "              age_in_months  \n",
       "genotype                     \n",
       "Rbp4-LMO3 0            5.65  \n",
       "          3           10.61  \n",
       "          7            9.79  \n",
       "          10           9.79  \n",
       "          11           9.69  \n",
       "          12           9.69  \n",
       "          13           9.23  \n",
       "          15           9.10  \n",
       "          17           9.10  \n",
       "          18           8.97  \n",
       "          22           9.59  \n",
       "          23          10.58  \n",
       "          25          10.58  \n",
       "          28           9.59  \n",
       "          31          10.61  \n",
       "          32          10.61  \n",
       "          33          10.61  \n",
       "          36          10.35  \n",
       "          38          10.18  \n",
       "          40          10.18  \n",
       "          41          10.18  \n",
       "          43          10.05  \n",
       "          45          10.05  \n",
       "wt-LMO3   1            5.65  \n",
       "          2           10.61  \n",
       "          4           10.61  \n",
       "          5            9.86  \n",
       "          6            9.79  \n",
       "          8            9.79  \n",
       "          9            9.79  \n",
       "          14           9.23  \n",
       "          16           9.10  \n",
       "          19           8.97  \n",
       "          20           8.97  \n",
       "          21           9.59  \n",
       "          24          10.58  \n",
       "          26           9.86  \n",
       "          27           9.59  \n",
       "          29           8.94  \n",
       "          30          10.61  \n",
       "          34          10.61  \n",
       "          35          10.35  \n",
       "          37          10.35  \n",
       "          39          10.18  \n",
       "          42          10.05  \n",
       "          44          10.05  "
      ]
     },
     "execution_count": 562,
     "metadata": {},
     "output_type": "execute_result"
    }
   ],
   "source": [
    "mouse_analysis.genotype_nested_df"
   ]
  },
  {
   "cell_type": "code",
   "execution_count": 563,
   "id": "0bc3b42e",
   "metadata": {},
   "outputs": [
    {
     "data": {
      "text/html": [
       "<div>\n",
       "<style scoped>\n",
       "    .dataframe tbody tr th:only-of-type {\n",
       "        vertical-align: middle;\n",
       "    }\n",
       "\n",
       "    .dataframe tbody tr th {\n",
       "        vertical-align: top;\n",
       "    }\n",
       "\n",
       "    .dataframe thead th {\n",
       "        text-align: right;\n",
       "    }\n",
       "</style>\n",
       "<table border=\"1\" class=\"dataframe\">\n",
       "  <thead>\n",
       "    <tr style=\"text-align: right;\">\n",
       "      <th></th>\n",
       "      <th>genotype</th>\n",
       "      <th>familiar_metric</th>\n",
       "      <th>stranger_metric</th>\n",
       "      <th>t_statistic</th>\n",
       "      <th>p_value</th>\n",
       "    </tr>\n",
       "  </thead>\n",
       "  <tbody>\n",
       "    <tr>\n",
       "      <th>0</th>\n",
       "      <td>Rbp4-LMO3</td>\n",
       "      <td>interactiontime_sum_familiar</td>\n",
       "      <td>interactiontime_sum_stranger</td>\n",
       "      <td>-0.786834</td>\n",
       "      <td>0.439773</td>\n",
       "    </tr>\n",
       "    <tr>\n",
       "      <th>1</th>\n",
       "      <td>wt-LMO3</td>\n",
       "      <td>interactiontime_sum_familiar</td>\n",
       "      <td>interactiontime_sum_stranger</td>\n",
       "      <td>-0.454879</td>\n",
       "      <td>0.653653</td>\n",
       "    </tr>\n",
       "    <tr>\n",
       "      <th>2</th>\n",
       "      <td>Rbp4-LMO3</td>\n",
       "      <td>interactiontime_avg_familiar</td>\n",
       "      <td>interactiontime_avg_stranger</td>\n",
       "      <td>-1.782366</td>\n",
       "      <td>0.088497</td>\n",
       "    </tr>\n",
       "    <tr>\n",
       "      <th>3</th>\n",
       "      <td>wt-LMO3</td>\n",
       "      <td>interactiontime_avg_familiar</td>\n",
       "      <td>interactiontime_avg_stranger</td>\n",
       "      <td>0.546735</td>\n",
       "      <td>0.590064</td>\n",
       "    </tr>\n",
       "    <tr>\n",
       "      <th>4</th>\n",
       "      <td>Rbp4-LMO3</td>\n",
       "      <td>approach_sum_familiar</td>\n",
       "      <td>approach_sum_stranger</td>\n",
       "      <td>0.482840</td>\n",
       "      <td>0.633979</td>\n",
       "    </tr>\n",
       "    <tr>\n",
       "      <th>5</th>\n",
       "      <td>wt-LMO3</td>\n",
       "      <td>approach_sum_familiar</td>\n",
       "      <td>approach_sum_stranger</td>\n",
       "      <td>-1.426808</td>\n",
       "      <td>0.167674</td>\n",
       "    </tr>\n",
       "  </tbody>\n",
       "</table>\n",
       "</div>"
      ],
      "text/plain": [
       "    genotype               familiar_metric               stranger_metric  \\\n",
       "0  Rbp4-LMO3  interactiontime_sum_familiar  interactiontime_sum_stranger   \n",
       "1    wt-LMO3  interactiontime_sum_familiar  interactiontime_sum_stranger   \n",
       "2  Rbp4-LMO3  interactiontime_avg_familiar  interactiontime_avg_stranger   \n",
       "3    wt-LMO3  interactiontime_avg_familiar  interactiontime_avg_stranger   \n",
       "4  Rbp4-LMO3         approach_sum_familiar         approach_sum_stranger   \n",
       "5    wt-LMO3         approach_sum_familiar         approach_sum_stranger   \n",
       "\n",
       "   t_statistic   p_value  \n",
       "0    -0.786834  0.439773  \n",
       "1    -0.454879  0.653653  \n",
       "2    -1.782366  0.088497  \n",
       "3     0.546735  0.590064  \n",
       "4     0.482840  0.633979  \n",
       "5    -1.426808  0.167674  "
      ]
     },
     "execution_count": 563,
     "metadata": {},
     "output_type": "execute_result"
    }
   ],
   "source": [
    "mouse_analysis.analysis.genotype_results"
   ]
  },
  {
   "cell_type": "code",
   "execution_count": 564,
   "id": "4a381ec9",
   "metadata": {},
   "outputs": [
    {
     "name": "stdout",
     "output_type": "stream",
     "text": [
      "Paired metrics: [('interactiontime_sum_familiar', 'interactiontime_sum_stranger'), ('interactiontime_avg_familiar', 'interactiontime_avg_stranger'), ('approach_sum_familiar', 'approach_sum_stranger')]\n",
      "Genotypes: Rbp4-LMO3, wt-LMO3\n",
      "\n",
      "Checking assumptions for metrics: interactiontime_sum_familiar vs interactiontime_sum_stranger\n",
      "\n",
      "Processing genotype: Rbp4-LMO3\n",
      "Shapiro-Wilk test for normality p-value: 0.4931\n",
      "Levene's test for homogeneity of variances p-value: 0.8693\n"
     ]
    },
    {
     "data": {
      "image/png": "[encoded data removed]",
      "text/plain": [
       "<Figure size 1200x500 with 2 Axes>"
      ]
     },
     "metadata": {},
     "output_type": "display_data"
    },
    {
     "name": "stdout",
     "output_type": "stream",
     "text": [
      "\n",
      "Processing genotype: wt-LMO3\n",
      "Shapiro-Wilk test for normality p-value: 0.9027\n",
      "Levene's test for homogeneity of variances p-value: 0.8589\n"
     ]
    },
    {
     "data": {
      "image/png": "[encoded data removed]",
      "text/plain": [
       "<Figure size 1200x500 with 2 Axes>"
      ]
     },
     "metadata": {},
     "output_type": "display_data"
    },
    {
     "name": "stdout",
     "output_type": "stream",
     "text": [
      "\n",
      "Checking assumptions for metrics: interactiontime_avg_familiar vs interactiontime_avg_stranger\n",
      "\n",
      "Processing genotype: Rbp4-LMO3\n",
      "Shapiro-Wilk test for normality p-value: 0.9236\n",
      "Levene's test for homogeneity of variances p-value: 0.2036\n"
     ]
    },
    {
     "data": {
      "image/png": "[encoded data removed]",
      "text/plain": [
       "<Figure size 1200x500 with 2 Axes>"
      ]
     },
     "metadata": {},
     "output_type": "display_data"
    },
    {
     "name": "stdout",
     "output_type": "stream",
     "text": [
      "\n",
      "Processing genotype: wt-LMO3\n",
      "Shapiro-Wilk test for normality p-value: 0.0589\n",
      "Levene's test for homogeneity of variances p-value: 0.9198\n"
     ]
    },
    {
     "data": {
      "image/png": "[encoded data removed]",
      "text/plain": [
       "<Figure size 1200x500 with 2 Axes>"
      ]
     },
     "metadata": {},
     "output_type": "display_data"
    },
    {
     "name": "stdout",
     "output_type": "stream",
     "text": [
      "\n",
      "Checking assumptions for metrics: approach_sum_familiar vs approach_sum_stranger\n",
      "\n",
      "Processing genotype: Rbp4-LMO3\n",
      "Shapiro-Wilk test for normality p-value: 0.3539\n",
      "Levene's test for homogeneity of variances p-value: 0.3953\n"
     ]
    },
    {
     "data": {
      "image/png": "[encoded data removed]",
      "text/plain": [
       "<Figure size 1200x500 with 2 Axes>"
      ]
     },
     "metadata": {},
     "output_type": "display_data"
    },
    {
     "name": "stdout",
     "output_type": "stream",
     "text": [
      "\n",
      "Processing genotype: wt-LMO3\n",
      "Shapiro-Wilk test for normality p-value: 0.0368\n",
      "Levene's test for homogeneity of variances p-value: 0.2808\n"
     ]
    },
    {
     "data": {
      "image/png": "[encoded data removed]",
      "text/plain": [
       "<Figure size 1200x500 with 2 Axes>"
      ]
     },
     "metadata": {},
     "output_type": "display_data"
    },
    {
     "name": "stdout",
     "output_type": "stream",
     "text": [
      "\n",
      "Assumption check results:\n",
      "    genotype                                        metric_pair  \\\n",
      "0  Rbp4-LMO3  interactiontime_sum_familiar vs interactiontim...   \n",
      "1    wt-LMO3  interactiontime_sum_familiar vs interactiontim...   \n",
      "2  Rbp4-LMO3  interactiontime_avg_familiar vs interactiontim...   \n",
      "3    wt-LMO3  interactiontime_avg_familiar vs interactiontim...   \n",
      "4  Rbp4-LMO3     approach_sum_familiar vs approach_sum_stranger   \n",
      "5    wt-LMO3     approach_sum_familiar vs approach_sum_stranger   \n",
      "\n",
      "   normality_p_value  homogeneity_p_value  \n",
      "0           0.493073             0.869252  \n",
      "1           0.902746             0.858867  \n",
      "2           0.923586             0.203619  \n",
      "3           0.058884             0.919790  \n",
      "4           0.353934             0.395309  \n",
      "5           0.036758             0.280783  \n"
     ]
    },
    {
     "data": {
      "text/html": [
       "<div>\n",
       "<style scoped>\n",
       "    .dataframe tbody tr th:only-of-type {\n",
       "        vertical-align: middle;\n",
       "    }\n",
       "\n",
       "    .dataframe tbody tr th {\n",
       "        vertical-align: top;\n",
       "    }\n",
       "\n",
       "    .dataframe thead th {\n",
       "        text-align: right;\n",
       "    }\n",
       "</style>\n",
       "<table border=\"1\" class=\"dataframe\">\n",
       "  <thead>\n",
       "    <tr style=\"text-align: right;\">\n",
       "      <th></th>\n",
       "      <th>genotype</th>\n",
       "      <th>metric_pair</th>\n",
       "      <th>normality_p_value</th>\n",
       "      <th>homogeneity_p_value</th>\n",
       "    </tr>\n",
       "  </thead>\n",
       "  <tbody>\n",
       "    <tr>\n",
       "      <th>0</th>\n",
       "      <td>Rbp4-LMO3</td>\n",
       "      <td>interactiontime_sum_familiar vs interactiontim...</td>\n",
       "      <td>0.493073</td>\n",
       "      <td>0.869252</td>\n",
       "    </tr>\n",
       "    <tr>\n",
       "      <th>1</th>\n",
       "      <td>wt-LMO3</td>\n",
       "      <td>interactiontime_sum_familiar vs interactiontim...</td>\n",
       "      <td>0.902746</td>\n",
       "      <td>0.858867</td>\n",
       "    </tr>\n",
       "    <tr>\n",
       "      <th>2</th>\n",
       "      <td>Rbp4-LMO3</td>\n",
       "      <td>interactiontime_avg_familiar vs interactiontim...</td>\n",
       "      <td>0.923586</td>\n",
       "      <td>0.203619</td>\n",
       "    </tr>\n",
       "    <tr>\n",
       "      <th>3</th>\n",
       "      <td>wt-LMO3</td>\n",
       "      <td>interactiontime_avg_familiar vs interactiontim...</td>\n",
       "      <td>0.058884</td>\n",
       "      <td>0.919790</td>\n",
       "    </tr>\n",
       "    <tr>\n",
       "      <th>4</th>\n",
       "      <td>Rbp4-LMO3</td>\n",
       "      <td>approach_sum_familiar vs approach_sum_stranger</td>\n",
       "      <td>0.353934</td>\n",
       "      <td>0.395309</td>\n",
       "    </tr>\n",
       "    <tr>\n",
       "      <th>5</th>\n",
       "      <td>wt-LMO3</td>\n",
       "      <td>approach_sum_familiar vs approach_sum_stranger</td>\n",
       "      <td>0.036758</td>\n",
       "      <td>0.280783</td>\n",
       "    </tr>\n",
       "  </tbody>\n",
       "</table>\n",
       "</div>"
      ],
      "text/plain": [
       "    genotype                                        metric_pair  \\\n",
       "0  Rbp4-LMO3  interactiontime_sum_familiar vs interactiontim...   \n",
       "1    wt-LMO3  interactiontime_sum_familiar vs interactiontim...   \n",
       "2  Rbp4-LMO3  interactiontime_avg_familiar vs interactiontim...   \n",
       "3    wt-LMO3  interactiontime_avg_familiar vs interactiontim...   \n",
       "4  Rbp4-LMO3     approach_sum_familiar vs approach_sum_stranger   \n",
       "5    wt-LMO3     approach_sum_familiar vs approach_sum_stranger   \n",
       "\n",
       "   normality_p_value  homogeneity_p_value  \n",
       "0           0.493073             0.869252  \n",
       "1           0.902746             0.858867  \n",
       "2           0.923586             0.203619  \n",
       "3           0.058884             0.919790  \n",
       "4           0.353934             0.395309  \n",
       "5           0.036758             0.280783  "
      ]
     },
     "execution_count": 564,
     "metadata": {},
     "output_type": "execute_result"
    }
   ],
   "source": [
    "mouse_analysis.analysis.check_assumptions()"
   ]
  },
  {
   "cell_type": "code",
   "execution_count": 565,
   "id": "04d6dff8",
   "metadata": {},
   "outputs": [
    {
     "data": {
      "application/vnd.plotly.v1+json": {
       "config": {
        "plotlyServerURL": "https://plot.ly"
       },
       "data": [
        {
         "boxpoints": "all",
         "hoverinfo": "text",
         "hovertext": [
          "Tag: 3427<br>Age: 5.65 months<br>Value: 26.00",
          "Tag: 3435<br>Age: 10.61 months<br>Value: 12.00",
          "Tag: 3515<br>Age: 9.79 months<br>Value: 10.00",
          "Tag: 3518<br>Age: 9.79 months<br>Value: 22.00",
          "Tag: 3522<br>Age: 9.69 months<br>Value: 27.00",
          "Tag: 3523<br>Age: 9.69 months<br>Value: 0.00",
          "Tag: 3554<br>Age: 9.23 months<br>Value: 10.00",
          "Tag: 3559<br>Age: 9.10 months<br>Value: 36.00",
          "Tag: 3561<br>Age: 9.10 months<br>Value: 8.00",
          "Tag: 3548<br>Age: 8.97 months<br>Value: 15.00",
          "Tag: 3440<br>Age: 9.59 months<br>Value: 13.00",
          "Tag: 3437<br>Age: 10.58 months<br>Value: 12.00",
          "Tag: 3439<br>Age: 10.58 months<br>Value: 22.00",
          "Tag: 3520<br>Age: 9.59 months<br>Value: 19.00",
          "Tag: 3525<br>Age: 10.61 months<br>Value: 21.00",
          "Tag: 3551<br>Age: 10.61 months<br>Value: 21.00",
          "Tag: 3552<br>Age: 10.61 months<br>Value: 1.00",
          "Tag: 3557<br>Age: 10.35 months<br>Value: 5.00",
          "Tag: 3562<br>Age: 10.18 months<br>Value: 19.00",
          "Tag: 3564<br>Age: 10.18 months<br>Value: 4.00",
          "Tag: 3565<br>Age: 10.18 months<br>Value: 18.00",
          "Tag: 2809<br>Age: 10.05 months<br>Value: 8.00",
          "Tag: 2839<br>Age: 10.05 months<br>Value: 4.00"
         ],
         "jitter": 0.3,
         "marker": {
          "color": "blue"
         },
         "name": "interactiontime_sum_familiar vs interactiontime_sum_stranger | Rbp4-LMO3 - Familiar",
         "pointpos": -1.8,
         "showlegend": false,
         "type": "box",
         "visible": true,
         "x": [
          "Rbp4-LMO3 - Familiar",
          "Rbp4-LMO3 - Familiar",
          "Rbp4-LMO3 - Familiar",
          "Rbp4-LMO3 - Familiar",
          "Rbp4-LMO3 - Familiar",
          "Rbp4-LMO3 - Familiar",
          "Rbp4-LMO3 - Familiar",
          "Rbp4-LMO3 - Familiar",
          "Rbp4-LMO3 - Familiar",
          "Rbp4-LMO3 - Familiar",
          "Rbp4-LMO3 - Familiar",
          "Rbp4-LMO3 - Familiar",
          "Rbp4-LMO3 - Familiar",
          "Rbp4-LMO3 - Familiar",
          "Rbp4-LMO3 - Familiar",
          "Rbp4-LMO3 - Familiar",
          "Rbp4-LMO3 - Familiar",
          "Rbp4-LMO3 - Familiar",
          "Rbp4-LMO3 - Familiar",
          "Rbp4-LMO3 - Familiar",
          "Rbp4-LMO3 - Familiar",
          "Rbp4-LMO3 - Familiar",
          "Rbp4-LMO3 - Familiar"
         ],
         "y": [
          26,
          12,
          10,
          22,
          27,
          0,
          10,
          36,
          8,
          15,
          13,
          12,
          22,
          19,
          21,
          21,
          1,
          5,
          19,
          4,
          18,
          8,
          4
         ]
        },
        {
         "boxpoints": "all",
         "hoverinfo": "text",
         "hovertext": [
          "Tag: 3427<br>Age: 5.65 months<br>Value: 42.00",
          "Tag: 3435<br>Age: 10.61 months<br>Value: 36.00",
          "Tag: 3515<br>Age: 9.79 months<br>Value: 0.00",
          "Tag: 3518<br>Age: 9.79 months<br>Value: 17.00",
          "Tag: 3522<br>Age: 9.69 months<br>Value: 1.00",
          "Tag: 3523<br>Age: 9.69 months<br>Value: 15.00",
          "Tag: 3554<br>Age: 9.23 months<br>Value: 15.00",
          "Tag: 3559<br>Age: 9.10 months<br>Value: 5.00",
          "Tag: 3561<br>Age: 9.10 months<br>Value: 40.00",
          "Tag: 3548<br>Age: 8.97 months<br>Value: 16.00",
          "Tag: 3440<br>Age: 9.59 months<br>Value: 15.00",
          "Tag: 3437<br>Age: 10.58 months<br>Value: 14.00",
          "Tag: 3439<br>Age: 10.58 months<br>Value: 34.00",
          "Tag: 3520<br>Age: 9.59 months<br>Value: 25.00",
          "Tag: 3525<br>Age: 10.61 months<br>Value: 16.00",
          "Tag: 3551<br>Age: 10.61 months<br>Value: 16.00",
          "Tag: 3552<br>Age: 10.61 months<br>Value: 14.00",
          "Tag: 3557<br>Age: 10.35 months<br>Value: 9.00",
          "Tag: 3562<br>Age: 10.18 months<br>Value: 15.00",
          "Tag: 3564<br>Age: 10.18 months<br>Value: 19.00",
          "Tag: 3565<br>Age: 10.18 months<br>Value: 11.00",
          "Tag: 2809<br>Age: 10.05 months<br>Value: 3.00",
          "Tag: 2839<br>Age: 10.05 months<br>Value: 9.00"
         ],
         "jitter": 0.3,
         "marker": {
          "color": "blue"
         },
         "name": "interactiontime_sum_familiar vs interactiontime_sum_stranger | Rbp4-LMO3 - Stranger",
         "pointpos": -1.8,
         "showlegend": false,
         "type": "box",
         "visible": true,
         "x": [
          "Rbp4-LMO3 - Stranger",
          "Rbp4-LMO3 - Stranger",
          "Rbp4-LMO3 - Stranger",
          "Rbp4-LMO3 - Stranger",
          "Rbp4-LMO3 - Stranger",
          "Rbp4-LMO3 - Stranger",
          "Rbp4-LMO3 - Stranger",
          "Rbp4-LMO3 - Stranger",
          "Rbp4-LMO3 - Stranger",
          "Rbp4-LMO3 - Stranger",
          "Rbp4-LMO3 - Stranger",
          "Rbp4-LMO3 - Stranger",
          "Rbp4-LMO3 - Stranger",
          "Rbp4-LMO3 - Stranger",
          "Rbp4-LMO3 - Stranger",
          "Rbp4-LMO3 - Stranger",
          "Rbp4-LMO3 - Stranger",
          "Rbp4-LMO3 - Stranger",
          "Rbp4-LMO3 - Stranger",
          "Rbp4-LMO3 - Stranger",
          "Rbp4-LMO3 - Stranger",
          "Rbp4-LMO3 - Stranger",
          "Rbp4-LMO3 - Stranger"
         ],
         "y": [
          42,
          36,
          0,
          17,
          1,
          15,
          15,
          5,
          40,
          16,
          15,
          14,
          34,
          25,
          16,
          16,
          14,
          9,
          15,
          19,
          11,
          3,
          9
         ]
        },
        {
         "boxpoints": "all",
         "hoverinfo": "text",
         "hovertext": [
          "Tag: 3428<br>Age: 5.65 months<br>Value: 51.00",
          "Tag: 3434<br>Age: 10.61 months<br>Value: 42.00",
          "Tag: 3436<br>Age: 10.61 months<br>Value: 47.00",
          "Tag: 3442<br>Age: 9.86 months<br>Value: 74.00",
          "Tag: 3514<br>Age: 9.79 months<br>Value: 23.00",
          "Tag: 3516<br>Age: 9.79 months<br>Value: 20.00",
          "Tag: 3517<br>Age: 9.79 months<br>Value: 23.00",
          "Tag: 3555<br>Age: 9.23 months<br>Value: 55.00",
          "Tag: 3560<br>Age: 9.10 months<br>Value: 9.00",
          "Tag: 3549<br>Age: 8.97 months<br>Value: 23.00",
          "Tag: 3550<br>Age: 8.97 months<br>Value: 4.00",
          "Tag: 3429<br>Age: 9.59 months<br>Value: 12.00",
          "Tag: 3438<br>Age: 10.58 months<br>Value: 9.00",
          "Tag: 3445<br>Age: 9.86 months<br>Value: 30.00",
          "Tag: 3519<br>Age: 9.59 months<br>Value: 15.00",
          "Tag: 3521<br>Age: 8.94 months<br>Value: 33.00",
          "Tag: 3524<br>Age: 10.61 months<br>Value: 18.00",
          "Tag: 3553<br>Age: 10.61 months<br>Value: 2.00",
          "Tag: 3556<br>Age: 10.35 months<br>Value: 19.00",
          "Tag: 3558<br>Age: 10.35 months<br>Value: 8.00",
          "Tag: 3563<br>Age: 10.18 months<br>Value: 13.00",
          "Tag: 2808<br>Age: 10.05 months<br>Value: 20.00",
          "Tag: 2838<br>Age: 10.05 months<br>Value: 12.00"
         ],
         "jitter": 0.3,
         "marker": {
          "color": "red"
         },
         "name": "interactiontime_sum_familiar vs interactiontime_sum_stranger | wt-LMO3 - Familiar",
         "pointpos": -1.8,
         "showlegend": false,
         "type": "box",
         "visible": true,
         "x": [
          "wt-LMO3 - Familiar",
          "wt-LMO3 - Familiar",
          "wt-LMO3 - Familiar",
          "wt-LMO3 - Familiar",
          "wt-LMO3 - Familiar",
          "wt-LMO3 - Familiar",
          "wt-LMO3 - Familiar",
          "wt-LMO3 - Familiar",
          "wt-LMO3 - Familiar",
          "wt-LMO3 - Familiar",
          "wt-LMO3 - Familiar",
          "wt-LMO3 - Familiar",
          "wt-LMO3 - Familiar",
          "wt-LMO3 - Familiar",
          "wt-LMO3 - Familiar",
          "wt-LMO3 - Familiar",
          "wt-LMO3 - Familiar",
          "wt-LMO3 - Familiar",
          "wt-LMO3 - Familiar",
          "wt-LMO3 - Familiar",
          "wt-LMO3 - Familiar",
          "wt-LMO3 - Familiar",
          "wt-LMO3 - Familiar"
         ],
         "y": [
          51,
          42,
          47,
          74,
          23,
          20,
          23,
          55,
          9,
          23,
          4,
          12,
          9,
          30,
          15,
          33,
          18,
          2,
          19,
          8,
          13,
          20,
          12
         ]
        },
        {
         "boxpoints": "all",
         "hoverinfo": "text",
         "hovertext": [
          "Tag: 3428<br>Age: 5.65 months<br>Value: 52.00",
          "Tag: 3434<br>Age: 10.61 months<br>Value: 60.00",
          "Tag: 3436<br>Age: 10.61 months<br>Value: 65.00",
          "Tag: 3442<br>Age: 9.86 months<br>Value: 47.00",
          "Tag: 3514<br>Age: 9.79 months<br>Value: 5.00",
          "Tag: 3516<br>Age: 9.79 months<br>Value: 16.00",
          "Tag: 3517<br>Age: 9.79 months<br>Value: 16.00",
          "Tag: 3555<br>Age: 9.23 months<br>Value: 15.00",
          "Tag: 3560<br>Age: 9.10 months<br>Value: 18.00",
          "Tag: 3549<br>Age: 8.97 months<br>Value: 20.00",
          "Tag: 3550<br>Age: 8.97 months<br>Value: 34.00",
          "Tag: 3429<br>Age: 9.59 months<br>Value: 37.00",
          "Tag: 3438<br>Age: 10.58 months<br>Value: 45.00",
          "Tag: 3445<br>Age: 9.86 months<br>Value: 18.00",
          "Tag: 3519<br>Age: 9.59 months<br>Value: 9.00",
          "Tag: 3521<br>Age: 8.94 months<br>Value: 18.00",
          "Tag: 3524<br>Age: 10.61 months<br>Value: 20.00",
          "Tag: 3553<br>Age: 10.61 months<br>Value: 20.00",
          "Tag: 3556<br>Age: 10.35 months<br>Value: 21.00",
          "Tag: 3558<br>Age: 10.35 months<br>Value: 13.00",
          "Tag: 3563<br>Age: 10.18 months<br>Value: 32.00",
          "Tag: 2808<br>Age: 10.05 months<br>Value: 13.00",
          "Tag: 2838<br>Age: 10.05 months<br>Value: 8.00"
         ],
         "jitter": 0.3,
         "marker": {
          "color": "red"
         },
         "name": "interactiontime_sum_familiar vs interactiontime_sum_stranger | wt-LMO3 - Stranger",
         "pointpos": -1.8,
         "showlegend": false,
         "type": "box",
         "visible": true,
         "x": [
          "wt-LMO3 - Stranger",
          "wt-LMO3 - Stranger",
          "wt-LMO3 - Stranger",
          "wt-LMO3 - Stranger",
          "wt-LMO3 - Stranger",
          "wt-LMO3 - Stranger",
          "wt-LMO3 - Stranger",
          "wt-LMO3 - Stranger",
          "wt-LMO3 - Stranger",
          "wt-LMO3 - Stranger",
          "wt-LMO3 - Stranger",
          "wt-LMO3 - Stranger",
          "wt-LMO3 - Stranger",
          "wt-LMO3 - Stranger",
          "wt-LMO3 - Stranger",
          "wt-LMO3 - Stranger",
          "wt-LMO3 - Stranger",
          "wt-LMO3 - Stranger",
          "wt-LMO3 - Stranger",
          "wt-LMO3 - Stranger",
          "wt-LMO3 - Stranger",
          "wt-LMO3 - Stranger",
          "wt-LMO3 - Stranger"
         ],
         "y": [
          52,
          60,
          65,
          47,
          5,
          16,
          16,
          15,
          18,
          20,
          34,
          37,
          45,
          18,
          9,
          18,
          20,
          20,
          21,
          13,
          32,
          13,
          8
         ]
        },
        {
         "boxpoints": "all",
         "hoverinfo": "text",
         "hovertext": [
          "Tag: 3427<br>Age: 5.65 months<br>Value: 2.60",
          "Tag: 3435<br>Age: 10.61 months<br>Value: 2.40",
          "Tag: 3515<br>Age: 9.79 months<br>Value: 2.00",
          "Tag: 3518<br>Age: 9.79 months<br>Value: 2.44",
          "Tag: 3522<br>Age: 9.69 months<br>Value: 2.45",
          "Tag: 3523<br>Age: 9.69 months<br>Value: 0.00",
          "Tag: 3554<br>Age: 9.23 months<br>Value: 2.50",
          "Tag: 3559<br>Age: 9.10 months<br>Value: 4.00",
          "Tag: 3561<br>Age: 9.10 months<br>Value: 2.67",
          "Tag: 3548<br>Age: 8.97 months<br>Value: 2.50",
          "Tag: 3440<br>Age: 9.59 months<br>Value: 4.33",
          "Tag: 3437<br>Age: 10.58 months<br>Value: 2.40",
          "Tag: 3439<br>Age: 10.58 months<br>Value: 2.75",
          "Tag: 3520<br>Age: 9.59 months<br>Value: 2.38",
          "Tag: 3525<br>Age: 10.61 months<br>Value: 1.91",
          "Tag: 3551<br>Age: 10.61 months<br>Value: 1.91",
          "Tag: 3552<br>Age: 10.61 months<br>Value: 1.00",
          "Tag: 3557<br>Age: 10.35 months<br>Value: 1.67",
          "Tag: 3562<br>Age: 10.18 months<br>Value: 3.17",
          "Tag: 3564<br>Age: 10.18 months<br>Value: 1.33",
          "Tag: 3565<br>Age: 10.18 months<br>Value: 2.57",
          "Tag: 2809<br>Age: 10.05 months<br>Value: 4.00",
          "Tag: 2839<br>Age: 10.05 months<br>Value: 1.33"
         ],
         "jitter": 0.3,
         "marker": {
          "color": "blue"
         },
         "name": "interactiontime_avg_familiar vs interactiontime_avg_stranger | Rbp4-LMO3 - Familiar",
         "pointpos": -1.8,
         "showlegend": false,
         "type": "box",
         "visible": false,
         "x": [
          "Rbp4-LMO3 - Familiar",
          "Rbp4-LMO3 - Familiar",
          "Rbp4-LMO3 - Familiar",
          "Rbp4-LMO3 - Familiar",
          "Rbp4-LMO3 - Familiar",
          "Rbp4-LMO3 - Familiar",
          "Rbp4-LMO3 - Familiar",
          "Rbp4-LMO3 - Familiar",
          "Rbp4-LMO3 - Familiar",
          "Rbp4-LMO3 - Familiar",
          "Rbp4-LMO3 - Familiar",
          "Rbp4-LMO3 - Familiar",
          "Rbp4-LMO3 - Familiar",
          "Rbp4-LMO3 - Familiar",
          "Rbp4-LMO3 - Familiar",
          "Rbp4-LMO3 - Familiar",
          "Rbp4-LMO3 - Familiar",
          "Rbp4-LMO3 - Familiar",
          "Rbp4-LMO3 - Familiar",
          "Rbp4-LMO3 - Familiar",
          "Rbp4-LMO3 - Familiar",
          "Rbp4-LMO3 - Familiar",
          "Rbp4-LMO3 - Familiar"
         ],
         "y": [
          2.6,
          2.4,
          2,
          2.44444444,
          2.45454545,
          0,
          2.5,
          4,
          2.66666667,
          2.5,
          4.3333333,
          2.4,
          2.75,
          2.375,
          1.90909091,
          1.90909091,
          1,
          1.66666667,
          3.16666667,
          1.33333333,
          2.57142857,
          4,
          1.33333333
         ]
        },
        {
         "boxpoints": "all",
         "hoverinfo": "text",
         "hovertext": [
          "Tag: 3427<br>Age: 5.65 months<br>Value: 4.67",
          "Tag: 3435<br>Age: 10.61 months<br>Value: 7.20",
          "Tag: 3515<br>Age: 9.79 months<br>Value: 0.00",
          "Tag: 3518<br>Age: 9.79 months<br>Value: 6.00",
          "Tag: 3522<br>Age: 9.69 months<br>Value: 1.00",
          "Tag: 3523<br>Age: 9.69 months<br>Value: 3.00",
          "Tag: 3554<br>Age: 9.23 months<br>Value: 3.00",
          "Tag: 3559<br>Age: 9.10 months<br>Value: 2.50",
          "Tag: 3561<br>Age: 9.10 months<br>Value: 2.86",
          "Tag: 3548<br>Age: 8.97 months<br>Value: 2.67",
          "Tag: 3440<br>Age: 9.59 months<br>Value: 3.75",
          "Tag: 3437<br>Age: 10.58 months<br>Value: 2.80",
          "Tag: 3439<br>Age: 10.58 months<br>Value: 3.40",
          "Tag: 3520<br>Age: 9.59 months<br>Value: 2.08",
          "Tag: 3525<br>Age: 10.61 months<br>Value: 3.20",
          "Tag: 3551<br>Age: 10.61 months<br>Value: 4.00",
          "Tag: 3552<br>Age: 10.61 months<br>Value: 2.80",
          "Tag: 3557<br>Age: 10.35 months<br>Value: 2.25",
          "Tag: 3562<br>Age: 10.18 months<br>Value: 2.50",
          "Tag: 3564<br>Age: 10.18 months<br>Value: 3.17",
          "Tag: 3565<br>Age: 10.18 months<br>Value: 3.67",
          "Tag: 2809<br>Age: 10.05 months<br>Value: 1.50",
          "Tag: 2839<br>Age: 10.05 months<br>Value: 1.50"
         ],
         "jitter": 0.3,
         "marker": {
          "color": "blue"
         },
         "name": "interactiontime_avg_familiar vs interactiontime_avg_stranger | Rbp4-LMO3 - Stranger",
         "pointpos": -1.8,
         "showlegend": false,
         "type": "box",
         "visible": false,
         "x": [
          "Rbp4-LMO3 - Stranger",
          "Rbp4-LMO3 - Stranger",
          "Rbp4-LMO3 - Stranger",
          "Rbp4-LMO3 - Stranger",
          "Rbp4-LMO3 - Stranger",
          "Rbp4-LMO3 - Stranger",
          "Rbp4-LMO3 - Stranger",
          "Rbp4-LMO3 - Stranger",
          "Rbp4-LMO3 - Stranger",
          "Rbp4-LMO3 - Stranger",
          "Rbp4-LMO3 - Stranger",
          "Rbp4-LMO3 - Stranger",
          "Rbp4-LMO3 - Stranger",
          "Rbp4-LMO3 - Stranger",
          "Rbp4-LMO3 - Stranger",
          "Rbp4-LMO3 - Stranger",
          "Rbp4-LMO3 - Stranger",
          "Rbp4-LMO3 - Stranger",
          "Rbp4-LMO3 - Stranger",
          "Rbp4-LMO3 - Stranger",
          "Rbp4-LMO3 - Stranger",
          "Rbp4-LMO3 - Stranger",
          "Rbp4-LMO3 - Stranger"
         ],
         "y": [
          4.6666667,
          7.2,
          0,
          6,
          1,
          3,
          3,
          2.5,
          2.85714286,
          2.66666667,
          3.75,
          2.8,
          3.4,
          2.08333333,
          3.2,
          4,
          2.8,
          2.25,
          2.5,
          3.16666667,
          3.66666667,
          1.5,
          1.5
         ]
        },
        {
         "boxpoints": "all",
         "hoverinfo": "text",
         "hovertext": [
          "Tag: 3428<br>Age: 5.65 months<br>Value: 5.10",
          "Tag: 3434<br>Age: 10.61 months<br>Value: 10.50",
          "Tag: 3436<br>Age: 10.61 months<br>Value: 5.88",
          "Tag: 3442<br>Age: 9.86 months<br>Value: 8.22",
          "Tag: 3514<br>Age: 9.79 months<br>Value: 2.88",
          "Tag: 3516<br>Age: 9.79 months<br>Value: 2.88",
          "Tag: 3517<br>Age: 9.79 months<br>Value: 2.56",
          "Tag: 3555<br>Age: 9.23 months<br>Value: 7.86",
          "Tag: 3560<br>Age: 9.10 months<br>Value: 2.25",
          "Tag: 3549<br>Age: 8.97 months<br>Value: 2.88",
          "Tag: 3550<br>Age: 8.97 months<br>Value: 2.00",
          "Tag: 3429<br>Age: 9.59 months<br>Value: 2.40",
          "Tag: 3438<br>Age: 10.58 months<br>Value: 3.00",
          "Tag: 3445<br>Age: 9.86 months<br>Value: 3.75",
          "Tag: 3519<br>Age: 9.59 months<br>Value: 3.00",
          "Tag: 3521<br>Age: 8.94 months<br>Value: 4.12",
          "Tag: 3524<br>Age: 10.61 months<br>Value: 2.25",
          "Tag: 3553<br>Age: 10.61 months<br>Value: 2.00",
          "Tag: 3556<br>Age: 10.35 months<br>Value: 2.71",
          "Tag: 3558<br>Age: 10.35 months<br>Value: 2.00",
          "Tag: 3563<br>Age: 10.18 months<br>Value: 1.86",
          "Tag: 2808<br>Age: 10.05 months<br>Value: 2.50",
          "Tag: 2838<br>Age: 10.05 months<br>Value: 2.40"
         ],
         "jitter": 0.3,
         "marker": {
          "color": "red"
         },
         "name": "interactiontime_avg_familiar vs interactiontime_avg_stranger | wt-LMO3 - Familiar",
         "pointpos": -1.8,
         "showlegend": false,
         "type": "box",
         "visible": false,
         "x": [
          "wt-LMO3 - Familiar",
          "wt-LMO3 - Familiar",
          "wt-LMO3 - Familiar",
          "wt-LMO3 - Familiar",
          "wt-LMO3 - Familiar",
          "wt-LMO3 - Familiar",
          "wt-LMO3 - Familiar",
          "wt-LMO3 - Familiar",
          "wt-LMO3 - Familiar",
          "wt-LMO3 - Familiar",
          "wt-LMO3 - Familiar",
          "wt-LMO3 - Familiar",
          "wt-LMO3 - Familiar",
          "wt-LMO3 - Familiar",
          "wt-LMO3 - Familiar",
          "wt-LMO3 - Familiar",
          "wt-LMO3 - Familiar",
          "wt-LMO3 - Familiar",
          "wt-LMO3 - Familiar",
          "wt-LMO3 - Familiar",
          "wt-LMO3 - Familiar",
          "wt-LMO3 - Familiar",
          "wt-LMO3 - Familiar"
         ],
         "y": [
          5.1,
          10.5,
          5.875,
          8.2222222,
          2.875,
          2.87514286,
          2.55555556,
          7.85714286,
          2.25,
          2.875,
          2,
          2.4,
          3,
          3.75,
          3,
          4.125,
          2.25,
          2,
          2.71428571,
          2,
          1.85714286,
          2.5,
          2.4
         ]
        },
        {
         "boxpoints": "all",
         "hoverinfo": "text",
         "hovertext": [
          "Tag: 3428<br>Age: 5.65 months<br>Value: 5.78",
          "Tag: 3434<br>Age: 10.61 months<br>Value: 4.62",
          "Tag: 3436<br>Age: 10.61 months<br>Value: 5.91",
          "Tag: 3442<br>Age: 9.86 months<br>Value: 9.40",
          "Tag: 3514<br>Age: 9.79 months<br>Value: 1.67",
          "Tag: 3516<br>Age: 9.79 months<br>Value: 2.00",
          "Tag: 3517<br>Age: 9.79 months<br>Value: 3.20",
          "Tag: 3555<br>Age: 9.23 months<br>Value: 3.75",
          "Tag: 3560<br>Age: 9.10 months<br>Value: 6.00",
          "Tag: 3549<br>Age: 8.97 months<br>Value: 2.50",
          "Tag: 3550<br>Age: 8.97 months<br>Value: 3.40",
          "Tag: 3429<br>Age: 9.59 months<br>Value: 2.47",
          "Tag: 3438<br>Age: 10.58 months<br>Value: 4.09",
          "Tag: 3445<br>Age: 9.86 months<br>Value: 2.57",
          "Tag: 3519<br>Age: 9.59 months<br>Value: 1.80",
          "Tag: 3521<br>Age: 8.94 months<br>Value: 2.00",
          "Tag: 3524<br>Age: 10.61 months<br>Value: 2.50",
          "Tag: 3553<br>Age: 10.61 months<br>Value: 2.50",
          "Tag: 3556<br>Age: 10.35 months<br>Value: 2.10",
          "Tag: 3558<br>Age: 10.35 months<br>Value: 1.86",
          "Tag: 3563<br>Age: 10.18 months<br>Value: 5.33",
          "Tag: 2808<br>Age: 10.05 months<br>Value: 2.17",
          "Tag: 2838<br>Age: 10.05 months<br>Value: 2.00"
         ],
         "jitter": 0.3,
         "marker": {
          "color": "red"
         },
         "name": "interactiontime_avg_familiar vs interactiontime_avg_stranger | wt-LMO3 - Stranger",
         "pointpos": -1.8,
         "showlegend": false,
         "type": "box",
         "visible": false,
         "x": [
          "wt-LMO3 - Stranger",
          "wt-LMO3 - Stranger",
          "wt-LMO3 - Stranger",
          "wt-LMO3 - Stranger",
          "wt-LMO3 - Stranger",
          "wt-LMO3 - Stranger",
          "wt-LMO3 - Stranger",
          "wt-LMO3 - Stranger",
          "wt-LMO3 - Stranger",
          "wt-LMO3 - Stranger",
          "wt-LMO3 - Stranger",
          "wt-LMO3 - Stranger",
          "wt-LMO3 - Stranger",
          "wt-LMO3 - Stranger",
          "wt-LMO3 - Stranger",
          "wt-LMO3 - Stranger",
          "wt-LMO3 - Stranger",
          "wt-LMO3 - Stranger",
          "wt-LMO3 - Stranger",
          "wt-LMO3 - Stranger",
          "wt-LMO3 - Stranger",
          "wt-LMO3 - Stranger",
          "wt-LMO3 - Stranger"
         ],
         "y": [
          5.7777778,
          4.61538462,
          5.90909091,
          9.4,
          1.66666667,
          2,
          3.2,
          3.75,
          6,
          2.5,
          3.4,
          2.4666667,
          4.09090909,
          2.5714286,
          1.8,
          2,
          2.5,
          2.5,
          2.1,
          1.85714286,
          5.33333333,
          2.16666667,
          2
         ]
        },
        {
         "boxpoints": "all",
         "hoverinfo": "text",
         "hovertext": [
          "Tag: 3427<br>Age: 5.65 months<br>Value: 10.00",
          "Tag: 3435<br>Age: 10.61 months<br>Value: 5.00",
          "Tag: 3515<br>Age: 9.79 months<br>Value: 5.00",
          "Tag: 3518<br>Age: 9.79 months<br>Value: 9.00",
          "Tag: 3522<br>Age: 9.69 months<br>Value: 11.00",
          "Tag: 3523<br>Age: 9.69 months<br>Value: 0.00",
          "Tag: 3554<br>Age: 9.23 months<br>Value: 4.00",
          "Tag: 3559<br>Age: 9.10 months<br>Value: 9.00",
          "Tag: 3561<br>Age: 9.10 months<br>Value: 3.00",
          "Tag: 3548<br>Age: 8.97 months<br>Value: 6.00",
          "Tag: 3440<br>Age: 9.59 months<br>Value: 3.00",
          "Tag: 3437<br>Age: 10.58 months<br>Value: 5.00",
          "Tag: 3439<br>Age: 10.58 months<br>Value: 8.00",
          "Tag: 3520<br>Age: 9.59 months<br>Value: 8.00",
          "Tag: 3525<br>Age: 10.61 months<br>Value: 11.00",
          "Tag: 3551<br>Age: 10.61 months<br>Value: 11.00",
          "Tag: 3552<br>Age: 10.61 months<br>Value: 1.00",
          "Tag: 3557<br>Age: 10.35 months<br>Value: 3.00",
          "Tag: 3562<br>Age: 10.18 months<br>Value: 6.00",
          "Tag: 3564<br>Age: 10.18 months<br>Value: 3.00",
          "Tag: 3565<br>Age: 10.18 months<br>Value: 7.00",
          "Tag: 2809<br>Age: 10.05 months<br>Value: 2.00",
          "Tag: 2839<br>Age: 10.05 months<br>Value: 3.00"
         ],
         "jitter": 0.3,
         "marker": {
          "color": "blue"
         },
         "name": "approach_sum_familiar vs approach_sum_stranger | Rbp4-LMO3 - Familiar",
         "pointpos": -1.8,
         "showlegend": false,
         "type": "box",
         "visible": false,
         "x": [
          "Rbp4-LMO3 - Familiar",
          "Rbp4-LMO3 - Familiar",
          "Rbp4-LMO3 - Familiar",
          "Rbp4-LMO3 - Familiar",
          "Rbp4-LMO3 - Familiar",
          "Rbp4-LMO3 - Familiar",
          "Rbp4-LMO3 - Familiar",
          "Rbp4-LMO3 - Familiar",
          "Rbp4-LMO3 - Familiar",
          "Rbp4-LMO3 - Familiar",
          "Rbp4-LMO3 - Familiar",
          "Rbp4-LMO3 - Familiar",
          "Rbp4-LMO3 - Familiar",
          "Rbp4-LMO3 - Familiar",
          "Rbp4-LMO3 - Familiar",
          "Rbp4-LMO3 - Familiar",
          "Rbp4-LMO3 - Familiar",
          "Rbp4-LMO3 - Familiar",
          "Rbp4-LMO3 - Familiar",
          "Rbp4-LMO3 - Familiar",
          "Rbp4-LMO3 - Familiar",
          "Rbp4-LMO3 - Familiar",
          "Rbp4-LMO3 - Familiar"
         ],
         "y": [
          10,
          5,
          5,
          9,
          11,
          0,
          4,
          9,
          3,
          6,
          3,
          5,
          8,
          8,
          11,
          11,
          1,
          3,
          6,
          3,
          7,
          2,
          3
         ]
        },
        {
         "boxpoints": "all",
         "hoverinfo": "text",
         "hovertext": [
          "Tag: 3427<br>Age: 5.65 months<br>Value: 9.00",
          "Tag: 3435<br>Age: 10.61 months<br>Value: 5.00",
          "Tag: 3515<br>Age: 9.79 months<br>Value: 0.00",
          "Tag: 3518<br>Age: 9.79 months<br>Value: 2.83",
          "Tag: 3522<br>Age: 9.69 months<br>Value: 1.00",
          "Tag: 3523<br>Age: 9.69 months<br>Value: 5.00",
          "Tag: 3554<br>Age: 9.23 months<br>Value: 5.00",
          "Tag: 3559<br>Age: 9.10 months<br>Value: 2.00",
          "Tag: 3561<br>Age: 9.10 months<br>Value: 14.00",
          "Tag: 3548<br>Age: 8.97 months<br>Value: 6.00",
          "Tag: 3440<br>Age: 9.59 months<br>Value: 4.00",
          "Tag: 3437<br>Age: 10.58 months<br>Value: 5.00",
          "Tag: 3439<br>Age: 10.58 months<br>Value: 10.00",
          "Tag: 3520<br>Age: 9.59 months<br>Value: 12.00",
          "Tag: 3525<br>Age: 10.61 months<br>Value: 5.00",
          "Tag: 3551<br>Age: 10.61 months<br>Value: 4.00",
          "Tag: 3552<br>Age: 10.61 months<br>Value: 5.00",
          "Tag: 3557<br>Age: 10.35 months<br>Value: 4.00",
          "Tag: 3562<br>Age: 10.18 months<br>Value: 6.00",
          "Tag: 3564<br>Age: 10.18 months<br>Value: 6.00",
          "Tag: 3565<br>Age: 10.18 months<br>Value: 3.00",
          "Tag: 2809<br>Age: 10.05 months<br>Value: 2.00",
          "Tag: 2839<br>Age: 10.05 months<br>Value: 6.00"
         ],
         "jitter": 0.3,
         "marker": {
          "color": "blue"
         },
         "name": "approach_sum_familiar vs approach_sum_stranger | Rbp4-LMO3 - Stranger",
         "pointpos": -1.8,
         "showlegend": false,
         "type": "box",
         "visible": false,
         "x": [
          "Rbp4-LMO3 - Stranger",
          "Rbp4-LMO3 - Stranger",
          "Rbp4-LMO3 - Stranger",
          "Rbp4-LMO3 - Stranger",
          "Rbp4-LMO3 - Stranger",
          "Rbp4-LMO3 - Stranger",
          "Rbp4-LMO3 - Stranger",
          "Rbp4-LMO3 - Stranger",
          "Rbp4-LMO3 - Stranger",
          "Rbp4-LMO3 - Stranger",
          "Rbp4-LMO3 - Stranger",
          "Rbp4-LMO3 - Stranger",
          "Rbp4-LMO3 - Stranger",
          "Rbp4-LMO3 - Stranger",
          "Rbp4-LMO3 - Stranger",
          "Rbp4-LMO3 - Stranger",
          "Rbp4-LMO3 - Stranger",
          "Rbp4-LMO3 - Stranger",
          "Rbp4-LMO3 - Stranger",
          "Rbp4-LMO3 - Stranger",
          "Rbp4-LMO3 - Stranger",
          "Rbp4-LMO3 - Stranger",
          "Rbp4-LMO3 - Stranger"
         ],
         "y": [
          9,
          5,
          0,
          2.833333333,
          1,
          5,
          5,
          2,
          14,
          6,
          4,
          5,
          10,
          12,
          5,
          4,
          5,
          4,
          6,
          6,
          3,
          2,
          6
         ]
        },
        {
         "boxpoints": "all",
         "hoverinfo": "text",
         "hovertext": [
          "Tag: 3428<br>Age: 5.65 months<br>Value: 10.00",
          "Tag: 3434<br>Age: 10.61 months<br>Value: 4.00",
          "Tag: 3436<br>Age: 10.61 months<br>Value: 8.00",
          "Tag: 3442<br>Age: 9.86 months<br>Value: 9.00",
          "Tag: 3514<br>Age: 9.79 months<br>Value: 8.00",
          "Tag: 3516<br>Age: 9.79 months<br>Value: 7.00",
          "Tag: 3517<br>Age: 9.79 months<br>Value: 9.00",
          "Tag: 3555<br>Age: 9.23 months<br>Value: 7.00",
          "Tag: 3560<br>Age: 9.10 months<br>Value: 4.00",
          "Tag: 3549<br>Age: 8.97 months<br>Value: 8.00",
          "Tag: 3550<br>Age: 8.97 months<br>Value: 2.00",
          "Tag: 3429<br>Age: 9.59 months<br>Value: 5.00",
          "Tag: 3438<br>Age: 10.58 months<br>Value: 3.00",
          "Tag: 3445<br>Age: 9.86 months<br>Value: 8.00",
          "Tag: 3519<br>Age: 9.59 months<br>Value: 5.00",
          "Tag: 3521<br>Age: 8.94 months<br>Value: 8.00",
          "Tag: 3524<br>Age: 10.61 months<br>Value: 8.00",
          "Tag: 3553<br>Age: 10.61 months<br>Value: 1.00",
          "Tag: 3556<br>Age: 10.35 months<br>Value: 7.00",
          "Tag: 3558<br>Age: 10.35 months<br>Value: 4.00",
          "Tag: 3563<br>Age: 10.18 months<br>Value: 7.00",
          "Tag: 2808<br>Age: 10.05 months<br>Value: 8.00",
          "Tag: 2838<br>Age: 10.05 months<br>Value: 5.00"
         ],
         "jitter": 0.3,
         "marker": {
          "color": "red"
         },
         "name": "approach_sum_familiar vs approach_sum_stranger | wt-LMO3 - Familiar",
         "pointpos": -1.8,
         "showlegend": false,
         "type": "box",
         "visible": false,
         "x": [
          "wt-LMO3 - Familiar",
          "wt-LMO3 - Familiar",
          "wt-LMO3 - Familiar",
          "wt-LMO3 - Familiar",
          "wt-LMO3 - Familiar",
          "wt-LMO3 - Familiar",
          "wt-LMO3 - Familiar",
          "wt-LMO3 - Familiar",
          "wt-LMO3 - Familiar",
          "wt-LMO3 - Familiar",
          "wt-LMO3 - Familiar",
          "wt-LMO3 - Familiar",
          "wt-LMO3 - Familiar",
          "wt-LMO3 - Familiar",
          "wt-LMO3 - Familiar",
          "wt-LMO3 - Familiar",
          "wt-LMO3 - Familiar",
          "wt-LMO3 - Familiar",
          "wt-LMO3 - Familiar",
          "wt-LMO3 - Familiar",
          "wt-LMO3 - Familiar",
          "wt-LMO3 - Familiar",
          "wt-LMO3 - Familiar"
         ],
         "y": [
          10,
          4,
          8,
          9,
          8,
          7,
          9,
          7,
          4,
          8,
          2,
          5,
          3,
          8,
          5,
          8,
          8,
          1,
          7,
          4,
          7,
          8,
          5
         ]
        },
        {
         "boxpoints": "all",
         "hoverinfo": "text",
         "hovertext": [
          "Tag: 3428<br>Age: 5.65 months<br>Value: 9.00",
          "Tag: 3434<br>Age: 10.61 months<br>Value: 13.00",
          "Tag: 3436<br>Age: 10.61 months<br>Value: 11.00",
          "Tag: 3442<br>Age: 9.86 months<br>Value: 5.00",
          "Tag: 3514<br>Age: 9.79 months<br>Value: 3.00",
          "Tag: 3516<br>Age: 9.79 months<br>Value: 8.00",
          "Tag: 3517<br>Age: 9.79 months<br>Value: 5.00",
          "Tag: 3555<br>Age: 9.23 months<br>Value: 4.00",
          "Tag: 3560<br>Age: 9.10 months<br>Value: 3.00",
          "Tag: 3549<br>Age: 8.97 months<br>Value: 8.00",
          "Tag: 3550<br>Age: 8.97 months<br>Value: 10.00",
          "Tag: 3429<br>Age: 9.59 months<br>Value: 15.00",
          "Tag: 3438<br>Age: 10.58 months<br>Value: 11.00",
          "Tag: 3445<br>Age: 9.86 months<br>Value: 7.00",
          "Tag: 3519<br>Age: 9.59 months<br>Value: 5.00",
          "Tag: 3521<br>Age: 8.94 months<br>Value: 9.00",
          "Tag: 3524<br>Age: 10.61 months<br>Value: 8.00",
          "Tag: 3553<br>Age: 10.61 months<br>Value: 8.00",
          "Tag: 3556<br>Age: 10.35 months<br>Value: 10.00",
          "Tag: 3558<br>Age: 10.35 months<br>Value: 7.00",
          "Tag: 3563<br>Age: 10.18 months<br>Value: 6.00",
          "Tag: 2808<br>Age: 10.05 months<br>Value: 6.00",
          "Tag: 2838<br>Age: 10.05 months<br>Value: 4.00"
         ],
         "jitter": 0.3,
         "marker": {
          "color": "red"
         },
         "name": "approach_sum_familiar vs approach_sum_stranger | wt-LMO3 - Stranger",
         "pointpos": -1.8,
         "showlegend": false,
         "type": "box",
         "visible": false,
         "x": [
          "wt-LMO3 - Stranger",
          "wt-LMO3 - Stranger",
          "wt-LMO3 - Stranger",
          "wt-LMO3 - Stranger",
          "wt-LMO3 - Stranger",
          "wt-LMO3 - Stranger",
          "wt-LMO3 - Stranger",
          "wt-LMO3 - Stranger",
          "wt-LMO3 - Stranger",
          "wt-LMO3 - Stranger",
          "wt-LMO3 - Stranger",
          "wt-LMO3 - Stranger",
          "wt-LMO3 - Stranger",
          "wt-LMO3 - Stranger",
          "wt-LMO3 - Stranger",
          "wt-LMO3 - Stranger",
          "wt-LMO3 - Stranger",
          "wt-LMO3 - Stranger",
          "wt-LMO3 - Stranger",
          "wt-LMO3 - Stranger",
          "wt-LMO3 - Stranger",
          "wt-LMO3 - Stranger",
          "wt-LMO3 - Stranger"
         ],
         "y": [
          9,
          13,
          11,
          5,
          3,
          8,
          5,
          4,
          3,
          8,
          10,
          15,
          11,
          7,
          5,
          9,
          8,
          8,
          10,
          7,
          6,
          6,
          4
         ]
        }
       ],
       "layout": {
        "boxmode": "group",
        "height": 600,
        "template": {
         "data": {
          "bar": [
           {
            "error_x": {
             "color": "#2a3f5f"
            },
            "error_y": {
             "color": "#2a3f5f"
            },
            "marker": {
             "line": {
              "color": "#E5ECF6",
              "width": 0.5
             },
             "pattern": {
              "fillmode": "overlay",
              "size": 10,
              "solidity": 0.2
             }
            },
            "type": "bar"
           }
          ],
          "barpolar": [
           {
            "marker": {
             "line": {
              "color": "#E5ECF6",
              "width": 0.5
             },
             "pattern": {
              "fillmode": "overlay",
              "size": 10,
              "solidity": 0.2
             }
            },
            "type": "barpolar"
           }
          ],
          "carpet": [
           {
            "aaxis": {
             "endlinecolor": "#2a3f5f",
             "gridcolor": "white",
             "linecolor": "white",
             "minorgridcolor": "white",
             "startlinecolor": "#2a3f5f"
            },
            "baxis": {
             "endlinecolor": "#2a3f5f",
             "gridcolor": "white",
             "linecolor": "white",
             "minorgridcolor": "white",
             "startlinecolor": "#2a3f5f"
            },
            "type": "carpet"
           }
          ],
          "choropleth": [
           {
            "colorbar": {
             "outlinewidth": 0,
             "ticks": ""
            },
            "type": "choropleth"
           }
          ],
          "contour": [
           {
            "colorbar": {
             "outlinewidth": 0,
             "ticks": ""
            },
            "colorscale": [
             [
              0,
              "#0d0887"
             ],
             [
              0.1111111111111111,
              "#46039f"
             ],
             [
              0.2222222222222222,
              "#7201a8"
             ],
             [
              0.3333333333333333,
              "#9c179e"
             ],
             [
              0.4444444444444444,
              "#bd3786"
             ],
             [
              0.5555555555555556,
              "#d8576b"
             ],
             [
              0.6666666666666666,
              "#ed7953"
             ],
             [
              0.7777777777777778,
              "#fb9f3a"
             ],
             [
              0.8888888888888888,
              "#fdca26"
             ],
             [
              1,
              "#f0f921"
             ]
            ],
            "type": "contour"
           }
          ],
          "contourcarpet": [
           {
            "colorbar": {
             "outlinewidth": 0,
             "ticks": ""
            },
            "type": "contourcarpet"
           }
          ],
          "heatmap": [
           {
            "colorbar": {
             "outlinewidth": 0,
             "ticks": ""
            },
            "colorscale": [
             [
              0,
              "#0d0887"
             ],
             [
              0.1111111111111111,
              "#46039f"
             ],
             [
              0.2222222222222222,
              "#7201a8"
             ],
             [
              0.3333333333333333,
              "#9c179e"
             ],
             [
              0.4444444444444444,
              "#bd3786"
             ],
             [
              0.5555555555555556,
              "#d8576b"
             ],
             [
              0.6666666666666666,
              "#ed7953"
             ],
             [
              0.7777777777777778,
              "#fb9f3a"
             ],
             [
              0.8888888888888888,
              "#fdca26"
             ],
             [
              1,
              "#f0f921"
             ]
            ],
            "type": "heatmap"
           }
          ],
          "heatmapgl": [
           {
            "colorbar": {
             "outlinewidth": 0,
             "ticks": ""
            },
            "colorscale": [
             [
              0,
              "#0d0887"
             ],
             [
              0.1111111111111111,
              "#46039f"
             ],
             [
              0.2222222222222222,
              "#7201a8"
             ],
             [
              0.3333333333333333,
              "#9c179e"
             ],
             [
              0.4444444444444444,
              "#bd3786"
             ],
             [
              0.5555555555555556,
              "#d8576b"
             ],
             [
              0.6666666666666666,
              "#ed7953"
             ],
             [
              0.7777777777777778,
              "#fb9f3a"
             ],
             [
              0.8888888888888888,
              "#fdca26"
             ],
             [
              1,
              "#f0f921"
             ]
            ],
            "type": "heatmapgl"
           }
          ],
          "histogram": [
           {
            "marker": {
             "pattern": {
              "fillmode": "overlay",
              "size": 10,
              "solidity": 0.2
             }
            },
            "type": "histogram"
           }
          ],
          "histogram2d": [
           {
            "colorbar": {
             "outlinewidth": 0,
             "ticks": ""
            },
            "colorscale": [
             [
              0,
              "#0d0887"
             ],
             [
              0.1111111111111111,
              "#46039f"
             ],
             [
              0.2222222222222222,
              "#7201a8"
             ],
             [
              0.3333333333333333,
              "#9c179e"
             ],
             [
              0.4444444444444444,
              "#bd3786"
             ],
             [
              0.5555555555555556,
              "#d8576b"
             ],
             [
              0.6666666666666666,
              "#ed7953"
             ],
             [
              0.7777777777777778,
              "#fb9f3a"
             ],
             [
              0.8888888888888888,
              "#fdca26"
             ],
             [
              1,
              "#f0f921"
             ]
            ],
            "type": "histogram2d"
           }
          ],
          "histogram2dcontour": [
           {
            "colorbar": {
             "outlinewidth": 0,
             "ticks": ""
            },
            "colorscale": [
             [
              0,
              "#0d0887"
             ],
             [
              0.1111111111111111,
              "#46039f"
             ],
             [
              0.2222222222222222,
              "#7201a8"
             ],
             [
              0.3333333333333333,
              "#9c179e"
             ],
             [
              0.4444444444444444,
              "#bd3786"
             ],
             [
              0.5555555555555556,
              "#d8576b"
             ],
             [
              0.6666666666666666,
              "#ed7953"
             ],
             [
              0.7777777777777778,
              "#fb9f3a"
             ],
             [
              0.8888888888888888,
              "#fdca26"
             ],
             [
              1,
              "#f0f921"
             ]
            ],
            "type": "histogram2dcontour"
           }
          ],
          "mesh3d": [
           {
            "colorbar": {
             "outlinewidth": 0,
             "ticks": ""
            },
            "type": "mesh3d"
           }
          ],
          "parcoords": [
           {
            "line": {
             "colorbar": {
              "outlinewidth": 0,
              "ticks": ""
             }
            },
            "type": "parcoords"
           }
          ],
          "pie": [
           {
            "automargin": true,
            "type": "pie"
           }
          ],
          "scatter": [
           {
            "fillpattern": {
             "fillmode": "overlay",
             "size": 10,
             "solidity": 0.2
            },
            "type": "scatter"
           }
          ],
          "scatter3d": [
           {
            "line": {
             "colorbar": {
              "outlinewidth": 0,
              "ticks": ""
             }
            },
            "marker": {
             "colorbar": {
              "outlinewidth": 0,
              "ticks": ""
             }
            },
            "type": "scatter3d"
           }
          ],
          "scattercarpet": [
           {
            "marker": {
             "colorbar": {
              "outlinewidth": 0,
              "ticks": ""
             }
            },
            "type": "scattercarpet"
           }
          ],
          "scattergeo": [
           {
            "marker": {
             "colorbar": {
              "outlinewidth": 0,
              "ticks": ""
             }
            },
            "type": "scattergeo"
           }
          ],
          "scattergl": [
           {
            "marker": {
             "colorbar": {
              "outlinewidth": 0,
              "ticks": ""
             }
            },
            "type": "scattergl"
           }
          ],
          "scattermapbox": [
           {
            "marker": {
             "colorbar": {
              "outlinewidth": 0,
              "ticks": ""
             }
            },
            "type": "scattermapbox"
           }
          ],
          "scatterpolar": [
           {
            "marker": {
             "colorbar": {
              "outlinewidth": 0,
              "ticks": ""
             }
            },
            "type": "scatterpolar"
           }
          ],
          "scatterpolargl": [
           {
            "marker": {
             "colorbar": {
              "outlinewidth": 0,
              "ticks": ""
             }
            },
            "type": "scatterpolargl"
           }
          ],
          "scatterternary": [
           {
            "marker": {
             "colorbar": {
              "outlinewidth": 0,
              "ticks": ""
             }
            },
            "type": "scatterternary"
           }
          ],
          "surface": [
           {
            "colorbar": {
             "outlinewidth": 0,
             "ticks": ""
            },
            "colorscale": [
             [
              0,
              "#0d0887"
             ],
             [
              0.1111111111111111,
              "#46039f"
             ],
             [
              0.2222222222222222,
              "#7201a8"
             ],
             [
              0.3333333333333333,
              "#9c179e"
             ],
             [
              0.4444444444444444,
              "#bd3786"
             ],
             [
              0.5555555555555556,
              "#d8576b"
             ],
             [
              0.6666666666666666,
              "#ed7953"
             ],
             [
              0.7777777777777778,
              "#fb9f3a"
             ],
             [
              0.8888888888888888,
              "#fdca26"
             ],
             [
              1,
              "#f0f921"
             ]
            ],
            "type": "surface"
           }
          ],
          "table": [
           {
            "cells": {
             "fill": {
              "color": "#EBF0F8"
             },
             "line": {
              "color": "white"
             }
            },
            "header": {
             "fill": {
              "color": "#C8D4E3"
             },
             "line": {
              "color": "white"
             }
            },
            "type": "table"
           }
          ]
         },
         "layout": {
          "annotationdefaults": {
           "arrowcolor": "#2a3f5f",
           "arrowhead": 0,
           "arrowwidth": 1
          },
          "autotypenumbers": "strict",
          "coloraxis": {
           "colorbar": {
            "outlinewidth": 0,
            "ticks": ""
           }
          },
          "colorscale": {
           "diverging": [
            [
             0,
             "#8e0152"
            ],
            [
             0.1,
             "#c51b7d"
            ],
            [
             0.2,
             "#de77ae"
            ],
            [
             0.3,
             "#f1b6da"
            ],
            [
             0.4,
             "#fde0ef"
            ],
            [
             0.5,
             "#f7f7f7"
            ],
            [
             0.6,
             "#e6f5d0"
            ],
            [
             0.7,
             "#b8e186"
            ],
            [
             0.8,
             "#7fbc41"
            ],
            [
             0.9,
             "#4d9221"
            ],
            [
             1,
             "#276419"
            ]
           ],
           "sequential": [
            [
             0,
             "#0d0887"
            ],
            [
             0.1111111111111111,
             "#46039f"
            ],
            [
             0.2222222222222222,
             "#7201a8"
            ],
            [
             0.3333333333333333,
             "#9c179e"
            ],
            [
             0.4444444444444444,
             "#bd3786"
            ],
            [
             0.5555555555555556,
             "#d8576b"
            ],
            [
             0.6666666666666666,
             "#ed7953"
            ],
            [
             0.7777777777777778,
             "#fb9f3a"
            ],
            [
             0.8888888888888888,
             "#fdca26"
            ],
            [
             1,
             "#f0f921"
            ]
           ],
           "sequentialminus": [
            [
             0,
             "#0d0887"
            ],
            [
             0.1111111111111111,
             "#46039f"
            ],
            [
             0.2222222222222222,
             "#7201a8"
            ],
            [
             0.3333333333333333,
             "#9c179e"
            ],
            [
             0.4444444444444444,
             "#bd3786"
            ],
            [
             0.5555555555555556,
             "#d8576b"
            ],
            [
             0.6666666666666666,
             "#ed7953"
            ],
            [
             0.7777777777777778,
             "#fb9f3a"
            ],
            [
             0.8888888888888888,
             "#fdca26"
            ],
            [
             1,
             "#f0f921"
            ]
           ]
          },
          "colorway": [
           "#636efa",
           "#EF553B",
           "#00cc96",
           "#ab63fa",
           "#FFA15A",
           "#19d3f3",
           "#FF6692",
           "#B6E880",
           "#FF97FF",
           "#FECB52"
          ],
          "font": {
           "color": "#2a3f5f"
          },
          "geo": {
           "bgcolor": "white",
           "lakecolor": "white",
           "landcolor": "#E5ECF6",
           "showlakes": true,
           "showland": true,
           "subunitcolor": "white"
          },
          "hoverlabel": {
           "align": "left"
          },
          "hovermode": "closest",
          "mapbox": {
           "style": "light"
          },
          "paper_bgcolor": "white",
          "plot_bgcolor": "#E5ECF6",
          "polar": {
           "angularaxis": {
            "gridcolor": "white",
            "linecolor": "white",
            "ticks": ""
           },
           "bgcolor": "#E5ECF6",
           "radialaxis": {
            "gridcolor": "white",
            "linecolor": "white",
            "ticks": ""
           }
          },
          "scene": {
           "xaxis": {
            "backgroundcolor": "#E5ECF6",
            "gridcolor": "white",
            "gridwidth": 2,
            "linecolor": "white",
            "showbackground": true,
            "ticks": "",
            "zerolinecolor": "white"
           },
           "yaxis": {
            "backgroundcolor": "#E5ECF6",
            "gridcolor": "white",
            "gridwidth": 2,
            "linecolor": "white",
            "showbackground": true,
            "ticks": "",
            "zerolinecolor": "white"
           },
           "zaxis": {
            "backgroundcolor": "#E5ECF6",
            "gridcolor": "white",
            "gridwidth": 2,
            "linecolor": "white",
            "showbackground": true,
            "ticks": "",
            "zerolinecolor": "white"
           }
          },
          "shapedefaults": {
           "line": {
            "color": "#2a3f5f"
           }
          },
          "ternary": {
           "aaxis": {
            "gridcolor": "white",
            "linecolor": "white",
            "ticks": ""
           },
           "baxis": {
            "gridcolor": "white",
            "linecolor": "white",
            "ticks": ""
           },
           "bgcolor": "#E5ECF6",
           "caxis": {
            "gridcolor": "white",
            "linecolor": "white",
            "ticks": ""
           }
          },
          "title": {
           "x": 0.05
          },
          "xaxis": {
           "automargin": true,
           "gridcolor": "white",
           "linecolor": "white",
           "ticks": "",
           "title": {
            "standoff": 15
           },
           "zerolinecolor": "white",
           "zerolinewidth": 2
          },
          "yaxis": {
           "automargin": true,
           "gridcolor": "white",
           "linecolor": "white",
           "ticks": "",
           "title": {
            "standoff": 15
           },
           "zerolinecolor": "white",
           "zerolinewidth": 2
          }
         }
        },
        "title": {
         "text": "Comparison of Familiar vs Stranger Metrics by Genotype"
        },
        "updatemenus": [
         {
          "buttons": [
           {
            "args": [
             {
              "visible": [
               true,
               true,
               true,
               true,
               false,
               false,
               false,
               false,
               false,
               false,
               false,
               false
              ]
             },
             {
              "title": "Comparison of interactiontime_sum_familiar vs interactiontime_sum_stranger"
             }
            ],
            "label": "interactiontime_sum_familiar vs interactiontime_sum_stranger",
            "method": "update"
           },
           {
            "args": [
             {
              "visible": [
               false,
               false,
               false,
               false,
               true,
               true,
               true,
               true,
               false,
               false,
               false,
               false
              ]
             },
             {
              "title": "Comparison of interactiontime_avg_familiar vs interactiontime_avg_stranger"
             }
            ],
            "label": "interactiontime_avg_familiar vs interactiontime_avg_stranger",
            "method": "update"
           },
           {
            "args": [
             {
              "visible": [
               false,
               false,
               false,
               false,
               false,
               false,
               false,
               false,
               true,
               true,
               true,
               true
              ]
             },
             {
              "title": "Comparison of approach_sum_familiar vs approach_sum_stranger"
             }
            ],
            "label": "approach_sum_familiar vs approach_sum_stranger",
            "method": "update"
           }
          ],
          "direction": "down",
          "pad": {
           "r": 10,
           "t": 10
          },
          "showactive": true,
          "x": 0.1,
          "xanchor": "left",
          "y": 1.1,
          "yanchor": "top"
         }
        ],
        "width": 1000,
        "xaxis": {
         "title": {
          "text": "Genotype - Condition"
         }
        },
        "yaxis": {
         "title": {
          "text": "Value"
         }
        }
       }
      }
     },
     "metadata": {},
     "output_type": "display_data"
    }
   ],
   "source": [
    "# Create and show the interactive plot\n",
    "mouse_analysis.analysis.show_interactive_plot()"
   ]
  },
  {
   "cell_type": "code",
   "execution_count": 566,
   "id": "491b257e",
   "metadata": {},
   "outputs": [
    {
     "data": {
      "application/vnd.plotly.v1+json": {
       "config": {
        "plotlyServerURL": "https://plot.ly"
       },
       "data": [
        {
         "boxpoints": "all",
         "hoverinfo": "text",
         "hovertext": [
          "Tag: 3427<br>Age: 5.65 months<br>Discrimination: 0.2353",
          "Tag: 3435<br>Age: 10.61 months<br>Discrimination: 0.5000",
          "Tag: 3515<br>Age: 9.79 months<br>Discrimination: -1.0000",
          "Tag: 3518<br>Age: 9.79 months<br>Discrimination: -0.1282",
          "Tag: 3522<br>Age: 9.69 months<br>Discrimination: -0.9286",
          "Tag: 3523<br>Age: 9.69 months<br>Discrimination: 1.0000",
          "Tag: 3554<br>Age: 9.23 months<br>Discrimination: 0.2000",
          "Tag: 3559<br>Age: 9.10 months<br>Discrimination: -0.7561",
          "Tag: 3561<br>Age: 9.10 months<br>Discrimination: 0.6667",
          "Tag: 3548<br>Age: 8.97 months<br>Discrimination: 0.0323",
          "Tag: 3440<br>Age: 9.59 months<br>Discrimination: 0.0714",
          "Tag: 3437<br>Age: 10.58 months<br>Discrimination: 0.0769",
          "Tag: 3439<br>Age: 10.58 months<br>Discrimination: 0.2143",
          "Tag: 3520<br>Age: 9.59 months<br>Discrimination: 0.1364",
          "Tag: 3525<br>Age: 10.61 months<br>Discrimination: -0.1351",
          "Tag: 3551<br>Age: 10.61 months<br>Discrimination: -0.1351",
          "Tag: 3552<br>Age: 10.61 months<br>Discrimination: 0.8667",
          "Tag: 3557<br>Age: 10.35 months<br>Discrimination: 0.2857",
          "Tag: 3562<br>Age: 10.18 months<br>Discrimination: -0.1176",
          "Tag: 3564<br>Age: 10.18 months<br>Discrimination: 0.6522",
          "Tag: 3565<br>Age: 10.18 months<br>Discrimination: -0.2414",
          "Tag: 2809<br>Age: 10.05 months<br>Discrimination: -0.4545",
          "Tag: 2839<br>Age: 10.05 months<br>Discrimination: 0.3846"
         ],
         "jitter": 0.3,
         "marker": {
          "color": "blue"
         },
         "name": "interactiontime_sum_familiar vs interactiontime_sum_stranger | Rbp4-LMO3",
         "pointpos": -1.8,
         "showlegend": false,
         "type": "box",
         "visible": true,
         "x": [
          "Rbp4-LMO3",
          "Rbp4-LMO3",
          "Rbp4-LMO3",
          "Rbp4-LMO3",
          "Rbp4-LMO3",
          "Rbp4-LMO3",
          "Rbp4-LMO3",
          "Rbp4-LMO3",
          "Rbp4-LMO3",
          "Rbp4-LMO3",
          "Rbp4-LMO3",
          "Rbp4-LMO3",
          "Rbp4-LMO3",
          "Rbp4-LMO3",
          "Rbp4-LMO3",
          "Rbp4-LMO3",
          "Rbp4-LMO3",
          "Rbp4-LMO3",
          "Rbp4-LMO3",
          "Rbp4-LMO3",
          "Rbp4-LMO3",
          "Rbp4-LMO3",
          "Rbp4-LMO3"
         ],
         "y": [
          0.23529411764705882,
          0.5,
          -1,
          -0.1282051282051282,
          -0.9285714285714286,
          1,
          0.2,
          -0.7560975609756098,
          0.6666666666666666,
          0.03225806451612903,
          0.07142857142857142,
          0.07692307692307693,
          0.21428571428571427,
          0.13636363636363635,
          -0.13513513513513514,
          -0.13513513513513514,
          0.8666666666666667,
          0.2857142857142857,
          -0.11764705882352941,
          0.6521739130434783,
          -0.2413793103448276,
          -0.45454545454545453,
          0.38461538461538464
         ]
        },
        {
         "boxpoints": "all",
         "hoverinfo": "text",
         "hovertext": [
          "Tag: 3428<br>Age: 5.65 months<br>Discrimination: 0.0097",
          "Tag: 3434<br>Age: 10.61 months<br>Discrimination: 0.1765",
          "Tag: 3436<br>Age: 10.61 months<br>Discrimination: 0.1607",
          "Tag: 3442<br>Age: 9.86 months<br>Discrimination: -0.2231",
          "Tag: 3514<br>Age: 9.79 months<br>Discrimination: -0.6429",
          "Tag: 3516<br>Age: 9.79 months<br>Discrimination: -0.1111",
          "Tag: 3517<br>Age: 9.79 months<br>Discrimination: -0.1795",
          "Tag: 3555<br>Age: 9.23 months<br>Discrimination: -0.5714",
          "Tag: 3560<br>Age: 9.10 months<br>Discrimination: 0.3333",
          "Tag: 3549<br>Age: 8.97 months<br>Discrimination: -0.0698",
          "Tag: 3550<br>Age: 8.97 months<br>Discrimination: 0.7895",
          "Tag: 3429<br>Age: 9.59 months<br>Discrimination: 0.5102",
          "Tag: 3438<br>Age: 10.58 months<br>Discrimination: 0.6667",
          "Tag: 3445<br>Age: 9.86 months<br>Discrimination: -0.2500",
          "Tag: 3519<br>Age: 9.59 months<br>Discrimination: -0.2500",
          "Tag: 3521<br>Age: 8.94 months<br>Discrimination: -0.2941",
          "Tag: 3524<br>Age: 10.61 months<br>Discrimination: 0.0526",
          "Tag: 3553<br>Age: 10.61 months<br>Discrimination: 0.8182",
          "Tag: 3556<br>Age: 10.35 months<br>Discrimination: 0.0500",
          "Tag: 3558<br>Age: 10.35 months<br>Discrimination: 0.2381",
          "Tag: 3563<br>Age: 10.18 months<br>Discrimination: 0.4222",
          "Tag: 2808<br>Age: 10.05 months<br>Discrimination: -0.2121",
          "Tag: 2838<br>Age: 10.05 months<br>Discrimination: -0.2000"
         ],
         "jitter": 0.3,
         "marker": {
          "color": "red"
         },
         "name": "interactiontime_sum_familiar vs interactiontime_sum_stranger | wt-LMO3",
         "pointpos": -1.8,
         "showlegend": false,
         "type": "box",
         "visible": true,
         "x": [
          "wt-LMO3",
          "wt-LMO3",
          "wt-LMO3",
          "wt-LMO3",
          "wt-LMO3",
          "wt-LMO3",
          "wt-LMO3",
          "wt-LMO3",
          "wt-LMO3",
          "wt-LMO3",
          "wt-LMO3",
          "wt-LMO3",
          "wt-LMO3",
          "wt-LMO3",
          "wt-LMO3",
          "wt-LMO3",
          "wt-LMO3",
          "wt-LMO3",
          "wt-LMO3",
          "wt-LMO3",
          "wt-LMO3",
          "wt-LMO3",
          "wt-LMO3"
         ],
         "y": [
          0.009708737864077669,
          0.17647058823529413,
          0.16071428571428573,
          -0.2231404958677686,
          -0.6428571428571429,
          -0.1111111111111111,
          -0.1794871794871795,
          -0.5714285714285714,
          0.3333333333333333,
          -0.06976744186046512,
          0.7894736842105263,
          0.5102040816326531,
          0.6666666666666666,
          -0.25,
          -0.25,
          -0.29411764705882354,
          0.05263157894736842,
          0.8181818181818182,
          0.05,
          0.23809523809523808,
          0.4222222222222222,
          -0.21212121212121213,
          -0.2
         ]
        },
        {
         "boxpoints": "all",
         "hoverinfo": "text",
         "hovertext": [
          "Tag: 3427<br>Age: 5.65 months<br>Discrimination: 0.2844",
          "Tag: 3435<br>Age: 10.61 months<br>Discrimination: 0.5000",
          "Tag: 3515<br>Age: 9.79 months<br>Discrimination: -1.0000",
          "Tag: 3518<br>Age: 9.79 months<br>Discrimination: 0.4211",
          "Tag: 3522<br>Age: 9.69 months<br>Discrimination: -0.4211",
          "Tag: 3523<br>Age: 9.69 months<br>Discrimination: 1.0000",
          "Tag: 3554<br>Age: 9.23 months<br>Discrimination: 0.0909",
          "Tag: 3559<br>Age: 9.10 months<br>Discrimination: -0.2308",
          "Tag: 3561<br>Age: 9.10 months<br>Discrimination: 0.0345",
          "Tag: 3548<br>Age: 8.97 months<br>Discrimination: 0.0323",
          "Tag: 3440<br>Age: 9.59 months<br>Discrimination: -0.0722",
          "Tag: 3437<br>Age: 10.58 months<br>Discrimination: 0.0769",
          "Tag: 3439<br>Age: 10.58 months<br>Discrimination: 0.1057",
          "Tag: 3520<br>Age: 9.59 months<br>Discrimination: -0.0654",
          "Tag: 3525<br>Age: 10.61 months<br>Discrimination: 0.2527",
          "Tag: 3551<br>Age: 10.61 months<br>Discrimination: 0.3538",
          "Tag: 3552<br>Age: 10.61 months<br>Discrimination: 0.4737",
          "Tag: 3557<br>Age: 10.35 months<br>Discrimination: 0.1489",
          "Tag: 3562<br>Age: 10.18 months<br>Discrimination: -0.1176",
          "Tag: 3564<br>Age: 10.18 months<br>Discrimination: 0.4074",
          "Tag: 3565<br>Age: 10.18 months<br>Discrimination: 0.1756",
          "Tag: 2809<br>Age: 10.05 months<br>Discrimination: -0.4545",
          "Tag: 2839<br>Age: 10.05 months<br>Discrimination: 0.0588"
         ],
         "jitter": 0.3,
         "marker": {
          "color": "blue"
         },
         "name": "interactiontime_avg_familiar vs interactiontime_avg_stranger | Rbp4-LMO3",
         "pointpos": -1.8,
         "showlegend": false,
         "type": "box",
         "visible": false,
         "x": [
          "Rbp4-LMO3",
          "Rbp4-LMO3",
          "Rbp4-LMO3",
          "Rbp4-LMO3",
          "Rbp4-LMO3",
          "Rbp4-LMO3",
          "Rbp4-LMO3",
          "Rbp4-LMO3",
          "Rbp4-LMO3",
          "Rbp4-LMO3",
          "Rbp4-LMO3",
          "Rbp4-LMO3",
          "Rbp4-LMO3",
          "Rbp4-LMO3",
          "Rbp4-LMO3",
          "Rbp4-LMO3",
          "Rbp4-LMO3",
          "Rbp4-LMO3",
          "Rbp4-LMO3",
          "Rbp4-LMO3",
          "Rbp4-LMO3",
          "Rbp4-LMO3",
          "Rbp4-LMO3"
         ],
         "y": [
          0.28440367300732267,
          0.5000000000000001,
          -1,
          0.42105263232686985,
          -0.4210526308171745,
          1,
          0.09090909090909091,
          -0.23076923076923078,
          0.034482758495838296,
          0.032258065140478694,
          -0.07216494462748427,
          0.07692307692307691,
          0.10569105691056908,
          -0.0654205615442397,
          0.2526690389230127,
          0.35384615363786986,
          0.47368421052631576,
          0.14893616923494798,
          -0.11764705934256059,
          0.4074074088888889,
          0.17557251979371832,
          -0.45454545454545453,
          0.05882353065743941
         ]
        },
        {
         "boxpoints": "all",
         "hoverinfo": "text",
         "hovertext": [
          "Tag: 3428<br>Age: 5.65 months<br>Discrimination: 0.0623",
          "Tag: 3434<br>Age: 10.61 months<br>Discrimination: -0.3893",
          "Tag: 3436<br>Age: 10.61 months<br>Discrimination: 0.0029",
          "Tag: 3442<br>Age: 9.86 months<br>Discrimination: 0.0668",
          "Tag: 3514<br>Age: 9.79 months<br>Discrimination: -0.2661",
          "Tag: 3516<br>Age: 9.79 months<br>Discrimination: -0.1795",
          "Tag: 3517<br>Age: 9.79 months<br>Discrimination: 0.1120",
          "Tag: 3555<br>Age: 9.23 months<br>Discrimination: -0.3538",
          "Tag: 3560<br>Age: 9.10 months<br>Discrimination: 0.4545",
          "Tag: 3549<br>Age: 8.97 months<br>Discrimination: -0.0698",
          "Tag: 3550<br>Age: 8.97 months<br>Discrimination: 0.2593",
          "Tag: 3429<br>Age: 9.59 months<br>Discrimination: 0.0137",
          "Tag: 3438<br>Age: 10.58 months<br>Discrimination: 0.1538",
          "Tag: 3445<br>Age: 9.86 months<br>Discrimination: -0.1864",
          "Tag: 3519<br>Age: 9.59 months<br>Discrimination: -0.2500",
          "Tag: 3521<br>Age: 8.94 months<br>Discrimination: -0.3469",
          "Tag: 3524<br>Age: 10.61 months<br>Discrimination: 0.0526",
          "Tag: 3553<br>Age: 10.61 months<br>Discrimination: 0.1111",
          "Tag: 3556<br>Age: 10.35 months<br>Discrimination: -0.1276",
          "Tag: 3558<br>Age: 10.35 months<br>Discrimination: -0.0370",
          "Tag: 3563<br>Age: 10.18 months<br>Discrimination: 0.4834",
          "Tag: 2808<br>Age: 10.05 months<br>Discrimination: -0.0714",
          "Tag: 2838<br>Age: 10.05 months<br>Discrimination: -0.0909"
         ],
         "jitter": 0.3,
         "marker": {
          "color": "red"
         },
         "name": "interactiontime_avg_familiar vs interactiontime_avg_stranger | wt-LMO3",
         "pointpos": -1.8,
         "showlegend": false,
         "type": "box",
         "visible": false,
         "x": [
          "wt-LMO3",
          "wt-LMO3",
          "wt-LMO3",
          "wt-LMO3",
          "wt-LMO3",
          "wt-LMO3",
          "wt-LMO3",
          "wt-LMO3",
          "wt-LMO3",
          "wt-LMO3",
          "wt-LMO3",
          "wt-LMO3",
          "wt-LMO3",
          "wt-LMO3",
          "wt-LMO3",
          "wt-LMO3",
          "wt-LMO3",
          "wt-LMO3",
          "wt-LMO3",
          "wt-LMO3",
          "wt-LMO3",
          "wt-LMO3",
          "wt-LMO3"
         ],
         "y": [
          0.06230847995442601,
          -0.3893129766750189,
          0.0028929605397960863,
          0.06683480588503765,
          -0.26605504494234494,
          -0.17951122359519942,
          0.11196911111044856,
          -0.3538461540052071,
          0.45454545454545453,
          -0.06976744186046512,
          0.25925925925925924,
          0.013698636892475153,
          0.1538461537376726,
          -0.186440672603658,
          -0.25,
          -0.3469387755102041,
          0.05263157894736842,
          0.1111111111111111,
          -0.12759643839251905,
          -0.03703703626886147,
          0.4834437077803606,
          -0.07142857066326529,
          -0.09090909090909088
         ]
        },
        {
         "boxpoints": "all",
         "hoverinfo": "text",
         "hovertext": [
          "Tag: 3427<br>Age: 5.65 months<br>Discrimination: -0.0526",
          "Tag: 3435<br>Age: 10.61 months<br>Discrimination: 0.0000",
          "Tag: 3515<br>Age: 9.79 months<br>Discrimination: -1.0000",
          "Tag: 3518<br>Age: 9.79 months<br>Discrimination: -0.5211",
          "Tag: 3522<br>Age: 9.69 months<br>Discrimination: -0.8333",
          "Tag: 3523<br>Age: 9.69 months<br>Discrimination: 1.0000",
          "Tag: 3554<br>Age: 9.23 months<br>Discrimination: 0.1111",
          "Tag: 3559<br>Age: 9.10 months<br>Discrimination: -0.6364",
          "Tag: 3561<br>Age: 9.10 months<br>Discrimination: 0.6471",
          "Tag: 3548<br>Age: 8.97 months<br>Discrimination: 0.0000",
          "Tag: 3440<br>Age: 9.59 months<br>Discrimination: 0.1429",
          "Tag: 3437<br>Age: 10.58 months<br>Discrimination: 0.0000",
          "Tag: 3439<br>Age: 10.58 months<br>Discrimination: 0.1111",
          "Tag: 3520<br>Age: 9.59 months<br>Discrimination: 0.2000",
          "Tag: 3525<br>Age: 10.61 months<br>Discrimination: -0.3750",
          "Tag: 3551<br>Age: 10.61 months<br>Discrimination: -0.4667",
          "Tag: 3552<br>Age: 10.61 months<br>Discrimination: 0.6667",
          "Tag: 3557<br>Age: 10.35 months<br>Discrimination: 0.1429",
          "Tag: 3562<br>Age: 10.18 months<br>Discrimination: 0.0000",
          "Tag: 3564<br>Age: 10.18 months<br>Discrimination: 0.3333",
          "Tag: 3565<br>Age: 10.18 months<br>Discrimination: -0.4000",
          "Tag: 2809<br>Age: 10.05 months<br>Discrimination: 0.0000",
          "Tag: 2839<br>Age: 10.05 months<br>Discrimination: 0.3333"
         ],
         "jitter": 0.3,
         "marker": {
          "color": "blue"
         },
         "name": "approach_sum_familiar vs approach_sum_stranger | Rbp4-LMO3",
         "pointpos": -1.8,
         "showlegend": false,
         "type": "box",
         "visible": false,
         "x": [
          "Rbp4-LMO3",
          "Rbp4-LMO3",
          "Rbp4-LMO3",
          "Rbp4-LMO3",
          "Rbp4-LMO3",
          "Rbp4-LMO3",
          "Rbp4-LMO3",
          "Rbp4-LMO3",
          "Rbp4-LMO3",
          "Rbp4-LMO3",
          "Rbp4-LMO3",
          "Rbp4-LMO3",
          "Rbp4-LMO3",
          "Rbp4-LMO3",
          "Rbp4-LMO3",
          "Rbp4-LMO3",
          "Rbp4-LMO3",
          "Rbp4-LMO3",
          "Rbp4-LMO3",
          "Rbp4-LMO3",
          "Rbp4-LMO3",
          "Rbp4-LMO3",
          "Rbp4-LMO3"
         ],
         "y": [
          -0.05263157894736842,
          0,
          -1,
          -0.5211267606062289,
          -0.8333333333333334,
          1,
          0.1111111111111111,
          -0.6363636363636364,
          0.6470588235294118,
          0,
          0.14285714285714285,
          0,
          0.1111111111111111,
          0.2,
          -0.375,
          -0.4666666666666667,
          0.6666666666666666,
          0.14285714285714285,
          0,
          0.3333333333333333,
          -0.4,
          0,
          0.3333333333333333
         ]
        },
        {
         "boxpoints": "all",
         "hoverinfo": "text",
         "hovertext": [
          "Tag: 3428<br>Age: 5.65 months<br>Discrimination: -0.0526",
          "Tag: 3434<br>Age: 10.61 months<br>Discrimination: 0.5294",
          "Tag: 3436<br>Age: 10.61 months<br>Discrimination: 0.1579",
          "Tag: 3442<br>Age: 9.86 months<br>Discrimination: -0.2857",
          "Tag: 3514<br>Age: 9.79 months<br>Discrimination: -0.4545",
          "Tag: 3516<br>Age: 9.79 months<br>Discrimination: 0.0667",
          "Tag: 3517<br>Age: 9.79 months<br>Discrimination: -0.2857",
          "Tag: 3555<br>Age: 9.23 months<br>Discrimination: -0.2727",
          "Tag: 3560<br>Age: 9.10 months<br>Discrimination: -0.1429",
          "Tag: 3549<br>Age: 8.97 months<br>Discrimination: 0.0000",
          "Tag: 3550<br>Age: 8.97 months<br>Discrimination: 0.6667",
          "Tag: 3429<br>Age: 9.59 months<br>Discrimination: 0.5000",
          "Tag: 3438<br>Age: 10.58 months<br>Discrimination: 0.5714",
          "Tag: 3445<br>Age: 9.86 months<br>Discrimination: -0.0667",
          "Tag: 3519<br>Age: 9.59 months<br>Discrimination: 0.0000",
          "Tag: 3521<br>Age: 8.94 months<br>Discrimination: 0.0588",
          "Tag: 3524<br>Age: 10.61 months<br>Discrimination: 0.0000",
          "Tag: 3553<br>Age: 10.61 months<br>Discrimination: 0.7778",
          "Tag: 3556<br>Age: 10.35 months<br>Discrimination: 0.1765",
          "Tag: 3558<br>Age: 10.35 months<br>Discrimination: 0.2727",
          "Tag: 3563<br>Age: 10.18 months<br>Discrimination: -0.0769",
          "Tag: 2808<br>Age: 10.05 months<br>Discrimination: -0.1429",
          "Tag: 2838<br>Age: 10.05 months<br>Discrimination: -0.1111"
         ],
         "jitter": 0.3,
         "marker": {
          "color": "red"
         },
         "name": "approach_sum_familiar vs approach_sum_stranger | wt-LMO3",
         "pointpos": -1.8,
         "showlegend": false,
         "type": "box",
         "visible": false,
         "x": [
          "wt-LMO3",
          "wt-LMO3",
          "wt-LMO3",
          "wt-LMO3",
          "wt-LMO3",
          "wt-LMO3",
          "wt-LMO3",
          "wt-LMO3",
          "wt-LMO3",
          "wt-LMO3",
          "wt-LMO3",
          "wt-LMO3",
          "wt-LMO3",
          "wt-LMO3",
          "wt-LMO3",
          "wt-LMO3",
          "wt-LMO3",
          "wt-LMO3",
          "wt-LMO3",
          "wt-LMO3",
          "wt-LMO3",
          "wt-LMO3",
          "wt-LMO3"
         ],
         "y": [
          -0.05263157894736842,
          0.5294117647058824,
          0.15789473684210525,
          -0.2857142857142857,
          -0.45454545454545453,
          0.06666666666666667,
          -0.2857142857142857,
          -0.2727272727272727,
          -0.14285714285714285,
          0,
          0.6666666666666666,
          0.5,
          0.5714285714285714,
          -0.06666666666666667,
          0,
          0.058823529411764705,
          0,
          0.7777777777777778,
          0.17647058823529413,
          0.2727272727272727,
          -0.07692307692307693,
          -0.14285714285714285,
          -0.1111111111111111
         ]
        }
       ],
       "layout": {
        "boxmode": "group",
        "height": 600,
        "template": {
         "data": {
          "bar": [
           {
            "error_x": {
             "color": "#2a3f5f"
            },
            "error_y": {
             "color": "#2a3f5f"
            },
            "marker": {
             "line": {
              "color": "#E5ECF6",
              "width": 0.5
             },
             "pattern": {
              "fillmode": "overlay",
              "size": 10,
              "solidity": 0.2
             }
            },
            "type": "bar"
           }
          ],
          "barpolar": [
           {
            "marker": {
             "line": {
              "color": "#E5ECF6",
              "width": 0.5
             },
             "pattern": {
              "fillmode": "overlay",
              "size": 10,
              "solidity": 0.2
             }
            },
            "type": "barpolar"
           }
          ],
          "carpet": [
           {
            "aaxis": {
             "endlinecolor": "#2a3f5f",
             "gridcolor": "white",
             "linecolor": "white",
             "minorgridcolor": "white",
             "startlinecolor": "#2a3f5f"
            },
            "baxis": {
             "endlinecolor": "#2a3f5f",
             "gridcolor": "white",
             "linecolor": "white",
             "minorgridcolor": "white",
             "startlinecolor": "#2a3f5f"
            },
            "type": "carpet"
           }
          ],
          "choropleth": [
           {
            "colorbar": {
             "outlinewidth": 0,
             "ticks": ""
            },
            "type": "choropleth"
           }
          ],
          "contour": [
           {
            "colorbar": {
             "outlinewidth": 0,
             "ticks": ""
            },
            "colorscale": [
             [
              0,
              "#0d0887"
             ],
             [
              0.1111111111111111,
              "#46039f"
             ],
             [
              0.2222222222222222,
              "#7201a8"
             ],
             [
              0.3333333333333333,
              "#9c179e"
             ],
             [
              0.4444444444444444,
              "#bd3786"
             ],
             [
              0.5555555555555556,
              "#d8576b"
             ],
             [
              0.6666666666666666,
              "#ed7953"
             ],
             [
              0.7777777777777778,
              "#fb9f3a"
             ],
             [
              0.8888888888888888,
              "#fdca26"
             ],
             [
              1,
              "#f0f921"
             ]
            ],
            "type": "contour"
           }
          ],
          "contourcarpet": [
           {
            "colorbar": {
             "outlinewidth": 0,
             "ticks": ""
            },
            "type": "contourcarpet"
           }
          ],
          "heatmap": [
           {
            "colorbar": {
             "outlinewidth": 0,
             "ticks": ""
            },
            "colorscale": [
             [
              0,
              "#0d0887"
             ],
             [
              0.1111111111111111,
              "#46039f"
             ],
             [
              0.2222222222222222,
              "#7201a8"
             ],
             [
              0.3333333333333333,
              "#9c179e"
             ],
             [
              0.4444444444444444,
              "#bd3786"
             ],
             [
              0.5555555555555556,
              "#d8576b"
             ],
             [
              0.6666666666666666,
              "#ed7953"
             ],
             [
              0.7777777777777778,
              "#fb9f3a"
             ],
             [
              0.8888888888888888,
              "#fdca26"
             ],
             [
              1,
              "#f0f921"
             ]
            ],
            "type": "heatmap"
           }
          ],
          "heatmapgl": [
           {
            "colorbar": {
             "outlinewidth": 0,
             "ticks": ""
            },
            "colorscale": [
             [
              0,
              "#0d0887"
             ],
             [
              0.1111111111111111,
              "#46039f"
             ],
             [
              0.2222222222222222,
              "#7201a8"
             ],
             [
              0.3333333333333333,
              "#9c179e"
             ],
             [
              0.4444444444444444,
              "#bd3786"
             ],
             [
              0.5555555555555556,
              "#d8576b"
             ],
             [
              0.6666666666666666,
              "#ed7953"
             ],
             [
              0.7777777777777778,
              "#fb9f3a"
             ],
             [
              0.8888888888888888,
              "#fdca26"
             ],
             [
              1,
              "#f0f921"
             ]
            ],
            "type": "heatmapgl"
           }
          ],
          "histogram": [
           {
            "marker": {
             "pattern": {
              "fillmode": "overlay",
              "size": 10,
              "solidity": 0.2
             }
            },
            "type": "histogram"
           }
          ],
          "histogram2d": [
           {
            "colorbar": {
             "outlinewidth": 0,
             "ticks": ""
            },
            "colorscale": [
             [
              0,
              "#0d0887"
             ],
             [
              0.1111111111111111,
              "#46039f"
             ],
             [
              0.2222222222222222,
              "#7201a8"
             ],
             [
              0.3333333333333333,
              "#9c179e"
             ],
             [
              0.4444444444444444,
              "#bd3786"
             ],
             [
              0.5555555555555556,
              "#d8576b"
             ],
             [
              0.6666666666666666,
              "#ed7953"
             ],
             [
              0.7777777777777778,
              "#fb9f3a"
             ],
             [
              0.8888888888888888,
              "#fdca26"
             ],
             [
              1,
              "#f0f921"
             ]
            ],
            "type": "histogram2d"
           }
          ],
          "histogram2dcontour": [
           {
            "colorbar": {
             "outlinewidth": 0,
             "ticks": ""
            },
            "colorscale": [
             [
              0,
              "#0d0887"
             ],
             [
              0.1111111111111111,
              "#46039f"
             ],
             [
              0.2222222222222222,
              "#7201a8"
             ],
             [
              0.3333333333333333,
              "#9c179e"
             ],
             [
              0.4444444444444444,
              "#bd3786"
             ],
             [
              0.5555555555555556,
              "#d8576b"
             ],
             [
              0.6666666666666666,
              "#ed7953"
             ],
             [
              0.7777777777777778,
              "#fb9f3a"
             ],
             [
              0.8888888888888888,
              "#fdca26"
             ],
             [
              1,
              "#f0f921"
             ]
            ],
            "type": "histogram2dcontour"
           }
          ],
          "mesh3d": [
           {
            "colorbar": {
             "outlinewidth": 0,
             "ticks": ""
            },
            "type": "mesh3d"
           }
          ],
          "parcoords": [
           {
            "line": {
             "colorbar": {
              "outlinewidth": 0,
              "ticks": ""
             }
            },
            "type": "parcoords"
           }
          ],
          "pie": [
           {
            "automargin": true,
            "type": "pie"
           }
          ],
          "scatter": [
           {
            "fillpattern": {
             "fillmode": "overlay",
             "size": 10,
             "solidity": 0.2
            },
            "type": "scatter"
           }
          ],
          "scatter3d": [
           {
            "line": {
             "colorbar": {
              "outlinewidth": 0,
              "ticks": ""
             }
            },
            "marker": {
             "colorbar": {
              "outlinewidth": 0,
              "ticks": ""
             }
            },
            "type": "scatter3d"
           }
          ],
          "scattercarpet": [
           {
            "marker": {
             "colorbar": {
              "outlinewidth": 0,
              "ticks": ""
             }
            },
            "type": "scattercarpet"
           }
          ],
          "scattergeo": [
           {
            "marker": {
             "colorbar": {
              "outlinewidth": 0,
              "ticks": ""
             }
            },
            "type": "scattergeo"
           }
          ],
          "scattergl": [
           {
            "marker": {
             "colorbar": {
              "outlinewidth": 0,
              "ticks": ""
             }
            },
            "type": "scattergl"
           }
          ],
          "scattermapbox": [
           {
            "marker": {
             "colorbar": {
              "outlinewidth": 0,
              "ticks": ""
             }
            },
            "type": "scattermapbox"
           }
          ],
          "scatterpolar": [
           {
            "marker": {
             "colorbar": {
              "outlinewidth": 0,
              "ticks": ""
             }
            },
            "type": "scatterpolar"
           }
          ],
          "scatterpolargl": [
           {
            "marker": {
             "colorbar": {
              "outlinewidth": 0,
              "ticks": ""
             }
            },
            "type": "scatterpolargl"
           }
          ],
          "scatterternary": [
           {
            "marker": {
             "colorbar": {
              "outlinewidth": 0,
              "ticks": ""
             }
            },
            "type": "scatterternary"
           }
          ],
          "surface": [
           {
            "colorbar": {
             "outlinewidth": 0,
             "ticks": ""
            },
            "colorscale": [
             [
              0,
              "#0d0887"
             ],
             [
              0.1111111111111111,
              "#46039f"
             ],
             [
              0.2222222222222222,
              "#7201a8"
             ],
             [
              0.3333333333333333,
              "#9c179e"
             ],
             [
              0.4444444444444444,
              "#bd3786"
             ],
             [
              0.5555555555555556,
              "#d8576b"
             ],
             [
              0.6666666666666666,
              "#ed7953"
             ],
             [
              0.7777777777777778,
              "#fb9f3a"
             ],
             [
              0.8888888888888888,
              "#fdca26"
             ],
             [
              1,
              "#f0f921"
             ]
            ],
            "type": "surface"
           }
          ],
          "table": [
           {
            "cells": {
             "fill": {
              "color": "#EBF0F8"
             },
             "line": {
              "color": "white"
             }
            },
            "header": {
             "fill": {
              "color": "#C8D4E3"
             },
             "line": {
              "color": "white"
             }
            },
            "type": "table"
           }
          ]
         },
         "layout": {
          "annotationdefaults": {
           "arrowcolor": "#2a3f5f",
           "arrowhead": 0,
           "arrowwidth": 1
          },
          "autotypenumbers": "strict",
          "coloraxis": {
           "colorbar": {
            "outlinewidth": 0,
            "ticks": ""
           }
          },
          "colorscale": {
           "diverging": [
            [
             0,
             "#8e0152"
            ],
            [
             0.1,
             "#c51b7d"
            ],
            [
             0.2,
             "#de77ae"
            ],
            [
             0.3,
             "#f1b6da"
            ],
            [
             0.4,
             "#fde0ef"
            ],
            [
             0.5,
             "#f7f7f7"
            ],
            [
             0.6,
             "#e6f5d0"
            ],
            [
             0.7,
             "#b8e186"
            ],
            [
             0.8,
             "#7fbc41"
            ],
            [
             0.9,
             "#4d9221"
            ],
            [
             1,
             "#276419"
            ]
           ],
           "sequential": [
            [
             0,
             "#0d0887"
            ],
            [
             0.1111111111111111,
             "#46039f"
            ],
            [
             0.2222222222222222,
             "#7201a8"
            ],
            [
             0.3333333333333333,
             "#9c179e"
            ],
            [
             0.4444444444444444,
             "#bd3786"
            ],
            [
             0.5555555555555556,
             "#d8576b"
            ],
            [
             0.6666666666666666,
             "#ed7953"
            ],
            [
             0.7777777777777778,
             "#fb9f3a"
            ],
            [
             0.8888888888888888,
             "#fdca26"
            ],
            [
             1,
             "#f0f921"
            ]
           ],
           "sequentialminus": [
            [
             0,
             "#0d0887"
            ],
            [
             0.1111111111111111,
             "#46039f"
            ],
            [
             0.2222222222222222,
             "#7201a8"
            ],
            [
             0.3333333333333333,
             "#9c179e"
            ],
            [
             0.4444444444444444,
             "#bd3786"
            ],
            [
             0.5555555555555556,
             "#d8576b"
            ],
            [
             0.6666666666666666,
             "#ed7953"
            ],
            [
             0.7777777777777778,
             "#fb9f3a"
            ],
            [
             0.8888888888888888,
             "#fdca26"
            ],
            [
             1,
             "#f0f921"
            ]
           ]
          },
          "colorway": [
           "#636efa",
           "#EF553B",
           "#00cc96",
           "#ab63fa",
           "#FFA15A",
           "#19d3f3",
           "#FF6692",
           "#B6E880",
           "#FF97FF",
           "#FECB52"
          ],
          "font": {
           "color": "#2a3f5f"
          },
          "geo": {
           "bgcolor": "white",
           "lakecolor": "white",
           "landcolor": "#E5ECF6",
           "showlakes": true,
           "showland": true,
           "subunitcolor": "white"
          },
          "hoverlabel": {
           "align": "left"
          },
          "hovermode": "closest",
          "mapbox": {
           "style": "light"
          },
          "paper_bgcolor": "white",
          "plot_bgcolor": "#E5ECF6",
          "polar": {
           "angularaxis": {
            "gridcolor": "white",
            "linecolor": "white",
            "ticks": ""
           },
           "bgcolor": "#E5ECF6",
           "radialaxis": {
            "gridcolor": "white",
            "linecolor": "white",
            "ticks": ""
           }
          },
          "scene": {
           "xaxis": {
            "backgroundcolor": "#E5ECF6",
            "gridcolor": "white",
            "gridwidth": 2,
            "linecolor": "white",
            "showbackground": true,
            "ticks": "",
            "zerolinecolor": "white"
           },
           "yaxis": {
            "backgroundcolor": "#E5ECF6",
            "gridcolor": "white",
            "gridwidth": 2,
            "linecolor": "white",
            "showbackground": true,
            "ticks": "",
            "zerolinecolor": "white"
           },
           "zaxis": {
            "backgroundcolor": "#E5ECF6",
            "gridcolor": "white",
            "gridwidth": 2,
            "linecolor": "white",
            "showbackground": true,
            "ticks": "",
            "zerolinecolor": "white"
           }
          },
          "shapedefaults": {
           "line": {
            "color": "#2a3f5f"
           }
          },
          "ternary": {
           "aaxis": {
            "gridcolor": "white",
            "linecolor": "white",
            "ticks": ""
           },
           "baxis": {
            "gridcolor": "white",
            "linecolor": "white",
            "ticks": ""
           },
           "bgcolor": "#E5ECF6",
           "caxis": {
            "gridcolor": "white",
            "linecolor": "white",
            "ticks": ""
           }
          },
          "title": {
           "x": 0.05
          },
          "xaxis": {
           "automargin": true,
           "gridcolor": "white",
           "linecolor": "white",
           "ticks": "",
           "title": {
            "standoff": 15
           },
           "zerolinecolor": "white",
           "zerolinewidth": 2
          },
          "yaxis": {
           "automargin": true,
           "gridcolor": "white",
           "linecolor": "white",
           "ticks": "",
           "title": {
            "standoff": 15
           },
           "zerolinecolor": "white",
           "zerolinewidth": 2
          }
         }
        },
        "title": {
         "text": "Discrimination Metric by Genotype"
        },
        "updatemenus": [
         {
          "buttons": [
           {
            "args": [
             {
              "visible": [
               true,
               true,
               false,
               false,
               false,
               false
              ]
             },
             {
              "title": "Discrimination Metric: interactiontime_sum_familiar vs interactiontime_sum_stranger"
             }
            ],
            "label": "interactiontime_sum_familiar vs interactiontime_sum_stranger",
            "method": "update"
           },
           {
            "args": [
             {
              "visible": [
               false,
               false,
               true,
               true,
               false,
               false
              ]
             },
             {
              "title": "Discrimination Metric: interactiontime_avg_familiar vs interactiontime_avg_stranger"
             }
            ],
            "label": "interactiontime_avg_familiar vs interactiontime_avg_stranger",
            "method": "update"
           },
           {
            "args": [
             {
              "visible": [
               false,
               false,
               false,
               false,
               true,
               true
              ]
             },
             {
              "title": "Discrimination Metric: approach_sum_familiar vs approach_sum_stranger"
             }
            ],
            "label": "approach_sum_familiar vs approach_sum_stranger",
            "method": "update"
           }
          ],
          "direction": "down",
          "pad": {
           "r": 10,
           "t": 10
          },
          "showactive": true,
          "x": 0.1,
          "xanchor": "left",
          "y": 1.1,
          "yanchor": "top"
         }
        ],
        "width": 1000,
        "xaxis": {
         "title": {
          "text": "Genotype"
         }
        },
        "yaxis": {
         "title": {
          "text": "Discrimination Metric"
         }
        }
       }
      }
     },
     "metadata": {},
     "output_type": "display_data"
    }
   ],
   "source": [
    "# Calculate the discrimination metric\n",
    "mouse_analysis.analysis.calculate_discrimination_metric()\n",
    "\n",
    "# Show the interactive discrimination plot\n",
    "mouse_analysis.analysis.show_discrimination_plot()"
   ]
  },
  {
   "cell_type": "code",
   "execution_count": 567,
   "id": "69cce23b",
   "metadata": {},
   "outputs": [
    {
     "data": {
      "text/html": [
       "<div>\n",
       "<style scoped>\n",
       "    .dataframe tbody tr th:only-of-type {\n",
       "        vertical-align: middle;\n",
       "    }\n",
       "\n",
       "    .dataframe tbody tr th {\n",
       "        vertical-align: top;\n",
       "    }\n",
       "\n",
       "    .dataframe thead th {\n",
       "        text-align: right;\n",
       "    }\n",
       "</style>\n",
       "<table border=\"1\" class=\"dataframe\">\n",
       "  <thead>\n",
       "    <tr style=\"text-align: right;\">\n",
       "      <th></th>\n",
       "      <th>Metric Pair</th>\n",
       "      <th>t-statistic</th>\n",
       "      <th>p-value</th>\n",
       "    </tr>\n",
       "  </thead>\n",
       "  <tbody>\n",
       "    <tr>\n",
       "      <th>0</th>\n",
       "      <td>interactiontime_sum_familiar vs interactiontim...</td>\n",
       "      <td>0.064349</td>\n",
       "      <td>0.948984</td>\n",
       "    </tr>\n",
       "    <tr>\n",
       "      <th>1</th>\n",
       "      <td>interactiontime_avg_familiar vs interactiontim...</td>\n",
       "      <td>1.204622</td>\n",
       "      <td>0.234789</td>\n",
       "    </tr>\n",
       "    <tr>\n",
       "      <th>2</th>\n",
       "      <td>approach_sum_familiar vs approach_sum_stranger</td>\n",
       "      <td>-0.888604</td>\n",
       "      <td>0.379048</td>\n",
       "    </tr>\n",
       "  </tbody>\n",
       "</table>\n",
       "</div>"
      ],
      "text/plain": [
       "                                         Metric Pair  t-statistic   p-value\n",
       "0  interactiontime_sum_familiar vs interactiontim...     0.064349  0.948984\n",
       "1  interactiontime_avg_familiar vs interactiontim...     1.204622  0.234789\n",
       "2     approach_sum_familiar vs approach_sum_stranger    -0.888604  0.379048"
      ]
     },
     "execution_count": 567,
     "metadata": {},
     "output_type": "execute_result"
    }
   ],
   "source": [
    "# Perform t-tests on the discrimination index\n",
    "mouse_analysis.analysis.perform_discrimination_ttest()"
   ]
  },
  {
   "cell_type": "markdown",
   "id": "a2356fda",
   "metadata": {},
   "source": []
  },
  {
   "cell_type": "code",
   "execution_count": 568,
   "id": "004b0f09",
   "metadata": {},
   "outputs": [
    {
     "data": {
      "text/html": [
       "<div>\n",
       "<style scoped>\n",
       "    .dataframe tbody tr th:only-of-type {\n",
       "        vertical-align: middle;\n",
       "    }\n",
       "\n",
       "    .dataframe tbody tr th {\n",
       "        vertical-align: top;\n",
       "    }\n",
       "\n",
       "    .dataframe thead th {\n",
       "        text-align: right;\n",
       "    }\n",
       "</style>\n",
       "<table border=\"1\" class=\"dataframe\">\n",
       "  <thead>\n",
       "    <tr style=\"text-align: right;\">\n",
       "      <th></th>\n",
       "      <th></th>\n",
       "      <th></th>\n",
       "      <th>cohort</th>\n",
       "      <th>tag</th>\n",
       "      <th>toe</th>\n",
       "      <th>dam</th>\n",
       "      <th>DOB</th>\n",
       "      <th>treatment</th>\n",
       "      <th>interactiontime_sum_familiar</th>\n",
       "      <th>interactiontime_sum_stranger</th>\n",
       "      <th>interactiontime_avg_familiar</th>\n",
       "      <th>interactiontime_avg_stranger</th>\n",
       "      <th>approach_sum_familiar</th>\n",
       "      <th>approach_sum_stranger</th>\n",
       "      <th>datetested</th>\n",
       "      <th>age_in_months</th>\n",
       "    </tr>\n",
       "    <tr>\n",
       "      <th>genotype</th>\n",
       "      <th>sex</th>\n",
       "      <th></th>\n",
       "      <th></th>\n",
       "      <th></th>\n",
       "      <th></th>\n",
       "      <th></th>\n",
       "      <th></th>\n",
       "      <th></th>\n",
       "      <th></th>\n",
       "      <th></th>\n",
       "      <th></th>\n",
       "      <th></th>\n",
       "      <th></th>\n",
       "      <th></th>\n",
       "      <th></th>\n",
       "      <th></th>\n",
       "    </tr>\n",
       "  </thead>\n",
       "  <tbody>\n",
       "    <tr>\n",
       "      <th rowspan=\"23\" valign=\"top\">Rbp4-LMO3</th>\n",
       "      <th rowspan=\"13\" valign=\"top\">F</th>\n",
       "      <th>22</th>\n",
       "      <td>3</td>\n",
       "      <td>3440</td>\n",
       "      <td>1</td>\n",
       "      <td>3244</td>\n",
       "      <td>2023-06-10</td>\n",
       "      <td>CTZ</td>\n",
       "      <td>13</td>\n",
       "      <td>15</td>\n",
       "      <td>4.333333</td>\n",
       "      <td>3.750000</td>\n",
       "      <td>3</td>\n",
       "      <td>4.000000</td>\n",
       "      <td>2024-03-28</td>\n",
       "      <td>9.59</td>\n",
       "    </tr>\n",
       "    <tr>\n",
       "      <th>23</th>\n",
       "      <td>4</td>\n",
       "      <td>3437</td>\n",
       "      <td>9</td>\n",
       "      <td>3246</td>\n",
       "      <td>2023-06-20</td>\n",
       "      <td>CTZ</td>\n",
       "      <td>12</td>\n",
       "      <td>14</td>\n",
       "      <td>2.400000</td>\n",
       "      <td>2.800000</td>\n",
       "      <td>5</td>\n",
       "      <td>5.000000</td>\n",
       "      <td>2024-05-07</td>\n",
       "      <td>10.58</td>\n",
       "    </tr>\n",
       "    <tr>\n",
       "      <th>25</th>\n",
       "      <td>4</td>\n",
       "      <td>3439</td>\n",
       "      <td>7</td>\n",
       "      <td>3246</td>\n",
       "      <td>2023-06-20</td>\n",
       "      <td>CTZ</td>\n",
       "      <td>22</td>\n",
       "      <td>34</td>\n",
       "      <td>2.750000</td>\n",
       "      <td>3.400000</td>\n",
       "      <td>8</td>\n",
       "      <td>10.000000</td>\n",
       "      <td>2024-05-07</td>\n",
       "      <td>10.58</td>\n",
       "    </tr>\n",
       "    <tr>\n",
       "      <th>28</th>\n",
       "      <td>6</td>\n",
       "      <td>3520</td>\n",
       "      <td>7</td>\n",
       "      <td>3377</td>\n",
       "      <td>2023-08-10</td>\n",
       "      <td>CTZ</td>\n",
       "      <td>19</td>\n",
       "      <td>25</td>\n",
       "      <td>2.375000</td>\n",
       "      <td>2.083333</td>\n",
       "      <td>8</td>\n",
       "      <td>12.000000</td>\n",
       "      <td>2024-05-28</td>\n",
       "      <td>9.59</td>\n",
       "    </tr>\n",
       "    <tr>\n",
       "      <th>31</th>\n",
       "      <td>7</td>\n",
       "      <td>3525</td>\n",
       "      <td>1</td>\n",
       "      <td>3378</td>\n",
       "      <td>2023-08-14</td>\n",
       "      <td>CTZ</td>\n",
       "      <td>21</td>\n",
       "      <td>16</td>\n",
       "      <td>1.909091</td>\n",
       "      <td>3.200000</td>\n",
       "      <td>11</td>\n",
       "      <td>5.000000</td>\n",
       "      <td>2024-07-02</td>\n",
       "      <td>10.61</td>\n",
       "    </tr>\n",
       "    <tr>\n",
       "      <th>32</th>\n",
       "      <td>7</td>\n",
       "      <td>3551</td>\n",
       "      <td>5</td>\n",
       "      <td>3378</td>\n",
       "      <td>2023-08-14</td>\n",
       "      <td>CTZ</td>\n",
       "      <td>21</td>\n",
       "      <td>16</td>\n",
       "      <td>1.909091</td>\n",
       "      <td>4.000000</td>\n",
       "      <td>11</td>\n",
       "      <td>4.000000</td>\n",
       "      <td>2024-07-02</td>\n",
       "      <td>10.61</td>\n",
       "    </tr>\n",
       "    <tr>\n",
       "      <th>33</th>\n",
       "      <td>7</td>\n",
       "      <td>3552</td>\n",
       "      <td>3</td>\n",
       "      <td>3378</td>\n",
       "      <td>2023-08-14</td>\n",
       "      <td>CTZ</td>\n",
       "      <td>1</td>\n",
       "      <td>14</td>\n",
       "      <td>1.000000</td>\n",
       "      <td>2.800000</td>\n",
       "      <td>1</td>\n",
       "      <td>5.000000</td>\n",
       "      <td>2024-07-02</td>\n",
       "      <td>10.61</td>\n",
       "    </tr>\n",
       "    <tr>\n",
       "      <th>36</th>\n",
       "      <td>8</td>\n",
       "      <td>3557</td>\n",
       "      <td>6</td>\n",
       "      <td>3243</td>\n",
       "      <td>2023-08-28</td>\n",
       "      <td>CTZ</td>\n",
       "      <td>5</td>\n",
       "      <td>9</td>\n",
       "      <td>1.666667</td>\n",
       "      <td>2.250000</td>\n",
       "      <td>3</td>\n",
       "      <td>4.000000</td>\n",
       "      <td>2024-07-08</td>\n",
       "      <td>10.35</td>\n",
       "    </tr>\n",
       "    <tr>\n",
       "      <th>38</th>\n",
       "      <td>9</td>\n",
       "      <td>3562</td>\n",
       "      <td>7</td>\n",
       "      <td>3377</td>\n",
       "      <td>2023-09-03</td>\n",
       "      <td>CTZ</td>\n",
       "      <td>19</td>\n",
       "      <td>15</td>\n",
       "      <td>3.166667</td>\n",
       "      <td>2.500000</td>\n",
       "      <td>6</td>\n",
       "      <td>6.000000</td>\n",
       "      <td>2024-07-09</td>\n",
       "      <td>10.18</td>\n",
       "    </tr>\n",
       "    <tr>\n",
       "      <th>40</th>\n",
       "      <td>9</td>\n",
       "      <td>3564</td>\n",
       "      <td>5</td>\n",
       "      <td>3377</td>\n",
       "      <td>2023-09-03</td>\n",
       "      <td>CTZ</td>\n",
       "      <td>4</td>\n",
       "      <td>19</td>\n",
       "      <td>1.333333</td>\n",
       "      <td>3.166667</td>\n",
       "      <td>3</td>\n",
       "      <td>6.000000</td>\n",
       "      <td>2024-07-09</td>\n",
       "      <td>10.18</td>\n",
       "    </tr>\n",
       "    <tr>\n",
       "      <th>41</th>\n",
       "      <td>9</td>\n",
       "      <td>3565</td>\n",
       "      <td>3</td>\n",
       "      <td>3377</td>\n",
       "      <td>2023-09-03</td>\n",
       "      <td>CTZ</td>\n",
       "      <td>18</td>\n",
       "      <td>11</td>\n",
       "      <td>2.571429</td>\n",
       "      <td>3.666667</td>\n",
       "      <td>7</td>\n",
       "      <td>3.000000</td>\n",
       "      <td>2024-07-09</td>\n",
       "      <td>10.18</td>\n",
       "    </tr>\n",
       "    <tr>\n",
       "      <th>43</th>\n",
       "      <td>10</td>\n",
       "      <td>2809</td>\n",
       "      <td>2</td>\n",
       "      <td>3378</td>\n",
       "      <td>2023-09-08</td>\n",
       "      <td>CTZ</td>\n",
       "      <td>8</td>\n",
       "      <td>3</td>\n",
       "      <td>4.000000</td>\n",
       "      <td>1.500000</td>\n",
       "      <td>2</td>\n",
       "      <td>2.000000</td>\n",
       "      <td>2024-07-10</td>\n",
       "      <td>10.05</td>\n",
       "    </tr>\n",
       "    <tr>\n",
       "      <th>45</th>\n",
       "      <td>10</td>\n",
       "      <td>2839</td>\n",
       "      <td>4</td>\n",
       "      <td>3378</td>\n",
       "      <td>2023-09-08</td>\n",
       "      <td>CTZ</td>\n",
       "      <td>4</td>\n",
       "      <td>9</td>\n",
       "      <td>1.333333</td>\n",
       "      <td>1.500000</td>\n",
       "      <td>3</td>\n",
       "      <td>6.000000</td>\n",
       "      <td>2024-07-10</td>\n",
       "      <td>10.05</td>\n",
       "    </tr>\n",
       "    <tr>\n",
       "      <th rowspan=\"9\" valign=\"top\">M</th>\n",
       "      <th>0</th>\n",
       "      <td>3</td>\n",
       "      <td>3427</td>\n",
       "      <td>3</td>\n",
       "      <td>3244</td>\n",
       "      <td>2023-06-10</td>\n",
       "      <td>CTZ</td>\n",
       "      <td>26</td>\n",
       "      <td>42</td>\n",
       "      <td>2.600000</td>\n",
       "      <td>4.666667</td>\n",
       "      <td>10</td>\n",
       "      <td>9.000000</td>\n",
       "      <td>2023-11-29</td>\n",
       "      <td>5.65</td>\n",
       "    </tr>\n",
       "    <tr>\n",
       "      <th>7</th>\n",
       "      <td>6</td>\n",
       "      <td>3515</td>\n",
       "      <td>3</td>\n",
       "      <td>3377</td>\n",
       "      <td>2023-08-10</td>\n",
       "      <td>CTZ</td>\n",
       "      <td>10</td>\n",
       "      <td>0</td>\n",
       "      <td>2.000000</td>\n",
       "      <td>0.000000</td>\n",
       "      <td>5</td>\n",
       "      <td>0.000000</td>\n",
       "      <td>2024-06-03</td>\n",
       "      <td>9.79</td>\n",
       "    </tr>\n",
       "    <tr>\n",
       "      <th>10</th>\n",
       "      <td>6</td>\n",
       "      <td>3518</td>\n",
       "      <td>4</td>\n",
       "      <td>3377</td>\n",
       "      <td>2023-08-10</td>\n",
       "      <td>CTZ</td>\n",
       "      <td>22</td>\n",
       "      <td>17</td>\n",
       "      <td>2.444444</td>\n",
       "      <td>6.000000</td>\n",
       "      <td>9</td>\n",
       "      <td>2.833333</td>\n",
       "      <td>2024-06-03</td>\n",
       "      <td>9.79</td>\n",
       "    </tr>\n",
       "    <tr>\n",
       "      <th>11</th>\n",
       "      <td>7</td>\n",
       "      <td>3522</td>\n",
       "      <td>2</td>\n",
       "      <td>3378</td>\n",
       "      <td>2023-08-14</td>\n",
       "      <td>CTZ</td>\n",
       "      <td>27</td>\n",
       "      <td>1</td>\n",
       "      <td>2.454545</td>\n",
       "      <td>1.000000</td>\n",
       "      <td>11</td>\n",
       "      <td>1.000000</td>\n",
       "      <td>2024-06-04</td>\n",
       "      <td>9.69</td>\n",
       "    </tr>\n",
       "    <tr>\n",
       "      <th>12</th>\n",
       "      <td>7</td>\n",
       "      <td>3523</td>\n",
       "      <td>7</td>\n",
       "      <td>3378</td>\n",
       "      <td>2023-08-14</td>\n",
       "      <td>CTZ</td>\n",
       "      <td>0</td>\n",
       "      <td>15</td>\n",
       "      <td>0.000000</td>\n",
       "      <td>3.000000</td>\n",
       "      <td>0</td>\n",
       "      <td>5.000000</td>\n",
       "      <td>2024-06-04</td>\n",
       "      <td>9.69</td>\n",
       "    </tr>\n",
       "    <tr>\n",
       "      <th>13</th>\n",
       "      <td>8</td>\n",
       "      <td>3554</td>\n",
       "      <td>4</td>\n",
       "      <td>3243</td>\n",
       "      <td>2023-08-28</td>\n",
       "      <td>CTZ</td>\n",
       "      <td>10</td>\n",
       "      <td>15</td>\n",
       "      <td>2.500000</td>\n",
       "      <td>3.000000</td>\n",
       "      <td>4</td>\n",
       "      <td>5.000000</td>\n",
       "      <td>2024-06-04</td>\n",
       "      <td>9.23</td>\n",
       "    </tr>\n",
       "    <tr>\n",
       "      <th>15</th>\n",
       "      <td>9</td>\n",
       "      <td>3559</td>\n",
       "      <td>6</td>\n",
       "      <td>3377</td>\n",
       "      <td>2023-09-03</td>\n",
       "      <td>CTZ</td>\n",
       "      <td>36</td>\n",
       "      <td>5</td>\n",
       "      <td>4.000000</td>\n",
       "      <td>2.500000</td>\n",
       "      <td>9</td>\n",
       "      <td>2.000000</td>\n",
       "      <td>2024-06-06</td>\n",
       "      <td>9.10</td>\n",
       "    </tr>\n",
       "    <tr>\n",
       "      <th>17</th>\n",
       "      <td>9</td>\n",
       "      <td>3561</td>\n",
       "      <td>2</td>\n",
       "      <td>3377</td>\n",
       "      <td>2023-09-03</td>\n",
       "      <td>CTZ</td>\n",
       "      <td>8</td>\n",
       "      <td>40</td>\n",
       "      <td>2.666667</td>\n",
       "      <td>2.857143</td>\n",
       "      <td>3</td>\n",
       "      <td>14.000000</td>\n",
       "      <td>2024-06-06</td>\n",
       "      <td>9.10</td>\n",
       "    </tr>\n",
       "    <tr>\n",
       "      <th>18</th>\n",
       "      <td>10</td>\n",
       "      <td>3548</td>\n",
       "      <td>1</td>\n",
       "      <td>3378</td>\n",
       "      <td>2023-09-08</td>\n",
       "      <td>CTZ</td>\n",
       "      <td>15</td>\n",
       "      <td>16</td>\n",
       "      <td>2.500000</td>\n",
       "      <td>2.666667</td>\n",
       "      <td>6</td>\n",
       "      <td>6.000000</td>\n",
       "      <td>2024-06-07</td>\n",
       "      <td>8.97</td>\n",
       "    </tr>\n",
       "    <tr>\n",
       "      <th>M</th>\n",
       "      <th>3</th>\n",
       "      <td>4</td>\n",
       "      <td>3435</td>\n",
       "      <td>3</td>\n",
       "      <td>3426</td>\n",
       "      <td>2023-06-20</td>\n",
       "      <td>CTZ</td>\n",
       "      <td>12</td>\n",
       "      <td>36</td>\n",
       "      <td>2.400000</td>\n",
       "      <td>7.200000</td>\n",
       "      <td>5</td>\n",
       "      <td>5.000000</td>\n",
       "      <td>2024-05-08</td>\n",
       "      <td>10.61</td>\n",
       "    </tr>\n",
       "    <tr>\n",
       "      <th rowspan=\"23\" valign=\"top\">wt-LMO3</th>\n",
       "      <th rowspan=\"12\" valign=\"top\">F</th>\n",
       "      <th>21</th>\n",
       "      <td>3</td>\n",
       "      <td>3429</td>\n",
       "      <td>2</td>\n",
       "      <td>3244</td>\n",
       "      <td>2023-06-10</td>\n",
       "      <td>CTZ</td>\n",
       "      <td>12</td>\n",
       "      <td>37</td>\n",
       "      <td>2.400000</td>\n",
       "      <td>2.466667</td>\n",
       "      <td>5</td>\n",
       "      <td>15.000000</td>\n",
       "      <td>2024-03-28</td>\n",
       "      <td>9.59</td>\n",
       "    </tr>\n",
       "    <tr>\n",
       "      <th>24</th>\n",
       "      <td>4</td>\n",
       "      <td>3438</td>\n",
       "      <td>6</td>\n",
       "      <td>3246</td>\n",
       "      <td>2023-06-20</td>\n",
       "      <td>CTZ</td>\n",
       "      <td>9</td>\n",
       "      <td>45</td>\n",
       "      <td>3.000000</td>\n",
       "      <td>4.090909</td>\n",
       "      <td>3</td>\n",
       "      <td>11.000000</td>\n",
       "      <td>2024-05-07</td>\n",
       "      <td>10.58</td>\n",
       "    </tr>\n",
       "    <tr>\n",
       "      <th>26</th>\n",
       "      <td>5</td>\n",
       "      <td>3445</td>\n",
       "      <td>4</td>\n",
       "      <td>3246</td>\n",
       "      <td>2023-07-14</td>\n",
       "      <td>CTZ</td>\n",
       "      <td>30</td>\n",
       "      <td>18</td>\n",
       "      <td>3.750000</td>\n",
       "      <td>2.571429</td>\n",
       "      <td>8</td>\n",
       "      <td>7.000000</td>\n",
       "      <td>2024-05-09</td>\n",
       "      <td>9.86</td>\n",
       "    </tr>\n",
       "    <tr>\n",
       "      <th>27</th>\n",
       "      <td>6</td>\n",
       "      <td>3519</td>\n",
       "      <td>6</td>\n",
       "      <td>3377</td>\n",
       "      <td>2023-08-10</td>\n",
       "      <td>CTZ</td>\n",
       "      <td>15</td>\n",
       "      <td>9</td>\n",
       "      <td>3.000000</td>\n",
       "      <td>1.800000</td>\n",
       "      <td>5</td>\n",
       "      <td>5.000000</td>\n",
       "      <td>2024-05-28</td>\n",
       "      <td>9.59</td>\n",
       "    </tr>\n",
       "    <tr>\n",
       "      <th>29</th>\n",
       "      <td>6</td>\n",
       "      <td>3521</td>\n",
       "      <td>5</td>\n",
       "      <td>3377</td>\n",
       "      <td>2023-08-10</td>\n",
       "      <td>CTZ</td>\n",
       "      <td>33</td>\n",
       "      <td>18</td>\n",
       "      <td>4.125000</td>\n",
       "      <td>2.000000</td>\n",
       "      <td>8</td>\n",
       "      <td>9.000000</td>\n",
       "      <td>2024-05-08</td>\n",
       "      <td>8.94</td>\n",
       "    </tr>\n",
       "    <tr>\n",
       "      <th>30</th>\n",
       "      <td>7</td>\n",
       "      <td>3524</td>\n",
       "      <td>8</td>\n",
       "      <td>3378</td>\n",
       "      <td>2023-08-14</td>\n",
       "      <td>CTZ</td>\n",
       "      <td>18</td>\n",
       "      <td>20</td>\n",
       "      <td>2.250000</td>\n",
       "      <td>2.500000</td>\n",
       "      <td>8</td>\n",
       "      <td>8.000000</td>\n",
       "      <td>2024-07-02</td>\n",
       "      <td>10.61</td>\n",
       "    </tr>\n",
       "    <tr>\n",
       "      <th>34</th>\n",
       "      <td>7</td>\n",
       "      <td>3553</td>\n",
       "      <td>6</td>\n",
       "      <td>3378</td>\n",
       "      <td>2023-08-14</td>\n",
       "      <td>CTZ</td>\n",
       "      <td>2</td>\n",
       "      <td>20</td>\n",
       "      <td>2.000000</td>\n",
       "      <td>2.500000</td>\n",
       "      <td>1</td>\n",
       "      <td>8.000000</td>\n",
       "      <td>2024-07-02</td>\n",
       "      <td>10.61</td>\n",
       "    </tr>\n",
       "    <tr>\n",
       "      <th>35</th>\n",
       "      <td>8</td>\n",
       "      <td>3556</td>\n",
       "      <td>7</td>\n",
       "      <td>3243</td>\n",
       "      <td>2023-08-28</td>\n",
       "      <td>CTZ</td>\n",
       "      <td>19</td>\n",
       "      <td>21</td>\n",
       "      <td>2.714286</td>\n",
       "      <td>2.100000</td>\n",
       "      <td>7</td>\n",
       "      <td>10.000000</td>\n",
       "      <td>2024-07-08</td>\n",
       "      <td>10.35</td>\n",
       "    </tr>\n",
       "    <tr>\n",
       "      <th>37</th>\n",
       "      <td>8</td>\n",
       "      <td>3558</td>\n",
       "      <td>5</td>\n",
       "      <td>3243</td>\n",
       "      <td>2023-08-28</td>\n",
       "      <td>CTZ</td>\n",
       "      <td>8</td>\n",
       "      <td>13</td>\n",
       "      <td>2.000000</td>\n",
       "      <td>1.857143</td>\n",
       "      <td>4</td>\n",
       "      <td>7.000000</td>\n",
       "      <td>2024-07-08</td>\n",
       "      <td>10.35</td>\n",
       "    </tr>\n",
       "    <tr>\n",
       "      <th>39</th>\n",
       "      <td>9</td>\n",
       "      <td>3563</td>\n",
       "      <td>4</td>\n",
       "      <td>3377</td>\n",
       "      <td>2023-09-03</td>\n",
       "      <td>CTZ</td>\n",
       "      <td>13</td>\n",
       "      <td>32</td>\n",
       "      <td>1.857143</td>\n",
       "      <td>5.333333</td>\n",
       "      <td>7</td>\n",
       "      <td>6.000000</td>\n",
       "      <td>2024-07-09</td>\n",
       "      <td>10.18</td>\n",
       "    </tr>\n",
       "    <tr>\n",
       "      <th>42</th>\n",
       "      <td>10</td>\n",
       "      <td>2808</td>\n",
       "      <td>7</td>\n",
       "      <td>3378</td>\n",
       "      <td>2023-09-08</td>\n",
       "      <td>CTZ</td>\n",
       "      <td>20</td>\n",
       "      <td>13</td>\n",
       "      <td>2.500000</td>\n",
       "      <td>2.166667</td>\n",
       "      <td>8</td>\n",
       "      <td>6.000000</td>\n",
       "      <td>2024-07-10</td>\n",
       "      <td>10.05</td>\n",
       "    </tr>\n",
       "    <tr>\n",
       "      <th>44</th>\n",
       "      <td>10</td>\n",
       "      <td>2838</td>\n",
       "      <td>6</td>\n",
       "      <td>3378</td>\n",
       "      <td>2023-09-08</td>\n",
       "      <td>CTZ</td>\n",
       "      <td>12</td>\n",
       "      <td>8</td>\n",
       "      <td>2.400000</td>\n",
       "      <td>2.000000</td>\n",
       "      <td>5</td>\n",
       "      <td>4.000000</td>\n",
       "      <td>2024-07-10</td>\n",
       "      <td>10.05</td>\n",
       "    </tr>\n",
       "    <tr>\n",
       "      <th rowspan=\"11\" valign=\"top\">M</th>\n",
       "      <th>1</th>\n",
       "      <td>3</td>\n",
       "      <td>3428</td>\n",
       "      <td>4</td>\n",
       "      <td>3244</td>\n",
       "      <td>2023-06-10</td>\n",
       "      <td>CTZ</td>\n",
       "      <td>51</td>\n",
       "      <td>52</td>\n",
       "      <td>5.100000</td>\n",
       "      <td>5.777778</td>\n",
       "      <td>10</td>\n",
       "      <td>9.000000</td>\n",
       "      <td>2023-11-29</td>\n",
       "      <td>5.65</td>\n",
       "    </tr>\n",
       "    <tr>\n",
       "      <th>2</th>\n",
       "      <td>4</td>\n",
       "      <td>3434</td>\n",
       "      <td>4</td>\n",
       "      <td>3246</td>\n",
       "      <td>2023-06-20</td>\n",
       "      <td>CTZ</td>\n",
       "      <td>42</td>\n",
       "      <td>60</td>\n",
       "      <td>10.500000</td>\n",
       "      <td>4.615385</td>\n",
       "      <td>4</td>\n",
       "      <td>13.000000</td>\n",
       "      <td>2024-05-08</td>\n",
       "      <td>10.61</td>\n",
       "    </tr>\n",
       "    <tr>\n",
       "      <th>4</th>\n",
       "      <td>4</td>\n",
       "      <td>3436</td>\n",
       "      <td>1</td>\n",
       "      <td>3246</td>\n",
       "      <td>2023-06-20</td>\n",
       "      <td>CTZ</td>\n",
       "      <td>47</td>\n",
       "      <td>65</td>\n",
       "      <td>5.875000</td>\n",
       "      <td>5.909091</td>\n",
       "      <td>8</td>\n",
       "      <td>11.000000</td>\n",
       "      <td>2024-05-08</td>\n",
       "      <td>10.61</td>\n",
       "    </tr>\n",
       "    <tr>\n",
       "      <th>5</th>\n",
       "      <td>5</td>\n",
       "      <td>3442</td>\n",
       "      <td>2</td>\n",
       "      <td>3426</td>\n",
       "      <td>2023-07-14</td>\n",
       "      <td>CTZ</td>\n",
       "      <td>74</td>\n",
       "      <td>47</td>\n",
       "      <td>8.222222</td>\n",
       "      <td>9.400000</td>\n",
       "      <td>9</td>\n",
       "      <td>5.000000</td>\n",
       "      <td>2024-05-09</td>\n",
       "      <td>9.86</td>\n",
       "    </tr>\n",
       "    <tr>\n",
       "      <th>6</th>\n",
       "      <td>6</td>\n",
       "      <td>3514</td>\n",
       "      <td>2</td>\n",
       "      <td>3377</td>\n",
       "      <td>2023-08-10</td>\n",
       "      <td>CTZ</td>\n",
       "      <td>23</td>\n",
       "      <td>5</td>\n",
       "      <td>2.875000</td>\n",
       "      <td>1.666667</td>\n",
       "      <td>8</td>\n",
       "      <td>3.000000</td>\n",
       "      <td>2024-06-03</td>\n",
       "      <td>9.79</td>\n",
       "    </tr>\n",
       "    <tr>\n",
       "      <th>8</th>\n",
       "      <td>6</td>\n",
       "      <td>3516</td>\n",
       "      <td>8</td>\n",
       "      <td>3377</td>\n",
       "      <td>2023-08-10</td>\n",
       "      <td>CTZ</td>\n",
       "      <td>20</td>\n",
       "      <td>16</td>\n",
       "      <td>2.875143</td>\n",
       "      <td>2.000000</td>\n",
       "      <td>7</td>\n",
       "      <td>8.000000</td>\n",
       "      <td>2024-06-03</td>\n",
       "      <td>9.79</td>\n",
       "    </tr>\n",
       "    <tr>\n",
       "      <th>9</th>\n",
       "      <td>6</td>\n",
       "      <td>3517</td>\n",
       "      <td>1</td>\n",
       "      <td>3377</td>\n",
       "      <td>2023-08-10</td>\n",
       "      <td>CTZ</td>\n",
       "      <td>23</td>\n",
       "      <td>16</td>\n",
       "      <td>2.555556</td>\n",
       "      <td>3.200000</td>\n",
       "      <td>9</td>\n",
       "      <td>5.000000</td>\n",
       "      <td>2024-06-03</td>\n",
       "      <td>9.79</td>\n",
       "    </tr>\n",
       "    <tr>\n",
       "      <th>14</th>\n",
       "      <td>8</td>\n",
       "      <td>3555</td>\n",
       "      <td>3</td>\n",
       "      <td>3243</td>\n",
       "      <td>2023-08-28</td>\n",
       "      <td>CTZ</td>\n",
       "      <td>55</td>\n",
       "      <td>15</td>\n",
       "      <td>7.857143</td>\n",
       "      <td>3.750000</td>\n",
       "      <td>7</td>\n",
       "      <td>4.000000</td>\n",
       "      <td>2024-06-04</td>\n",
       "      <td>9.23</td>\n",
       "    </tr>\n",
       "    <tr>\n",
       "      <th>16</th>\n",
       "      <td>9</td>\n",
       "      <td>3560</td>\n",
       "      <td>1</td>\n",
       "      <td>3377</td>\n",
       "      <td>2023-09-03</td>\n",
       "      <td>CTZ</td>\n",
       "      <td>9</td>\n",
       "      <td>18</td>\n",
       "      <td>2.250000</td>\n",
       "      <td>6.000000</td>\n",
       "      <td>4</td>\n",
       "      <td>3.000000</td>\n",
       "      <td>2024-06-06</td>\n",
       "      <td>9.10</td>\n",
       "    </tr>\n",
       "    <tr>\n",
       "      <th>19</th>\n",
       "      <td>10</td>\n",
       "      <td>3549</td>\n",
       "      <td>8</td>\n",
       "      <td>3378</td>\n",
       "      <td>2023-09-08</td>\n",
       "      <td>CTZ</td>\n",
       "      <td>23</td>\n",
       "      <td>20</td>\n",
       "      <td>2.875000</td>\n",
       "      <td>2.500000</td>\n",
       "      <td>8</td>\n",
       "      <td>8.000000</td>\n",
       "      <td>2024-06-07</td>\n",
       "      <td>8.97</td>\n",
       "    </tr>\n",
       "    <tr>\n",
       "      <th>20</th>\n",
       "      <td>10</td>\n",
       "      <td>3550</td>\n",
       "      <td>5</td>\n",
       "      <td>3378</td>\n",
       "      <td>2023-09-08</td>\n",
       "      <td>CTZ</td>\n",
       "      <td>4</td>\n",
       "      <td>34</td>\n",
       "      <td>2.000000</td>\n",
       "      <td>3.400000</td>\n",
       "      <td>2</td>\n",
       "      <td>10.000000</td>\n",
       "      <td>2024-06-07</td>\n",
       "      <td>8.97</td>\n",
       "    </tr>\n",
       "  </tbody>\n",
       "</table>\n",
       "</div>"
      ],
      "text/plain": [
       "                  cohort   tag  toe   dam        DOB treatment  \\\n",
       "genotype  sex                                                    \n",
       "Rbp4-LMO3 F   22       3  3440    1  3244 2023-06-10       CTZ   \n",
       "              23       4  3437    9  3246 2023-06-20       CTZ   \n",
       "              25       4  3439    7  3246 2023-06-20       CTZ   \n",
       "              28       6  3520    7  3377 2023-08-10       CTZ   \n",
       "              31       7  3525    1  3378 2023-08-14       CTZ   \n",
       "              32       7  3551    5  3378 2023-08-14       CTZ   \n",
       "              33       7  3552    3  3378 2023-08-14       CTZ   \n",
       "              36       8  3557    6  3243 2023-08-28       CTZ   \n",
       "              38       9  3562    7  3377 2023-09-03       CTZ   \n",
       "              40       9  3564    5  3377 2023-09-03      CTZ    \n",
       "              41       9  3565    3  3377 2023-09-03       CTZ   \n",
       "              43      10  2809    2  3378 2023-09-08       CTZ   \n",
       "              45      10  2839    4  3378 2023-09-08       CTZ   \n",
       "          M   0        3  3427    3  3244 2023-06-10       CTZ   \n",
       "              7        6  3515    3  3377 2023-08-10       CTZ   \n",
       "              10       6  3518    4  3377 2023-08-10       CTZ   \n",
       "              11       7  3522    2  3378 2023-08-14       CTZ   \n",
       "              12       7  3523    7  3378 2023-08-14       CTZ   \n",
       "              13       8  3554    4  3243 2023-08-28       CTZ   \n",
       "              15       9  3559    6  3377 2023-09-03      CTZ    \n",
       "              17       9  3561    2  3377 2023-09-03      CTZ    \n",
       "              18      10  3548    1  3378 2023-09-08       CTZ   \n",
       "          M   3        4  3435    3  3426 2023-06-20       CTZ   \n",
       "wt-LMO3   F   21       3  3429    2  3244 2023-06-10       CTZ   \n",
       "              24       4  3438    6  3246 2023-06-20      CTZ    \n",
       "              26       5  3445    4  3246 2023-07-14       CTZ   \n",
       "              27       6  3519    6  3377 2023-08-10       CTZ   \n",
       "              29       6  3521    5  3377 2023-08-10       CTZ   \n",
       "              30       7  3524    8  3378 2023-08-14       CTZ   \n",
       "              34       7  3553    6  3378 2023-08-14       CTZ   \n",
       "              35       8  3556    7  3243 2023-08-28       CTZ   \n",
       "              37       8  3558    5  3243 2023-08-28      CTZ    \n",
       "              39       9  3563    4  3377 2023-09-03       CTZ   \n",
       "              42      10  2808    7  3378 2023-09-08       CTZ   \n",
       "              44      10  2838    6  3378 2023-09-08       CTZ   \n",
       "          M   1        3  3428    4  3244 2023-06-10       CTZ   \n",
       "              2        4  3434    4  3246 2023-06-20       CTZ   \n",
       "              4        4  3436    1  3246 2023-06-20       CTZ   \n",
       "              5        5  3442    2  3426 2023-07-14      CTZ    \n",
       "              6        6  3514    2  3377 2023-08-10       CTZ   \n",
       "              8        6  3516    8  3377 2023-08-10       CTZ   \n",
       "              9        6  3517    1  3377 2023-08-10       CTZ   \n",
       "              14       8  3555    3  3243 2023-08-28       CTZ   \n",
       "              16       9  3560    1  3377 2023-09-03      CTZ    \n",
       "              19      10  3549    8  3378 2023-09-08      CTZ    \n",
       "              20      10  3550    5  3378 2023-09-08      CTZ    \n",
       "\n",
       "                  interactiontime_sum_familiar  interactiontime_sum_stranger  \\\n",
       "genotype  sex                                                                  \n",
       "Rbp4-LMO3 F   22                            13                            15   \n",
       "              23                            12                            14   \n",
       "              25                            22                            34   \n",
       "              28                            19                            25   \n",
       "              31                            21                            16   \n",
       "              32                            21                            16   \n",
       "              33                             1                            14   \n",
       "              36                             5                             9   \n",
       "              38                            19                            15   \n",
       "              40                             4                            19   \n",
       "              41                            18                            11   \n",
       "              43                             8                             3   \n",
       "              45                             4                             9   \n",
       "          M   0                             26                            42   \n",
       "              7                             10                             0   \n",
       "              10                            22                            17   \n",
       "              11                            27                             1   \n",
       "              12                             0                            15   \n",
       "              13                            10                            15   \n",
       "              15                            36                             5   \n",
       "              17                             8                            40   \n",
       "              18                            15                            16   \n",
       "          M   3                             12                            36   \n",
       "wt-LMO3   F   21                            12                            37   \n",
       "              24                             9                            45   \n",
       "              26                            30                            18   \n",
       "              27                            15                             9   \n",
       "              29                            33                            18   \n",
       "              30                            18                            20   \n",
       "              34                             2                            20   \n",
       "              35                            19                            21   \n",
       "              37                             8                            13   \n",
       "              39                            13                            32   \n",
       "              42                            20                            13   \n",
       "              44                            12                             8   \n",
       "          M   1                             51                            52   \n",
       "              2                             42                            60   \n",
       "              4                             47                            65   \n",
       "              5                             74                            47   \n",
       "              6                             23                             5   \n",
       "              8                             20                            16   \n",
       "              9                             23                            16   \n",
       "              14                            55                            15   \n",
       "              16                             9                            18   \n",
       "              19                            23                            20   \n",
       "              20                             4                            34   \n",
       "\n",
       "                  interactiontime_avg_familiar  interactiontime_avg_stranger  \\\n",
       "genotype  sex                                                                  \n",
       "Rbp4-LMO3 F   22                      4.333333                      3.750000   \n",
       "              23                      2.400000                      2.800000   \n",
       "              25                      2.750000                      3.400000   \n",
       "              28                      2.375000                      2.083333   \n",
       "              31                      1.909091                      3.200000   \n",
       "              32                      1.909091                      4.000000   \n",
       "              33                      1.000000                      2.800000   \n",
       "              36                      1.666667                      2.250000   \n",
       "              38                      3.166667                      2.500000   \n",
       "              40                      1.333333                      3.166667   \n",
       "              41                      2.571429                      3.666667   \n",
       "              43                      4.000000                      1.500000   \n",
       "              45                      1.333333                      1.500000   \n",
       "          M   0                       2.600000                      4.666667   \n",
       "              7                       2.000000                      0.000000   \n",
       "              10                      2.444444                      6.000000   \n",
       "              11                      2.454545                      1.000000   \n",
       "              12                      0.000000                      3.000000   \n",
       "              13                      2.500000                      3.000000   \n",
       "              15                      4.000000                      2.500000   \n",
       "              17                      2.666667                      2.857143   \n",
       "              18                      2.500000                      2.666667   \n",
       "          M   3                       2.400000                      7.200000   \n",
       "wt-LMO3   F   21                      2.400000                      2.466667   \n",
       "              24                      3.000000                      4.090909   \n",
       "              26                      3.750000                      2.571429   \n",
       "              27                      3.000000                      1.800000   \n",
       "              29                      4.125000                      2.000000   \n",
       "              30                      2.250000                      2.500000   \n",
       "              34                      2.000000                      2.500000   \n",
       "              35                      2.714286                      2.100000   \n",
       "              37                      2.000000                      1.857143   \n",
       "              39                      1.857143                      5.333333   \n",
       "              42                      2.500000                      2.166667   \n",
       "              44                      2.400000                      2.000000   \n",
       "          M   1                       5.100000                      5.777778   \n",
       "              2                      10.500000                      4.615385   \n",
       "              4                       5.875000                      5.909091   \n",
       "              5                       8.222222                      9.400000   \n",
       "              6                       2.875000                      1.666667   \n",
       "              8                       2.875143                      2.000000   \n",
       "              9                       2.555556                      3.200000   \n",
       "              14                      7.857143                      3.750000   \n",
       "              16                      2.250000                      6.000000   \n",
       "              19                      2.875000                      2.500000   \n",
       "              20                      2.000000                      3.400000   \n",
       "\n",
       "                  approach_sum_familiar  approach_sum_stranger datetested  \\\n",
       "genotype  sex                                                               \n",
       "Rbp4-LMO3 F   22                      3               4.000000 2024-03-28   \n",
       "              23                      5               5.000000 2024-05-07   \n",
       "              25                      8              10.000000 2024-05-07   \n",
       "              28                      8              12.000000 2024-05-28   \n",
       "              31                     11               5.000000 2024-07-02   \n",
       "              32                     11               4.000000 2024-07-02   \n",
       "              33                      1               5.000000 2024-07-02   \n",
       "              36                      3               4.000000 2024-07-08   \n",
       "              38                      6               6.000000 2024-07-09   \n",
       "              40                      3               6.000000 2024-07-09   \n",
       "              41                      7               3.000000 2024-07-09   \n",
       "              43                      2               2.000000 2024-07-10   \n",
       "              45                      3               6.000000 2024-07-10   \n",
       "          M   0                      10               9.000000 2023-11-29   \n",
       "              7                       5               0.000000 2024-06-03   \n",
       "              10                      9               2.833333 2024-06-03   \n",
       "              11                     11               1.000000 2024-06-04   \n",
       "              12                      0               5.000000 2024-06-04   \n",
       "              13                      4               5.000000 2024-06-04   \n",
       "              15                      9               2.000000 2024-06-06   \n",
       "              17                      3              14.000000 2024-06-06   \n",
       "              18                      6               6.000000 2024-06-07   \n",
       "          M   3                       5               5.000000 2024-05-08   \n",
       "wt-LMO3   F   21                      5              15.000000 2024-03-28   \n",
       "              24                      3              11.000000 2024-05-07   \n",
       "              26                      8               7.000000 2024-05-09   \n",
       "              27                      5               5.000000 2024-05-28   \n",
       "              29                      8               9.000000 2024-05-08   \n",
       "              30                      8               8.000000 2024-07-02   \n",
       "              34                      1               8.000000 2024-07-02   \n",
       "              35                      7              10.000000 2024-07-08   \n",
       "              37                      4               7.000000 2024-07-08   \n",
       "              39                      7               6.000000 2024-07-09   \n",
       "              42                      8               6.000000 2024-07-10   \n",
       "              44                      5               4.000000 2024-07-10   \n",
       "          M   1                      10               9.000000 2023-11-29   \n",
       "              2                       4              13.000000 2024-05-08   \n",
       "              4                       8              11.000000 2024-05-08   \n",
       "              5                       9               5.000000 2024-05-09   \n",
       "              6                       8               3.000000 2024-06-03   \n",
       "              8                       7               8.000000 2024-06-03   \n",
       "              9                       9               5.000000 2024-06-03   \n",
       "              14                      7               4.000000 2024-06-04   \n",
       "              16                      4               3.000000 2024-06-06   \n",
       "              19                      8               8.000000 2024-06-07   \n",
       "              20                      2              10.000000 2024-06-07   \n",
       "\n",
       "                  age_in_months  \n",
       "genotype  sex                    \n",
       "Rbp4-LMO3 F   22           9.59  \n",
       "              23          10.58  \n",
       "              25          10.58  \n",
       "              28           9.59  \n",
       "              31          10.61  \n",
       "              32          10.61  \n",
       "              33          10.61  \n",
       "              36          10.35  \n",
       "              38          10.18  \n",
       "              40          10.18  \n",
       "              41          10.18  \n",
       "              43          10.05  \n",
       "              45          10.05  \n",
       "          M   0            5.65  \n",
       "              7            9.79  \n",
       "              10           9.79  \n",
       "              11           9.69  \n",
       "              12           9.69  \n",
       "              13           9.23  \n",
       "              15           9.10  \n",
       "              17           9.10  \n",
       "              18           8.97  \n",
       "          M   3           10.61  \n",
       "wt-LMO3   F   21           9.59  \n",
       "              24          10.58  \n",
       "              26           9.86  \n",
       "              27           9.59  \n",
       "              29           8.94  \n",
       "              30          10.61  \n",
       "              34          10.61  \n",
       "              35          10.35  \n",
       "              37          10.35  \n",
       "              39          10.18  \n",
       "              42          10.05  \n",
       "              44          10.05  \n",
       "          M   1            5.65  \n",
       "              2           10.61  \n",
       "              4           10.61  \n",
       "              5            9.86  \n",
       "              6            9.79  \n",
       "              8            9.79  \n",
       "              9            9.79  \n",
       "              14           9.23  \n",
       "              16           9.10  \n",
       "              19           8.97  \n",
       "              20           8.97  "
      ]
     },
     "execution_count": 568,
     "metadata": {},
     "output_type": "execute_result"
    }
   ],
   "source": [
    "mouse_analysis.genotype_sex_groups"
   ]
  },
  {
   "cell_type": "code",
   "execution_count": 569,
   "id": "43337c57",
   "metadata": {},
   "outputs": [
    {
     "name": "stdout",
     "output_type": "stream",
     "text": [
      "Type of genotype_sex_groups: <class 'pandas.core.frame.DataFrame'>\n",
      "Keys in genotype_sex_groups:\n",
      "cohort\n",
      "tag\n",
      "toe\n",
      "dam\n",
      "DOB\n",
      "treatment\n",
      "interactiontime_sum_familiar\n",
      "interactiontime_sum_stranger\n",
      "interactiontime_avg_familiar\n",
      "interactiontime_avg_stranger\n",
      "approach_sum_familiar\n",
      "approach_sum_stranger\n",
      "datetested\n",
      "age_in_months\n",
      "\n",
      "Sample of first group:\n",
      "genotype   sex    \n",
      "Rbp4-LMO3  F    22    3\n",
      "                23    4\n",
      "                25    4\n",
      "                28    6\n",
      "                31    7\n",
      "Name: cohort, dtype: int64\n"
     ]
    }
   ],
   "source": [
    "mouse_analysis.analysis.inspect_genotype_sex_groups()"
   ]
  },
  {
   "cell_type": "code",
   "execution_count": 570,
   "id": "34f17c9c",
   "metadata": {},
   "outputs": [
    {
     "name": "stdout",
     "output_type": "stream",
     "text": [
      "\n",
      "Processing group: Genotype = Rbp4-LMO3, Sex = F \n",
      "  Mouse 3440: Discrimination = 0.0714\n",
      "  Mouse 3437: Discrimination = 0.0769\n",
      "  Mouse 3439: Discrimination = 0.2143\n",
      "  Mouse 3520: Discrimination = 0.1364\n",
      "  Mouse 3525: Discrimination = -0.1351\n",
      "  Mouse 3551: Discrimination = -0.1351\n",
      "  Mouse 3552: Discrimination = 0.8667\n",
      "  Mouse 3557: Discrimination = 0.2857\n",
      "  Mouse 3562: Discrimination = -0.1176\n",
      "  Mouse 3564: Discrimination = 0.6522\n",
      "  Mouse 3565: Discrimination = -0.2414\n",
      "  Mouse 2809: Discrimination = -0.4545\n",
      "  Mouse 2839: Discrimination = 0.3846\n",
      "  Mouse 3440: Discrimination = -0.0722\n",
      "  Mouse 3437: Discrimination = 0.0769\n",
      "  Mouse 3439: Discrimination = 0.1057\n",
      "  Mouse 3520: Discrimination = -0.0654\n",
      "  Mouse 3525: Discrimination = 0.2527\n",
      "  Mouse 3551: Discrimination = 0.3538\n",
      "  Mouse 3552: Discrimination = 0.4737\n",
      "  Mouse 3557: Discrimination = 0.1489\n",
      "  Mouse 3562: Discrimination = -0.1176\n",
      "  Mouse 3564: Discrimination = 0.4074\n",
      "  Mouse 3565: Discrimination = 0.1756\n",
      "  Mouse 2809: Discrimination = -0.4545\n",
      "  Mouse 2839: Discrimination = 0.0588\n",
      "  Mouse 3440: Discrimination = 0.1429\n",
      "  Mouse 3437: Discrimination = 0.0000\n",
      "  Mouse 3439: Discrimination = 0.1111\n",
      "  Mouse 3520: Discrimination = 0.2000\n",
      "  Mouse 3525: Discrimination = -0.3750\n",
      "  Mouse 3551: Discrimination = -0.4667\n",
      "  Mouse 3552: Discrimination = 0.6667\n",
      "  Mouse 3557: Discrimination = 0.1429\n",
      "  Mouse 3562: Discrimination = 0.0000\n",
      "  Mouse 3564: Discrimination = 0.3333\n",
      "  Mouse 3565: Discrimination = -0.4000\n",
      "  Mouse 2809: Discrimination = 0.0000\n",
      "  Mouse 2839: Discrimination = 0.3333\n",
      "\n",
      "Processing group: Genotype = Rbp4-LMO3, Sex = M\n",
      "  Mouse 3427: Discrimination = 0.2353\n",
      "  Mouse 3515: Discrimination = -1.0000\n",
      "  Mouse 3518: Discrimination = -0.1282\n",
      "  Mouse 3522: Discrimination = -0.9286\n",
      "  Mouse 3523: Discrimination = 1.0000\n",
      "  Mouse 3554: Discrimination = 0.2000\n",
      "  Mouse 3559: Discrimination = -0.7561\n",
      "  Mouse 3561: Discrimination = 0.6667\n",
      "  Mouse 3548: Discrimination = 0.0323\n",
      "  Mouse 3427: Discrimination = 0.2844\n",
      "  Mouse 3515: Discrimination = -1.0000\n",
      "  Mouse 3518: Discrimination = 0.4211\n",
      "  Mouse 3522: Discrimination = -0.4211\n",
      "  Mouse 3523: Discrimination = 1.0000\n",
      "  Mouse 3554: Discrimination = 0.0909\n",
      "  Mouse 3559: Discrimination = -0.2308\n",
      "  Mouse 3561: Discrimination = 0.0345\n",
      "  Mouse 3548: Discrimination = 0.0323\n",
      "  Mouse 3427: Discrimination = -0.0526\n",
      "  Mouse 3515: Discrimination = -1.0000\n",
      "  Mouse 3518: Discrimination = -0.5211\n",
      "  Mouse 3522: Discrimination = -0.8333\n",
      "  Mouse 3523: Discrimination = 1.0000\n",
      "  Mouse 3554: Discrimination = 0.1111\n",
      "  Mouse 3559: Discrimination = -0.6364\n",
      "  Mouse 3561: Discrimination = 0.6471\n",
      "  Mouse 3548: Discrimination = 0.0000\n",
      "\n",
      "Processing group: Genotype = Rbp4-LMO3, Sex = M \n",
      "  Mouse 3435: Discrimination = 0.5000\n",
      "  Mouse 3435: Discrimination = 0.5000\n",
      "  Mouse 3435: Discrimination = 0.0000\n",
      "\n",
      "Processing group: Genotype = wt-LMO3, Sex = F \n",
      "  Mouse 3429: Discrimination = 0.5102\n",
      "  Mouse 3438: Discrimination = 0.6667\n",
      "  Mouse 3445: Discrimination = -0.2500\n",
      "  Mouse 3519: Discrimination = -0.2500\n",
      "  Mouse 3521: Discrimination = -0.2941\n",
      "  Mouse 3524: Discrimination = 0.0526\n",
      "  Mouse 3553: Discrimination = 0.8182\n",
      "  Mouse 3556: Discrimination = 0.0500\n",
      "  Mouse 3558: Discrimination = 0.2381\n",
      "  Mouse 3563: Discrimination = 0.4222\n",
      "  Mouse 2808: Discrimination = -0.2121\n",
      "  Mouse 2838: Discrimination = -0.2000\n",
      "  Mouse 3429: Discrimination = 0.0137\n",
      "  Mouse 3438: Discrimination = 0.1538\n",
      "  Mouse 3445: Discrimination = -0.1864\n",
      "  Mouse 3519: Discrimination = -0.2500\n",
      "  Mouse 3521: Discrimination = -0.3469\n",
      "  Mouse 3524: Discrimination = 0.0526\n",
      "  Mouse 3553: Discrimination = 0.1111\n",
      "  Mouse 3556: Discrimination = -0.1276\n",
      "  Mouse 3558: Discrimination = -0.0370\n",
      "  Mouse 3563: Discrimination = 0.4834\n",
      "  Mouse 2808: Discrimination = -0.0714\n",
      "  Mouse 2838: Discrimination = -0.0909\n",
      "  Mouse 3429: Discrimination = 0.5000\n",
      "  Mouse 3438: Discrimination = 0.5714\n",
      "  Mouse 3445: Discrimination = -0.0667\n",
      "  Mouse 3519: Discrimination = 0.0000\n",
      "  Mouse 3521: Discrimination = 0.0588\n",
      "  Mouse 3524: Discrimination = 0.0000\n",
      "  Mouse 3553: Discrimination = 0.7778\n",
      "  Mouse 3556: Discrimination = 0.1765\n",
      "  Mouse 3558: Discrimination = 0.2727\n",
      "  Mouse 3563: Discrimination = -0.0769\n",
      "  Mouse 2808: Discrimination = -0.1429\n",
      "  Mouse 2838: Discrimination = -0.1111\n",
      "\n",
      "Processing group: Genotype = wt-LMO3, Sex = M\n",
      "  Mouse 3428: Discrimination = 0.0097\n",
      "  Mouse 3434: Discrimination = 0.1765\n",
      "  Mouse 3436: Discrimination = 0.1607\n",
      "  Mouse 3442: Discrimination = -0.2231\n",
      "  Mouse 3514: Discrimination = -0.6429\n",
      "  Mouse 3516: Discrimination = -0.1111\n",
      "  Mouse 3517: Discrimination = -0.1795\n",
      "  Mouse 3555: Discrimination = -0.5714\n",
      "  Mouse 3560: Discrimination = 0.3333\n",
      "  Mouse 3549: Discrimination = -0.0698\n",
      "  Mouse 3550: Discrimination = 0.7895\n",
      "  Mouse 3428: Discrimination = 0.0623\n",
      "  Mouse 3434: Discrimination = -0.3893\n",
      "  Mouse 3436: Discrimination = 0.0029\n",
      "  Mouse 3442: Discrimination = 0.0668\n",
      "  Mouse 3514: Discrimination = -0.2661\n",
      "  Mouse 3516: Discrimination = -0.1795\n",
      "  Mouse 3517: Discrimination = 0.1120\n",
      "  Mouse 3555: Discrimination = -0.3538\n",
      "  Mouse 3560: Discrimination = 0.4545\n",
      "  Mouse 3549: Discrimination = -0.0698\n",
      "  Mouse 3550: Discrimination = 0.2593\n",
      "  Mouse 3428: Discrimination = -0.0526\n",
      "  Mouse 3434: Discrimination = 0.5294\n",
      "  Mouse 3436: Discrimination = 0.1579\n",
      "  Mouse 3442: Discrimination = -0.2857\n",
      "  Mouse 3514: Discrimination = -0.4545\n",
      "  Mouse 3516: Discrimination = 0.0667\n",
      "  Mouse 3517: Discrimination = -0.2857\n",
      "  Mouse 3555: Discrimination = -0.2727\n",
      "  Mouse 3560: Discrimination = -0.1429\n",
      "  Mouse 3549: Discrimination = 0.0000\n",
      "  Mouse 3550: Discrimination = 0.6667\n",
      "\n",
      "Final discrimination_df:\n",
      "      Genotype Sex                                        Metric Pair  \\\n",
      "0    Rbp4-LMO3  F   interactiontime_sum_familiar vs interactiontim...   \n",
      "1    Rbp4-LMO3  F   interactiontime_sum_familiar vs interactiontim...   \n",
      "2    Rbp4-LMO3  F   interactiontime_sum_familiar vs interactiontim...   \n",
      "3    Rbp4-LMO3  F   interactiontime_sum_familiar vs interactiontim...   \n",
      "4    Rbp4-LMO3  F   interactiontime_sum_familiar vs interactiontim...   \n",
      "..         ...  ..                                                ...   \n",
      "133    wt-LMO3   M     approach_sum_familiar vs approach_sum_stranger   \n",
      "134    wt-LMO3   M     approach_sum_familiar vs approach_sum_stranger   \n",
      "135    wt-LMO3   M     approach_sum_familiar vs approach_sum_stranger   \n",
      "136    wt-LMO3   M     approach_sum_familiar vs approach_sum_stranger   \n",
      "137    wt-LMO3   M     approach_sum_familiar vs approach_sum_stranger   \n",
      "\n",
      "     Discrimination   Tag    Age  \n",
      "0          0.071429  3440   9.59  \n",
      "1          0.076923  3437  10.58  \n",
      "2          0.214286  3439  10.58  \n",
      "3          0.136364  3520   9.59  \n",
      "4         -0.135135  3525  10.61  \n",
      "..              ...   ...    ...  \n",
      "133       -0.285714  3517   9.79  \n",
      "134       -0.272727  3555   9.23  \n",
      "135       -0.142857  3560   9.10  \n",
      "136        0.000000  3549   8.97  \n",
      "137        0.666667  3550   8.97  \n",
      "\n",
      "[138 rows x 6 columns]\n",
      "Unique Genotypes: ['Rbp4-LMO3' 'wt-LMO3']\n",
      "Unique Sexes: ['F ' 'M' 'M ']\n",
      "Unique Metric Pairs: ['interactiontime_sum_familiar vs interactiontime_sum_stranger'\n",
      " 'interactiontime_avg_familiar vs interactiontime_avg_stranger'\n",
      " 'approach_sum_familiar vs approach_sum_stranger']\n",
      "Data for Rbp4-LMO3 - F  - interactiontime_sum_familiar vs interactiontime_sum_stranger:\n",
      "Number of data points: 13\n",
      "Sample data:     Genotype Sex                                        Metric Pair  \\\n",
      "0  Rbp4-LMO3  F   interactiontime_sum_familiar vs interactiontim...   \n",
      "1  Rbp4-LMO3  F   interactiontime_sum_familiar vs interactiontim...   \n",
      "2  Rbp4-LMO3  F   interactiontime_sum_familiar vs interactiontim...   \n",
      "3  Rbp4-LMO3  F   interactiontime_sum_familiar vs interactiontim...   \n",
      "4  Rbp4-LMO3  F   interactiontime_sum_familiar vs interactiontim...   \n",
      "\n",
      "   Discrimination   Tag    Age  \n",
      "0        0.071429  3440   9.59  \n",
      "1        0.076923  3437  10.58  \n",
      "2        0.214286  3439  10.58  \n",
      "3        0.136364  3520   9.59  \n",
      "4       -0.135135  3525  10.61  \n",
      "Data for Rbp4-LMO3 - M - interactiontime_sum_familiar vs interactiontime_sum_stranger:\n",
      "Number of data points: 9\n",
      "Sample data:      Genotype Sex                                        Metric Pair  \\\n",
      "39  Rbp4-LMO3   M  interactiontime_sum_familiar vs interactiontim...   \n",
      "40  Rbp4-LMO3   M  interactiontime_sum_familiar vs interactiontim...   \n",
      "41  Rbp4-LMO3   M  interactiontime_sum_familiar vs interactiontim...   \n",
      "42  Rbp4-LMO3   M  interactiontime_sum_familiar vs interactiontim...   \n",
      "43  Rbp4-LMO3   M  interactiontime_sum_familiar vs interactiontim...   \n",
      "\n",
      "    Discrimination   Tag   Age  \n",
      "39        0.235294  3427  5.65  \n",
      "40       -1.000000  3515  9.79  \n",
      "41       -0.128205  3518  9.79  \n",
      "42       -0.928571  3522  9.69  \n",
      "43        1.000000  3523  9.69  \n",
      "Data for Rbp4-LMO3 - M  - interactiontime_sum_familiar vs interactiontime_sum_stranger:\n",
      "Number of data points: 1\n",
      "Sample data:      Genotype Sex                                        Metric Pair  \\\n",
      "66  Rbp4-LMO3  M   interactiontime_sum_familiar vs interactiontim...   \n",
      "\n",
      "    Discrimination   Tag    Age  \n",
      "66             0.5  3435  10.61  \n",
      "Data for wt-LMO3 - F  - interactiontime_sum_familiar vs interactiontime_sum_stranger:\n",
      "Number of data points: 12\n",
      "Sample data:    Genotype Sex                                        Metric Pair  \\\n",
      "69  wt-LMO3  F   interactiontime_sum_familiar vs interactiontim...   \n",
      "70  wt-LMO3  F   interactiontime_sum_familiar vs interactiontim...   \n",
      "71  wt-LMO3  F   interactiontime_sum_familiar vs interactiontim...   \n",
      "72  wt-LMO3  F   interactiontime_sum_familiar vs interactiontim...   \n",
      "73  wt-LMO3  F   interactiontime_sum_familiar vs interactiontim...   \n",
      "\n",
      "    Discrimination   Tag    Age  \n",
      "69        0.510204  3429   9.59  \n",
      "70        0.666667  3438  10.58  \n",
      "71       -0.250000  3445   9.86  \n",
      "72       -0.250000  3519   9.59  \n",
      "73       -0.294118  3521   8.94  \n",
      "Data for wt-LMO3 - M - interactiontime_sum_familiar vs interactiontime_sum_stranger:\n",
      "Number of data points: 11\n",
      "Sample data:     Genotype Sex                                        Metric Pair  \\\n",
      "105  wt-LMO3   M  interactiontime_sum_familiar vs interactiontim...   \n",
      "106  wt-LMO3   M  interactiontime_sum_familiar vs interactiontim...   \n",
      "107  wt-LMO3   M  interactiontime_sum_familiar vs interactiontim...   \n",
      "108  wt-LMO3   M  interactiontime_sum_familiar vs interactiontim...   \n",
      "109  wt-LMO3   M  interactiontime_sum_familiar vs interactiontim...   \n",
      "\n",
      "     Discrimination   Tag    Age  \n",
      "105        0.009709  3428   5.65  \n",
      "106        0.176471  3434  10.61  \n",
      "107        0.160714  3436  10.61  \n",
      "108       -0.223140  3442   9.86  \n",
      "109       -0.642857  3514   9.79  \n",
      "Data for wt-LMO3 - M  - interactiontime_sum_familiar vs interactiontime_sum_stranger:\n",
      "Number of data points: 0\n",
      "No data available for this combination\n",
      "Data for Rbp4-LMO3 - F  - interactiontime_avg_familiar vs interactiontime_avg_stranger:\n",
      "Number of data points: 13\n",
      "Sample data:      Genotype Sex                                        Metric Pair  \\\n",
      "13  Rbp4-LMO3  F   interactiontime_avg_familiar vs interactiontim...   \n",
      "14  Rbp4-LMO3  F   interactiontime_avg_familiar vs interactiontim...   \n",
      "15  Rbp4-LMO3  F   interactiontime_avg_familiar vs interactiontim...   \n",
      "16  Rbp4-LMO3  F   interactiontime_avg_familiar vs interactiontim...   \n",
      "17  Rbp4-LMO3  F   interactiontime_avg_familiar vs interactiontim...   \n",
      "\n",
      "    Discrimination   Tag    Age  \n",
      "13       -0.072165  3440   9.59  \n",
      "14        0.076923  3437  10.58  \n",
      "15        0.105691  3439  10.58  \n",
      "16       -0.065421  3520   9.59  \n",
      "17        0.252669  3525  10.61  \n",
      "Data for Rbp4-LMO3 - M - interactiontime_avg_familiar vs interactiontime_avg_stranger:\n",
      "Number of data points: 9\n",
      "Sample data:      Genotype Sex                                        Metric Pair  \\\n",
      "48  Rbp4-LMO3   M  interactiontime_avg_familiar vs interactiontim...   \n",
      "49  Rbp4-LMO3   M  interactiontime_avg_familiar vs interactiontim...   \n",
      "50  Rbp4-LMO3   M  interactiontime_avg_familiar vs interactiontim...   \n",
      "51  Rbp4-LMO3   M  interactiontime_avg_familiar vs interactiontim...   \n",
      "52  Rbp4-LMO3   M  interactiontime_avg_familiar vs interactiontim...   \n",
      "\n",
      "    Discrimination   Tag   Age  \n",
      "48        0.284404  3427  5.65  \n",
      "49       -1.000000  3515  9.79  \n",
      "50        0.421053  3518  9.79  \n",
      "51       -0.421053  3522  9.69  \n",
      "52        1.000000  3523  9.69  \n",
      "Data for Rbp4-LMO3 - M  - interactiontime_avg_familiar vs interactiontime_avg_stranger:\n",
      "Number of data points: 1\n",
      "Sample data:      Genotype Sex                                        Metric Pair  \\\n",
      "67  Rbp4-LMO3  M   interactiontime_avg_familiar vs interactiontim...   \n",
      "\n",
      "    Discrimination   Tag    Age  \n",
      "67             0.5  3435  10.61  \n",
      "Data for wt-LMO3 - F  - interactiontime_avg_familiar vs interactiontime_avg_stranger:\n",
      "Number of data points: 12\n",
      "Sample data:    Genotype Sex                                        Metric Pair  \\\n",
      "81  wt-LMO3  F   interactiontime_avg_familiar vs interactiontim...   \n",
      "82  wt-LMO3  F   interactiontime_avg_familiar vs interactiontim...   \n",
      "83  wt-LMO3  F   interactiontime_avg_familiar vs interactiontim...   \n",
      "84  wt-LMO3  F   interactiontime_avg_familiar vs interactiontim...   \n",
      "85  wt-LMO3  F   interactiontime_avg_familiar vs interactiontim...   \n",
      "\n",
      "    Discrimination   Tag    Age  \n",
      "81        0.013699  3429   9.59  \n",
      "82        0.153846  3438  10.58  \n",
      "83       -0.186441  3445   9.86  \n",
      "84       -0.250000  3519   9.59  \n",
      "85       -0.346939  3521   8.94  \n",
      "Data for wt-LMO3 - M - interactiontime_avg_familiar vs interactiontime_avg_stranger:\n",
      "Number of data points: 11\n",
      "Sample data:     Genotype Sex                                        Metric Pair  \\\n",
      "116  wt-LMO3   M  interactiontime_avg_familiar vs interactiontim...   \n",
      "117  wt-LMO3   M  interactiontime_avg_familiar vs interactiontim...   \n",
      "118  wt-LMO3   M  interactiontime_avg_familiar vs interactiontim...   \n",
      "119  wt-LMO3   M  interactiontime_avg_familiar vs interactiontim...   \n",
      "120  wt-LMO3   M  interactiontime_avg_familiar vs interactiontim...   \n",
      "\n",
      "     Discrimination   Tag    Age  \n",
      "116        0.062308  3428   5.65  \n",
      "117       -0.389313  3434  10.61  \n",
      "118        0.002893  3436  10.61  \n",
      "119        0.066835  3442   9.86  \n",
      "120       -0.266055  3514   9.79  \n",
      "Data for wt-LMO3 - M  - interactiontime_avg_familiar vs interactiontime_avg_stranger:\n",
      "Number of data points: 0\n",
      "No data available for this combination\n",
      "Data for Rbp4-LMO3 - F  - approach_sum_familiar vs approach_sum_stranger:\n",
      "Number of data points: 13\n",
      "Sample data:      Genotype Sex                                     Metric Pair  \\\n",
      "26  Rbp4-LMO3  F   approach_sum_familiar vs approach_sum_stranger   \n",
      "27  Rbp4-LMO3  F   approach_sum_familiar vs approach_sum_stranger   \n",
      "28  Rbp4-LMO3  F   approach_sum_familiar vs approach_sum_stranger   \n",
      "29  Rbp4-LMO3  F   approach_sum_familiar vs approach_sum_stranger   \n",
      "30  Rbp4-LMO3  F   approach_sum_familiar vs approach_sum_stranger   \n",
      "\n",
      "    Discrimination   Tag    Age  \n",
      "26        0.142857  3440   9.59  \n",
      "27        0.000000  3437  10.58  \n",
      "28        0.111111  3439  10.58  \n",
      "29        0.200000  3520   9.59  \n",
      "30       -0.375000  3525  10.61  \n",
      "Data for Rbp4-LMO3 - M - approach_sum_familiar vs approach_sum_stranger:\n",
      "Number of data points: 9\n",
      "Sample data:      Genotype Sex                                     Metric Pair  \\\n",
      "57  Rbp4-LMO3   M  approach_sum_familiar vs approach_sum_stranger   \n",
      "58  Rbp4-LMO3   M  approach_sum_familiar vs approach_sum_stranger   \n",
      "59  Rbp4-LMO3   M  approach_sum_familiar vs approach_sum_stranger   \n",
      "60  Rbp4-LMO3   M  approach_sum_familiar vs approach_sum_stranger   \n",
      "61  Rbp4-LMO3   M  approach_sum_familiar vs approach_sum_stranger   \n",
      "\n",
      "    Discrimination   Tag   Age  \n",
      "57       -0.052632  3427  5.65  \n",
      "58       -1.000000  3515  9.79  \n",
      "59       -0.521127  3518  9.79  \n",
      "60       -0.833333  3522  9.69  \n",
      "61        1.000000  3523  9.69  \n",
      "Data for Rbp4-LMO3 - M  - approach_sum_familiar vs approach_sum_stranger:\n",
      "Number of data points: 1\n",
      "Sample data:      Genotype Sex                                     Metric Pair  \\\n",
      "68  Rbp4-LMO3  M   approach_sum_familiar vs approach_sum_stranger   \n",
      "\n",
      "    Discrimination   Tag    Age  \n",
      "68             0.0  3435  10.61  \n",
      "Data for wt-LMO3 - F  - approach_sum_familiar vs approach_sum_stranger:\n",
      "Number of data points: 12\n",
      "Sample data:    Genotype Sex                                     Metric Pair  \\\n",
      "93  wt-LMO3  F   approach_sum_familiar vs approach_sum_stranger   \n",
      "94  wt-LMO3  F   approach_sum_familiar vs approach_sum_stranger   \n",
      "95  wt-LMO3  F   approach_sum_familiar vs approach_sum_stranger   \n",
      "96  wt-LMO3  F   approach_sum_familiar vs approach_sum_stranger   \n",
      "97  wt-LMO3  F   approach_sum_familiar vs approach_sum_stranger   \n",
      "\n",
      "    Discrimination   Tag    Age  \n",
      "93        0.500000  3429   9.59  \n",
      "94        0.571429  3438  10.58  \n",
      "95       -0.066667  3445   9.86  \n",
      "96        0.000000  3519   9.59  \n",
      "97        0.058824  3521   8.94  \n",
      "Data for wt-LMO3 - M - approach_sum_familiar vs approach_sum_stranger:\n",
      "Number of data points: 11\n",
      "Sample data:     Genotype Sex                                     Metric Pair  \\\n",
      "127  wt-LMO3   M  approach_sum_familiar vs approach_sum_stranger   \n",
      "128  wt-LMO3   M  approach_sum_familiar vs approach_sum_stranger   \n",
      "129  wt-LMO3   M  approach_sum_familiar vs approach_sum_stranger   \n",
      "130  wt-LMO3   M  approach_sum_familiar vs approach_sum_stranger   \n",
      "131  wt-LMO3   M  approach_sum_familiar vs approach_sum_stranger   \n",
      "\n",
      "     Discrimination   Tag    Age  \n",
      "127       -0.052632  3428   5.65  \n",
      "128        0.529412  3434  10.61  \n",
      "129        0.157895  3436  10.61  \n",
      "130       -0.285714  3442   9.86  \n",
      "131       -0.454545  3514   9.79  \n",
      "Data for wt-LMO3 - M  - approach_sum_familiar vs approach_sum_stranger:\n",
      "Number of data points: 0\n",
      "No data available for this combination\n"
     ]
    },
    {
     "data": {
      "application/vnd.plotly.v1+json": {
       "config": {
        "plotlyServerURL": "https://plot.ly"
       },
       "data": [
        {
         "boxpoints": "all",
         "hoverinfo": "text",
         "hovertext": [
          "Tag: 3440<br>Age: 9.59 months<br>Discrimination: 0.0714",
          "Tag: 3437<br>Age: 10.58 months<br>Discrimination: 0.0769",
          "Tag: 3439<br>Age: 10.58 months<br>Discrimination: 0.2143",
          "Tag: 3520<br>Age: 9.59 months<br>Discrimination: 0.1364",
          "Tag: 3525<br>Age: 10.61 months<br>Discrimination: -0.1351",
          "Tag: 3551<br>Age: 10.61 months<br>Discrimination: -0.1351",
          "Tag: 3552<br>Age: 10.61 months<br>Discrimination: 0.8667",
          "Tag: 3557<br>Age: 10.35 months<br>Discrimination: 0.2857",
          "Tag: 3562<br>Age: 10.18 months<br>Discrimination: -0.1176",
          "Tag: 3564<br>Age: 10.18 months<br>Discrimination: 0.6522",
          "Tag: 3565<br>Age: 10.18 months<br>Discrimination: -0.2414",
          "Tag: 2809<br>Age: 10.05 months<br>Discrimination: -0.4545",
          "Tag: 2839<br>Age: 10.05 months<br>Discrimination: 0.3846"
         ],
         "jitter": 0.3,
         "marker": {
          "color": "blue",
          "symbol": "circle"
         },
         "name": "interactiontime_sum_familiar vs interactiontime_sum_stranger | Rbp4-LMO3 - F ",
         "pointpos": -1.8,
         "showlegend": false,
         "type": "box",
         "visible": true,
         "x": [
          "Rbp4-LMO3 - F ",
          "Rbp4-LMO3 - F ",
          "Rbp4-LMO3 - F ",
          "Rbp4-LMO3 - F ",
          "Rbp4-LMO3 - F ",
          "Rbp4-LMO3 - F ",
          "Rbp4-LMO3 - F ",
          "Rbp4-LMO3 - F ",
          "Rbp4-LMO3 - F ",
          "Rbp4-LMO3 - F ",
          "Rbp4-LMO3 - F ",
          "Rbp4-LMO3 - F ",
          "Rbp4-LMO3 - F "
         ],
         "y": [
          0.07142857142857142,
          0.07692307692307693,
          0.21428571428571427,
          0.13636363636363635,
          -0.13513513513513514,
          -0.13513513513513514,
          0.8666666666666667,
          0.2857142857142857,
          -0.11764705882352941,
          0.6521739130434783,
          -0.2413793103448276,
          -0.45454545454545453,
          0.38461538461538464
         ]
        },
        {
         "boxpoints": "all",
         "hoverinfo": "text",
         "hovertext": [
          "Tag: 3427<br>Age: 5.65 months<br>Discrimination: 0.2353",
          "Tag: 3515<br>Age: 9.79 months<br>Discrimination: -1.0000",
          "Tag: 3518<br>Age: 9.79 months<br>Discrimination: -0.1282",
          "Tag: 3522<br>Age: 9.69 months<br>Discrimination: -0.9286",
          "Tag: 3523<br>Age: 9.69 months<br>Discrimination: 1.0000",
          "Tag: 3554<br>Age: 9.23 months<br>Discrimination: 0.2000",
          "Tag: 3559<br>Age: 9.10 months<br>Discrimination: -0.7561",
          "Tag: 3561<br>Age: 9.10 months<br>Discrimination: 0.6667",
          "Tag: 3548<br>Age: 8.97 months<br>Discrimination: 0.0323"
         ],
         "jitter": 0.3,
         "marker": {
          "color": "blue",
          "symbol": "circle"
         },
         "name": "interactiontime_sum_familiar vs interactiontime_sum_stranger | Rbp4-LMO3 - M",
         "pointpos": -1.8,
         "showlegend": false,
         "type": "box",
         "visible": true,
         "x": [
          "Rbp4-LMO3 - M",
          "Rbp4-LMO3 - M",
          "Rbp4-LMO3 - M",
          "Rbp4-LMO3 - M",
          "Rbp4-LMO3 - M",
          "Rbp4-LMO3 - M",
          "Rbp4-LMO3 - M",
          "Rbp4-LMO3 - M",
          "Rbp4-LMO3 - M"
         ],
         "y": [
          0.23529411764705882,
          -1,
          -0.1282051282051282,
          -0.9285714285714286,
          1,
          0.2,
          -0.7560975609756098,
          0.6666666666666666,
          0.03225806451612903
         ]
        },
        {
         "boxpoints": "all",
         "hoverinfo": "text",
         "hovertext": [
          "Tag: 3435<br>Age: 10.61 months<br>Discrimination: 0.5000"
         ],
         "jitter": 0.3,
         "marker": {
          "color": "blue",
          "symbol": "circle"
         },
         "name": "interactiontime_sum_familiar vs interactiontime_sum_stranger | Rbp4-LMO3 - M ",
         "pointpos": -1.8,
         "showlegend": false,
         "type": "box",
         "visible": true,
         "x": [
          "Rbp4-LMO3 - M "
         ],
         "y": [
          0.5
         ]
        },
        {
         "boxpoints": "all",
         "hoverinfo": "text",
         "hovertext": [
          "Tag: 3429<br>Age: 9.59 months<br>Discrimination: 0.5102",
          "Tag: 3438<br>Age: 10.58 months<br>Discrimination: 0.6667",
          "Tag: 3445<br>Age: 9.86 months<br>Discrimination: -0.2500",
          "Tag: 3519<br>Age: 9.59 months<br>Discrimination: -0.2500",
          "Tag: 3521<br>Age: 8.94 months<br>Discrimination: -0.2941",
          "Tag: 3524<br>Age: 10.61 months<br>Discrimination: 0.0526",
          "Tag: 3553<br>Age: 10.61 months<br>Discrimination: 0.8182",
          "Tag: 3556<br>Age: 10.35 months<br>Discrimination: 0.0500",
          "Tag: 3558<br>Age: 10.35 months<br>Discrimination: 0.2381",
          "Tag: 3563<br>Age: 10.18 months<br>Discrimination: 0.4222",
          "Tag: 2808<br>Age: 10.05 months<br>Discrimination: -0.2121",
          "Tag: 2838<br>Age: 10.05 months<br>Discrimination: -0.2000"
         ],
         "jitter": 0.3,
         "marker": {
          "color": "red",
          "symbol": "circle"
         },
         "name": "interactiontime_sum_familiar vs interactiontime_sum_stranger | wt-LMO3 - F ",
         "pointpos": -1.8,
         "showlegend": false,
         "type": "box",
         "visible": true,
         "x": [
          "wt-LMO3 - F ",
          "wt-LMO3 - F ",
          "wt-LMO3 - F ",
          "wt-LMO3 - F ",
          "wt-LMO3 - F ",
          "wt-LMO3 - F ",
          "wt-LMO3 - F ",
          "wt-LMO3 - F ",
          "wt-LMO3 - F ",
          "wt-LMO3 - F ",
          "wt-LMO3 - F ",
          "wt-LMO3 - F "
         ],
         "y": [
          0.5102040816326531,
          0.6666666666666666,
          -0.25,
          -0.25,
          -0.29411764705882354,
          0.05263157894736842,
          0.8181818181818182,
          0.05,
          0.23809523809523808,
          0.4222222222222222,
          -0.21212121212121213,
          -0.2
         ]
        },
        {
         "boxpoints": "all",
         "hoverinfo": "text",
         "hovertext": [
          "Tag: 3428<br>Age: 5.65 months<br>Discrimination: 0.0097",
          "Tag: 3434<br>Age: 10.61 months<br>Discrimination: 0.1765",
          "Tag: 3436<br>Age: 10.61 months<br>Discrimination: 0.1607",
          "Tag: 3442<br>Age: 9.86 months<br>Discrimination: -0.2231",
          "Tag: 3514<br>Age: 9.79 months<br>Discrimination: -0.6429",
          "Tag: 3516<br>Age: 9.79 months<br>Discrimination: -0.1111",
          "Tag: 3517<br>Age: 9.79 months<br>Discrimination: -0.1795",
          "Tag: 3555<br>Age: 9.23 months<br>Discrimination: -0.5714",
          "Tag: 3560<br>Age: 9.10 months<br>Discrimination: 0.3333",
          "Tag: 3549<br>Age: 8.97 months<br>Discrimination: -0.0698",
          "Tag: 3550<br>Age: 8.97 months<br>Discrimination: 0.7895"
         ],
         "jitter": 0.3,
         "marker": {
          "color": "red",
          "symbol": "circle"
         },
         "name": "interactiontime_sum_familiar vs interactiontime_sum_stranger | wt-LMO3 - M",
         "pointpos": -1.8,
         "showlegend": false,
         "type": "box",
         "visible": true,
         "x": [
          "wt-LMO3 - M",
          "wt-LMO3 - M",
          "wt-LMO3 - M",
          "wt-LMO3 - M",
          "wt-LMO3 - M",
          "wt-LMO3 - M",
          "wt-LMO3 - M",
          "wt-LMO3 - M",
          "wt-LMO3 - M",
          "wt-LMO3 - M",
          "wt-LMO3 - M"
         ],
         "y": [
          0.009708737864077669,
          0.17647058823529413,
          0.16071428571428573,
          -0.2231404958677686,
          -0.6428571428571429,
          -0.1111111111111111,
          -0.1794871794871795,
          -0.5714285714285714,
          0.3333333333333333,
          -0.06976744186046512,
          0.7894736842105263
         ]
        },
        {
         "boxpoints": "all",
         "hoverinfo": "text",
         "hovertext": [
          "Tag: 3440<br>Age: 9.59 months<br>Discrimination: -0.0722",
          "Tag: 3437<br>Age: 10.58 months<br>Discrimination: 0.0769",
          "Tag: 3439<br>Age: 10.58 months<br>Discrimination: 0.1057",
          "Tag: 3520<br>Age: 9.59 months<br>Discrimination: -0.0654",
          "Tag: 3525<br>Age: 10.61 months<br>Discrimination: 0.2527",
          "Tag: 3551<br>Age: 10.61 months<br>Discrimination: 0.3538",
          "Tag: 3552<br>Age: 10.61 months<br>Discrimination: 0.4737",
          "Tag: 3557<br>Age: 10.35 months<br>Discrimination: 0.1489",
          "Tag: 3562<br>Age: 10.18 months<br>Discrimination: -0.1176",
          "Tag: 3564<br>Age: 10.18 months<br>Discrimination: 0.4074",
          "Tag: 3565<br>Age: 10.18 months<br>Discrimination: 0.1756",
          "Tag: 2809<br>Age: 10.05 months<br>Discrimination: -0.4545",
          "Tag: 2839<br>Age: 10.05 months<br>Discrimination: 0.0588"
         ],
         "jitter": 0.3,
         "marker": {
          "color": "blue",
          "symbol": "circle"
         },
         "name": "interactiontime_avg_familiar vs interactiontime_avg_stranger | Rbp4-LMO3 - F ",
         "pointpos": -1.8,
         "showlegend": false,
         "type": "box",
         "visible": false,
         "x": [
          "Rbp4-LMO3 - F ",
          "Rbp4-LMO3 - F ",
          "Rbp4-LMO3 - F ",
          "Rbp4-LMO3 - F ",
          "Rbp4-LMO3 - F ",
          "Rbp4-LMO3 - F ",
          "Rbp4-LMO3 - F ",
          "Rbp4-LMO3 - F ",
          "Rbp4-LMO3 - F ",
          "Rbp4-LMO3 - F ",
          "Rbp4-LMO3 - F ",
          "Rbp4-LMO3 - F ",
          "Rbp4-LMO3 - F "
         ],
         "y": [
          -0.07216494462748427,
          0.07692307692307691,
          0.10569105691056908,
          -0.0654205615442397,
          0.2526690389230127,
          0.35384615363786986,
          0.47368421052631576,
          0.14893616923494798,
          -0.11764705934256059,
          0.4074074088888889,
          0.17557251979371832,
          -0.45454545454545453,
          0.05882353065743941
         ]
        },
        {
         "boxpoints": "all",
         "hoverinfo": "text",
         "hovertext": [
          "Tag: 3427<br>Age: 5.65 months<br>Discrimination: 0.2844",
          "Tag: 3515<br>Age: 9.79 months<br>Discrimination: -1.0000",
          "Tag: 3518<br>Age: 9.79 months<br>Discrimination: 0.4211",
          "Tag: 3522<br>Age: 9.69 months<br>Discrimination: -0.4211",
          "Tag: 3523<br>Age: 9.69 months<br>Discrimination: 1.0000",
          "Tag: 3554<br>Age: 9.23 months<br>Discrimination: 0.0909",
          "Tag: 3559<br>Age: 9.10 months<br>Discrimination: -0.2308",
          "Tag: 3561<br>Age: 9.10 months<br>Discrimination: 0.0345",
          "Tag: 3548<br>Age: 8.97 months<br>Discrimination: 0.0323"
         ],
         "jitter": 0.3,
         "marker": {
          "color": "blue",
          "symbol": "circle"
         },
         "name": "interactiontime_avg_familiar vs interactiontime_avg_stranger | Rbp4-LMO3 - M",
         "pointpos": -1.8,
         "showlegend": false,
         "type": "box",
         "visible": false,
         "x": [
          "Rbp4-LMO3 - M",
          "Rbp4-LMO3 - M",
          "Rbp4-LMO3 - M",
          "Rbp4-LMO3 - M",
          "Rbp4-LMO3 - M",
          "Rbp4-LMO3 - M",
          "Rbp4-LMO3 - M",
          "Rbp4-LMO3 - M",
          "Rbp4-LMO3 - M"
         ],
         "y": [
          0.28440367300732267,
          -1,
          0.42105263232686985,
          -0.4210526308171745,
          1,
          0.09090909090909091,
          -0.23076923076923078,
          0.034482758495838296,
          0.032258065140478694
         ]
        },
        {
         "boxpoints": "all",
         "hoverinfo": "text",
         "hovertext": [
          "Tag: 3435<br>Age: 10.61 months<br>Discrimination: 0.5000"
         ],
         "jitter": 0.3,
         "marker": {
          "color": "blue",
          "symbol": "circle"
         },
         "name": "interactiontime_avg_familiar vs interactiontime_avg_stranger | Rbp4-LMO3 - M ",
         "pointpos": -1.8,
         "showlegend": false,
         "type": "box",
         "visible": false,
         "x": [
          "Rbp4-LMO3 - M "
         ],
         "y": [
          0.5000000000000001
         ]
        },
        {
         "boxpoints": "all",
         "hoverinfo": "text",
         "hovertext": [
          "Tag: 3429<br>Age: 9.59 months<br>Discrimination: 0.0137",
          "Tag: 3438<br>Age: 10.58 months<br>Discrimination: 0.1538",
          "Tag: 3445<br>Age: 9.86 months<br>Discrimination: -0.1864",
          "Tag: 3519<br>Age: 9.59 months<br>Discrimination: -0.2500",
          "Tag: 3521<br>Age: 8.94 months<br>Discrimination: -0.3469",
          "Tag: 3524<br>Age: 10.61 months<br>Discrimination: 0.0526",
          "Tag: 3553<br>Age: 10.61 months<br>Discrimination: 0.1111",
          "Tag: 3556<br>Age: 10.35 months<br>Discrimination: -0.1276",
          "Tag: 3558<br>Age: 10.35 months<br>Discrimination: -0.0370",
          "Tag: 3563<br>Age: 10.18 months<br>Discrimination: 0.4834",
          "Tag: 2808<br>Age: 10.05 months<br>Discrimination: -0.0714",
          "Tag: 2838<br>Age: 10.05 months<br>Discrimination: -0.0909"
         ],
         "jitter": 0.3,
         "marker": {
          "color": "red",
          "symbol": "circle"
         },
         "name": "interactiontime_avg_familiar vs interactiontime_avg_stranger | wt-LMO3 - F ",
         "pointpos": -1.8,
         "showlegend": false,
         "type": "box",
         "visible": false,
         "x": [
          "wt-LMO3 - F ",
          "wt-LMO3 - F ",
          "wt-LMO3 - F ",
          "wt-LMO3 - F ",
          "wt-LMO3 - F ",
          "wt-LMO3 - F ",
          "wt-LMO3 - F ",
          "wt-LMO3 - F ",
          "wt-LMO3 - F ",
          "wt-LMO3 - F ",
          "wt-LMO3 - F ",
          "wt-LMO3 - F "
         ],
         "y": [
          0.013698636892475153,
          0.1538461537376726,
          -0.186440672603658,
          -0.25,
          -0.3469387755102041,
          0.05263157894736842,
          0.1111111111111111,
          -0.12759643839251905,
          -0.03703703626886147,
          0.4834437077803606,
          -0.07142857066326529,
          -0.09090909090909088
         ]
        },
        {
         "boxpoints": "all",
         "hoverinfo": "text",
         "hovertext": [
          "Tag: 3428<br>Age: 5.65 months<br>Discrimination: 0.0623",
          "Tag: 3434<br>Age: 10.61 months<br>Discrimination: -0.3893",
          "Tag: 3436<br>Age: 10.61 months<br>Discrimination: 0.0029",
          "Tag: 3442<br>Age: 9.86 months<br>Discrimination: 0.0668",
          "Tag: 3514<br>Age: 9.79 months<br>Discrimination: -0.2661",
          "Tag: 3516<br>Age: 9.79 months<br>Discrimination: -0.1795",
          "Tag: 3517<br>Age: 9.79 months<br>Discrimination: 0.1120",
          "Tag: 3555<br>Age: 9.23 months<br>Discrimination: -0.3538",
          "Tag: 3560<br>Age: 9.10 months<br>Discrimination: 0.4545",
          "Tag: 3549<br>Age: 8.97 months<br>Discrimination: -0.0698",
          "Tag: 3550<br>Age: 8.97 months<br>Discrimination: 0.2593"
         ],
         "jitter": 0.3,
         "marker": {
          "color": "red",
          "symbol": "circle"
         },
         "name": "interactiontime_avg_familiar vs interactiontime_avg_stranger | wt-LMO3 - M",
         "pointpos": -1.8,
         "showlegend": false,
         "type": "box",
         "visible": false,
         "x": [
          "wt-LMO3 - M",
          "wt-LMO3 - M",
          "wt-LMO3 - M",
          "wt-LMO3 - M",
          "wt-LMO3 - M",
          "wt-LMO3 - M",
          "wt-LMO3 - M",
          "wt-LMO3 - M",
          "wt-LMO3 - M",
          "wt-LMO3 - M",
          "wt-LMO3 - M"
         ],
         "y": [
          0.06230847995442601,
          -0.3893129766750189,
          0.0028929605397960863,
          0.06683480588503765,
          -0.26605504494234494,
          -0.17951122359519942,
          0.11196911111044856,
          -0.3538461540052071,
          0.45454545454545453,
          -0.06976744186046512,
          0.25925925925925924
         ]
        },
        {
         "boxpoints": "all",
         "hoverinfo": "text",
         "hovertext": [
          "Tag: 3440<br>Age: 9.59 months<br>Discrimination: 0.1429",
          "Tag: 3437<br>Age: 10.58 months<br>Discrimination: 0.0000",
          "Tag: 3439<br>Age: 10.58 months<br>Discrimination: 0.1111",
          "Tag: 3520<br>Age: 9.59 months<br>Discrimination: 0.2000",
          "Tag: 3525<br>Age: 10.61 months<br>Discrimination: -0.3750",
          "Tag: 3551<br>Age: 10.61 months<br>Discrimination: -0.4667",
          "Tag: 3552<br>Age: 10.61 months<br>Discrimination: 0.6667",
          "Tag: 3557<br>Age: 10.35 months<br>Discrimination: 0.1429",
          "Tag: 3562<br>Age: 10.18 months<br>Discrimination: 0.0000",
          "Tag: 3564<br>Age: 10.18 months<br>Discrimination: 0.3333",
          "Tag: 3565<br>Age: 10.18 months<br>Discrimination: -0.4000",
          "Tag: 2809<br>Age: 10.05 months<br>Discrimination: 0.0000",
          "Tag: 2839<br>Age: 10.05 months<br>Discrimination: 0.3333"
         ],
         "jitter": 0.3,
         "marker": {
          "color": "blue",
          "symbol": "circle"
         },
         "name": "approach_sum_familiar vs approach_sum_stranger | Rbp4-LMO3 - F ",
         "pointpos": -1.8,
         "showlegend": false,
         "type": "box",
         "visible": false,
         "x": [
          "Rbp4-LMO3 - F ",
          "Rbp4-LMO3 - F ",
          "Rbp4-LMO3 - F ",
          "Rbp4-LMO3 - F ",
          "Rbp4-LMO3 - F ",
          "Rbp4-LMO3 - F ",
          "Rbp4-LMO3 - F ",
          "Rbp4-LMO3 - F ",
          "Rbp4-LMO3 - F ",
          "Rbp4-LMO3 - F ",
          "Rbp4-LMO3 - F ",
          "Rbp4-LMO3 - F ",
          "Rbp4-LMO3 - F "
         ],
         "y": [
          0.14285714285714285,
          0,
          0.1111111111111111,
          0.2,
          -0.375,
          -0.4666666666666667,
          0.6666666666666666,
          0.14285714285714285,
          0,
          0.3333333333333333,
          -0.4,
          0,
          0.3333333333333333
         ]
        },
        {
         "boxpoints": "all",
         "hoverinfo": "text",
         "hovertext": [
          "Tag: 3427<br>Age: 5.65 months<br>Discrimination: -0.0526",
          "Tag: 3515<br>Age: 9.79 months<br>Discrimination: -1.0000",
          "Tag: 3518<br>Age: 9.79 months<br>Discrimination: -0.5211",
          "Tag: 3522<br>Age: 9.69 months<br>Discrimination: -0.8333",
          "Tag: 3523<br>Age: 9.69 months<br>Discrimination: 1.0000",
          "Tag: 3554<br>Age: 9.23 months<br>Discrimination: 0.1111",
          "Tag: 3559<br>Age: 9.10 months<br>Discrimination: -0.6364",
          "Tag: 3561<br>Age: 9.10 months<br>Discrimination: 0.6471",
          "Tag: 3548<br>Age: 8.97 months<br>Discrimination: 0.0000"
         ],
         "jitter": 0.3,
         "marker": {
          "color": "blue",
          "symbol": "circle"
         },
         "name": "approach_sum_familiar vs approach_sum_stranger | Rbp4-LMO3 - M",
         "pointpos": -1.8,
         "showlegend": false,
         "type": "box",
         "visible": false,
         "x": [
          "Rbp4-LMO3 - M",
          "Rbp4-LMO3 - M",
          "Rbp4-LMO3 - M",
          "Rbp4-LMO3 - M",
          "Rbp4-LMO3 - M",
          "Rbp4-LMO3 - M",
          "Rbp4-LMO3 - M",
          "Rbp4-LMO3 - M",
          "Rbp4-LMO3 - M"
         ],
         "y": [
          -0.05263157894736842,
          -1,
          -0.5211267606062289,
          -0.8333333333333334,
          1,
          0.1111111111111111,
          -0.6363636363636364,
          0.6470588235294118,
          0
         ]
        },
        {
         "boxpoints": "all",
         "hoverinfo": "text",
         "hovertext": [
          "Tag: 3435<br>Age: 10.61 months<br>Discrimination: 0.0000"
         ],
         "jitter": 0.3,
         "marker": {
          "color": "blue",
          "symbol": "circle"
         },
         "name": "approach_sum_familiar vs approach_sum_stranger | Rbp4-LMO3 - M ",
         "pointpos": -1.8,
         "showlegend": false,
         "type": "box",
         "visible": false,
         "x": [
          "Rbp4-LMO3 - M "
         ],
         "y": [
          0
         ]
        },
        {
         "boxpoints": "all",
         "hoverinfo": "text",
         "hovertext": [
          "Tag: 3429<br>Age: 9.59 months<br>Discrimination: 0.5000",
          "Tag: 3438<br>Age: 10.58 months<br>Discrimination: 0.5714",
          "Tag: 3445<br>Age: 9.86 months<br>Discrimination: -0.0667",
          "Tag: 3519<br>Age: 9.59 months<br>Discrimination: 0.0000",
          "Tag: 3521<br>Age: 8.94 months<br>Discrimination: 0.0588",
          "Tag: 3524<br>Age: 10.61 months<br>Discrimination: 0.0000",
          "Tag: 3553<br>Age: 10.61 months<br>Discrimination: 0.7778",
          "Tag: 3556<br>Age: 10.35 months<br>Discrimination: 0.1765",
          "Tag: 3558<br>Age: 10.35 months<br>Discrimination: 0.2727",
          "Tag: 3563<br>Age: 10.18 months<br>Discrimination: -0.0769",
          "Tag: 2808<br>Age: 10.05 months<br>Discrimination: -0.1429",
          "Tag: 2838<br>Age: 10.05 months<br>Discrimination: -0.1111"
         ],
         "jitter": 0.3,
         "marker": {
          "color": "red",
          "symbol": "circle"
         },
         "name": "approach_sum_familiar vs approach_sum_stranger | wt-LMO3 - F ",
         "pointpos": -1.8,
         "showlegend": false,
         "type": "box",
         "visible": false,
         "x": [
          "wt-LMO3 - F ",
          "wt-LMO3 - F ",
          "wt-LMO3 - F ",
          "wt-LMO3 - F ",
          "wt-LMO3 - F ",
          "wt-LMO3 - F ",
          "wt-LMO3 - F ",
          "wt-LMO3 - F ",
          "wt-LMO3 - F ",
          "wt-LMO3 - F ",
          "wt-LMO3 - F ",
          "wt-LMO3 - F "
         ],
         "y": [
          0.5,
          0.5714285714285714,
          -0.06666666666666667,
          0,
          0.058823529411764705,
          0,
          0.7777777777777778,
          0.17647058823529413,
          0.2727272727272727,
          -0.07692307692307693,
          -0.14285714285714285,
          -0.1111111111111111
         ]
        },
        {
         "boxpoints": "all",
         "hoverinfo": "text",
         "hovertext": [
          "Tag: 3428<br>Age: 5.65 months<br>Discrimination: -0.0526",
          "Tag: 3434<br>Age: 10.61 months<br>Discrimination: 0.5294",
          "Tag: 3436<br>Age: 10.61 months<br>Discrimination: 0.1579",
          "Tag: 3442<br>Age: 9.86 months<br>Discrimination: -0.2857",
          "Tag: 3514<br>Age: 9.79 months<br>Discrimination: -0.4545",
          "Tag: 3516<br>Age: 9.79 months<br>Discrimination: 0.0667",
          "Tag: 3517<br>Age: 9.79 months<br>Discrimination: -0.2857",
          "Tag: 3555<br>Age: 9.23 months<br>Discrimination: -0.2727",
          "Tag: 3560<br>Age: 9.10 months<br>Discrimination: -0.1429",
          "Tag: 3549<br>Age: 8.97 months<br>Discrimination: 0.0000",
          "Tag: 3550<br>Age: 8.97 months<br>Discrimination: 0.6667"
         ],
         "jitter": 0.3,
         "marker": {
          "color": "red",
          "symbol": "circle"
         },
         "name": "approach_sum_familiar vs approach_sum_stranger | wt-LMO3 - M",
         "pointpos": -1.8,
         "showlegend": false,
         "type": "box",
         "visible": false,
         "x": [
          "wt-LMO3 - M",
          "wt-LMO3 - M",
          "wt-LMO3 - M",
          "wt-LMO3 - M",
          "wt-LMO3 - M",
          "wt-LMO3 - M",
          "wt-LMO3 - M",
          "wt-LMO3 - M",
          "wt-LMO3 - M",
          "wt-LMO3 - M",
          "wt-LMO3 - M"
         ],
         "y": [
          -0.05263157894736842,
          0.5294117647058824,
          0.15789473684210525,
          -0.2857142857142857,
          -0.45454545454545453,
          0.06666666666666667,
          -0.2857142857142857,
          -0.2727272727272727,
          -0.14285714285714285,
          0,
          0.6666666666666666
         ]
        }
       ],
       "layout": {
        "boxmode": "group",
        "template": {
         "data": {
          "bar": [
           {
            "error_x": {
             "color": "#2a3f5f"
            },
            "error_y": {
             "color": "#2a3f5f"
            },
            "marker": {
             "line": {
              "color": "#E5ECF6",
              "width": 0.5
             },
             "pattern": {
              "fillmode": "overlay",
              "size": 10,
              "solidity": 0.2
             }
            },
            "type": "bar"
           }
          ],
          "barpolar": [
           {
            "marker": {
             "line": {
              "color": "#E5ECF6",
              "width": 0.5
             },
             "pattern": {
              "fillmode": "overlay",
              "size": 10,
              "solidity": 0.2
             }
            },
            "type": "barpolar"
           }
          ],
          "carpet": [
           {
            "aaxis": {
             "endlinecolor": "#2a3f5f",
             "gridcolor": "white",
             "linecolor": "white",
             "minorgridcolor": "white",
             "startlinecolor": "#2a3f5f"
            },
            "baxis": {
             "endlinecolor": "#2a3f5f",
             "gridcolor": "white",
             "linecolor": "white",
             "minorgridcolor": "white",
             "startlinecolor": "#2a3f5f"
            },
            "type": "carpet"
           }
          ],
          "choropleth": [
           {
            "colorbar": {
             "outlinewidth": 0,
             "ticks": ""
            },
            "type": "choropleth"
           }
          ],
          "contour": [
           {
            "colorbar": {
             "outlinewidth": 0,
             "ticks": ""
            },
            "colorscale": [
             [
              0,
              "#0d0887"
             ],
             [
              0.1111111111111111,
              "#46039f"
             ],
             [
              0.2222222222222222,
              "#7201a8"
             ],
             [
              0.3333333333333333,
              "#9c179e"
             ],
             [
              0.4444444444444444,
              "#bd3786"
             ],
             [
              0.5555555555555556,
              "#d8576b"
             ],
             [
              0.6666666666666666,
              "#ed7953"
             ],
             [
              0.7777777777777778,
              "#fb9f3a"
             ],
             [
              0.8888888888888888,
              "#fdca26"
             ],
             [
              1,
              "#f0f921"
             ]
            ],
            "type": "contour"
           }
          ],
          "contourcarpet": [
           {
            "colorbar": {
             "outlinewidth": 0,
             "ticks": ""
            },
            "type": "contourcarpet"
           }
          ],
          "heatmap": [
           {
            "colorbar": {
             "outlinewidth": 0,
             "ticks": ""
            },
            "colorscale": [
             [
              0,
              "#0d0887"
             ],
             [
              0.1111111111111111,
              "#46039f"
             ],
             [
              0.2222222222222222,
              "#7201a8"
             ],
             [
              0.3333333333333333,
              "#9c179e"
             ],
             [
              0.4444444444444444,
              "#bd3786"
             ],
             [
              0.5555555555555556,
              "#d8576b"
             ],
             [
              0.6666666666666666,
              "#ed7953"
             ],
             [
              0.7777777777777778,
              "#fb9f3a"
             ],
             [
              0.8888888888888888,
              "#fdca26"
             ],
             [
              1,
              "#f0f921"
             ]
            ],
            "type": "heatmap"
           }
          ],
          "heatmapgl": [
           {
            "colorbar": {
             "outlinewidth": 0,
             "ticks": ""
            },
            "colorscale": [
             [
              0,
              "#0d0887"
             ],
             [
              0.1111111111111111,
              "#46039f"
             ],
             [
              0.2222222222222222,
              "#7201a8"
             ],
             [
              0.3333333333333333,
              "#9c179e"
             ],
             [
              0.4444444444444444,
              "#bd3786"
             ],
             [
              0.5555555555555556,
              "#d8576b"
             ],
             [
              0.6666666666666666,
              "#ed7953"
             ],
             [
              0.7777777777777778,
              "#fb9f3a"
             ],
             [
              0.8888888888888888,
              "#fdca26"
             ],
             [
              1,
              "#f0f921"
             ]
            ],
            "type": "heatmapgl"
           }
          ],
          "histogram": [
           {
            "marker": {
             "pattern": {
              "fillmode": "overlay",
              "size": 10,
              "solidity": 0.2
             }
            },
            "type": "histogram"
           }
          ],
          "histogram2d": [
           {
            "colorbar": {
             "outlinewidth": 0,
             "ticks": ""
            },
            "colorscale": [
             [
              0,
              "#0d0887"
             ],
             [
              0.1111111111111111,
              "#46039f"
             ],
             [
              0.2222222222222222,
              "#7201a8"
             ],
             [
              0.3333333333333333,
              "#9c179e"
             ],
             [
              0.4444444444444444,
              "#bd3786"
             ],
             [
              0.5555555555555556,
              "#d8576b"
             ],
             [
              0.6666666666666666,
              "#ed7953"
             ],
             [
              0.7777777777777778,
              "#fb9f3a"
             ],
             [
              0.8888888888888888,
              "#fdca26"
             ],
             [
              1,
              "#f0f921"
             ]
            ],
            "type": "histogram2d"
           }
          ],
          "histogram2dcontour": [
           {
            "colorbar": {
             "outlinewidth": 0,
             "ticks": ""
            },
            "colorscale": [
             [
              0,
              "#0d0887"
             ],
             [
              0.1111111111111111,
              "#46039f"
             ],
             [
              0.2222222222222222,
              "#7201a8"
             ],
             [
              0.3333333333333333,
              "#9c179e"
             ],
             [
              0.4444444444444444,
              "#bd3786"
             ],
             [
              0.5555555555555556,
              "#d8576b"
             ],
             [
              0.6666666666666666,
              "#ed7953"
             ],
             [
              0.7777777777777778,
              "#fb9f3a"
             ],
             [
              0.8888888888888888,
              "#fdca26"
             ],
             [
              1,
              "#f0f921"
             ]
            ],
            "type": "histogram2dcontour"
           }
          ],
          "mesh3d": [
           {
            "colorbar": {
             "outlinewidth": 0,
             "ticks": ""
            },
            "type": "mesh3d"
           }
          ],
          "parcoords": [
           {
            "line": {
             "colorbar": {
              "outlinewidth": 0,
              "ticks": ""
             }
            },
            "type": "parcoords"
           }
          ],
          "pie": [
           {
            "automargin": true,
            "type": "pie"
           }
          ],
          "scatter": [
           {
            "fillpattern": {
             "fillmode": "overlay",
             "size": 10,
             "solidity": 0.2
            },
            "type": "scatter"
           }
          ],
          "scatter3d": [
           {
            "line": {
             "colorbar": {
              "outlinewidth": 0,
              "ticks": ""
             }
            },
            "marker": {
             "colorbar": {
              "outlinewidth": 0,
              "ticks": ""
             }
            },
            "type": "scatter3d"
           }
          ],
          "scattercarpet": [
           {
            "marker": {
             "colorbar": {
              "outlinewidth": 0,
              "ticks": ""
             }
            },
            "type": "scattercarpet"
           }
          ],
          "scattergeo": [
           {
            "marker": {
             "colorbar": {
              "outlinewidth": 0,
              "ticks": ""
             }
            },
            "type": "scattergeo"
           }
          ],
          "scattergl": [
           {
            "marker": {
             "colorbar": {
              "outlinewidth": 0,
              "ticks": ""
             }
            },
            "type": "scattergl"
           }
          ],
          "scattermapbox": [
           {
            "marker": {
             "colorbar": {
              "outlinewidth": 0,
              "ticks": ""
             }
            },
            "type": "scattermapbox"
           }
          ],
          "scatterpolar": [
           {
            "marker": {
             "colorbar": {
              "outlinewidth": 0,
              "ticks": ""
             }
            },
            "type": "scatterpolar"
           }
          ],
          "scatterpolargl": [
           {
            "marker": {
             "colorbar": {
              "outlinewidth": 0,
              "ticks": ""
             }
            },
            "type": "scatterpolargl"
           }
          ],
          "scatterternary": [
           {
            "marker": {
             "colorbar": {
              "outlinewidth": 0,
              "ticks": ""
             }
            },
            "type": "scatterternary"
           }
          ],
          "surface": [
           {
            "colorbar": {
             "outlinewidth": 0,
             "ticks": ""
            },
            "colorscale": [
             [
              0,
              "#0d0887"
             ],
             [
              0.1111111111111111,
              "#46039f"
             ],
             [
              0.2222222222222222,
              "#7201a8"
             ],
             [
              0.3333333333333333,
              "#9c179e"
             ],
             [
              0.4444444444444444,
              "#bd3786"
             ],
             [
              0.5555555555555556,
              "#d8576b"
             ],
             [
              0.6666666666666666,
              "#ed7953"
             ],
             [
              0.7777777777777778,
              "#fb9f3a"
             ],
             [
              0.8888888888888888,
              "#fdca26"
             ],
             [
              1,
              "#f0f921"
             ]
            ],
            "type": "surface"
           }
          ],
          "table": [
           {
            "cells": {
             "fill": {
              "color": "#EBF0F8"
             },
             "line": {
              "color": "white"
             }
            },
            "header": {
             "fill": {
              "color": "#C8D4E3"
             },
             "line": {
              "color": "white"
             }
            },
            "type": "table"
           }
          ]
         },
         "layout": {
          "annotationdefaults": {
           "arrowcolor": "#2a3f5f",
           "arrowhead": 0,
           "arrowwidth": 1
          },
          "autotypenumbers": "strict",
          "coloraxis": {
           "colorbar": {
            "outlinewidth": 0,
            "ticks": ""
           }
          },
          "colorscale": {
           "diverging": [
            [
             0,
             "#8e0152"
            ],
            [
             0.1,
             "#c51b7d"
            ],
            [
             0.2,
             "#de77ae"
            ],
            [
             0.3,
             "#f1b6da"
            ],
            [
             0.4,
             "#fde0ef"
            ],
            [
             0.5,
             "#f7f7f7"
            ],
            [
             0.6,
             "#e6f5d0"
            ],
            [
             0.7,
             "#b8e186"
            ],
            [
             0.8,
             "#7fbc41"
            ],
            [
             0.9,
             "#4d9221"
            ],
            [
             1,
             "#276419"
            ]
           ],
           "sequential": [
            [
             0,
             "#0d0887"
            ],
            [
             0.1111111111111111,
             "#46039f"
            ],
            [
             0.2222222222222222,
             "#7201a8"
            ],
            [
             0.3333333333333333,
             "#9c179e"
            ],
            [
             0.4444444444444444,
             "#bd3786"
            ],
            [
             0.5555555555555556,
             "#d8576b"
            ],
            [
             0.6666666666666666,
             "#ed7953"
            ],
            [
             0.7777777777777778,
             "#fb9f3a"
            ],
            [
             0.8888888888888888,
             "#fdca26"
            ],
            [
             1,
             "#f0f921"
            ]
           ],
           "sequentialminus": [
            [
             0,
             "#0d0887"
            ],
            [
             0.1111111111111111,
             "#46039f"
            ],
            [
             0.2222222222222222,
             "#7201a8"
            ],
            [
             0.3333333333333333,
             "#9c179e"
            ],
            [
             0.4444444444444444,
             "#bd3786"
            ],
            [
             0.5555555555555556,
             "#d8576b"
            ],
            [
             0.6666666666666666,
             "#ed7953"
            ],
            [
             0.7777777777777778,
             "#fb9f3a"
            ],
            [
             0.8888888888888888,
             "#fdca26"
            ],
            [
             1,
             "#f0f921"
            ]
           ]
          },
          "colorway": [
           "#636efa",
           "#EF553B",
           "#00cc96",
           "#ab63fa",
           "#FFA15A",
           "#19d3f3",
           "#FF6692",
           "#B6E880",
           "#FF97FF",
           "#FECB52"
          ],
          "font": {
           "color": "#2a3f5f"
          },
          "geo": {
           "bgcolor": "white",
           "lakecolor": "white",
           "landcolor": "#E5ECF6",
           "showlakes": true,
           "showland": true,
           "subunitcolor": "white"
          },
          "hoverlabel": {
           "align": "left"
          },
          "hovermode": "closest",
          "mapbox": {
           "style": "light"
          },
          "paper_bgcolor": "white",
          "plot_bgcolor": "#E5ECF6",
          "polar": {
           "angularaxis": {
            "gridcolor": "white",
            "linecolor": "white",
            "ticks": ""
           },
           "bgcolor": "#E5ECF6",
           "radialaxis": {
            "gridcolor": "white",
            "linecolor": "white",
            "ticks": ""
           }
          },
          "scene": {
           "xaxis": {
            "backgroundcolor": "#E5ECF6",
            "gridcolor": "white",
            "gridwidth": 2,
            "linecolor": "white",
            "showbackground": true,
            "ticks": "",
            "zerolinecolor": "white"
           },
           "yaxis": {
            "backgroundcolor": "#E5ECF6",
            "gridcolor": "white",
            "gridwidth": 2,
            "linecolor": "white",
            "showbackground": true,
            "ticks": "",
            "zerolinecolor": "white"
           },
           "zaxis": {
            "backgroundcolor": "#E5ECF6",
            "gridcolor": "white",
            "gridwidth": 2,
            "linecolor": "white",
            "showbackground": true,
            "ticks": "",
            "zerolinecolor": "white"
           }
          },
          "shapedefaults": {
           "line": {
            "color": "#2a3f5f"
           }
          },
          "ternary": {
           "aaxis": {
            "gridcolor": "white",
            "linecolor": "white",
            "ticks": ""
           },
           "baxis": {
            "gridcolor": "white",
            "linecolor": "white",
            "ticks": ""
           },
           "bgcolor": "#E5ECF6",
           "caxis": {
            "gridcolor": "white",
            "linecolor": "white",
            "ticks": ""
           }
          },
          "title": {
           "x": 0.05
          },
          "xaxis": {
           "automargin": true,
           "gridcolor": "white",
           "linecolor": "white",
           "ticks": "",
           "title": {
            "standoff": 15
           },
           "zerolinecolor": "white",
           "zerolinewidth": 2
          },
          "yaxis": {
           "automargin": true,
           "gridcolor": "white",
           "linecolor": "white",
           "ticks": "",
           "title": {
            "standoff": 15
           },
           "zerolinecolor": "white",
           "zerolinewidth": 2
          }
         }
        },
        "title": {
         "text": "Sex-Dependent Discrimination Metric by Genotype"
        },
        "updatemenus": [
         {
          "buttons": [
           {
            "args": [
             {
              "visible": [
               true,
               true,
               true,
               true,
               true,
               false,
               false,
               false,
               false,
               false,
               false,
               false,
               false,
               false,
               false
              ]
             },
             {
              "title": "Sex-Dependent Discrimination Metric: interactiontime_sum_familiar vs interactiontime_sum_stranger"
             }
            ],
            "label": "interactiontime_sum_familiar vs interactiontime_sum_stranger",
            "method": "update"
           },
           {
            "args": [
             {
              "visible": [
               false,
               false,
               false,
               false,
               false,
               true,
               true,
               true,
               true,
               true,
               false,
               false,
               false,
               false,
               false
              ]
             },
             {
              "title": "Sex-Dependent Discrimination Metric: interactiontime_avg_familiar vs interactiontime_avg_stranger"
             }
            ],
            "label": "interactiontime_avg_familiar vs interactiontime_avg_stranger",
            "method": "update"
           },
           {
            "args": [
             {
              "visible": [
               false,
               false,
               false,
               false,
               false,
               false,
               false,
               false,
               false,
               false,
               true,
               true,
               true,
               true,
               true
              ]
             },
             {
              "title": "Sex-Dependent Discrimination Metric: approach_sum_familiar vs approach_sum_stranger"
             }
            ],
            "label": "approach_sum_familiar vs approach_sum_stranger",
            "method": "update"
           }
          ],
          "direction": "down",
          "showactive": true,
          "x": 0.1,
          "xanchor": "left",
          "y": 1.15,
          "yanchor": "top"
         }
        ],
        "xaxis": {
         "title": {
          "text": "Genotype - Sex"
         }
        },
        "yaxis": {
         "title": {
          "text": "Discrimination Metric"
         }
        }
       }
      }
     },
     "metadata": {},
     "output_type": "display_data"
    }
   ],
   "source": [
    "# Calculate the sex-dependent discrimination metric\n",
    "mouse_analysis.analysis.calculate_sex_dependent_discrimination_metric()\n",
    "\n",
    "# Perform t-tests on the sex-dependent discrimination index\n",
    "mouse_analysis.analysis.perform_sex_dependent_discrimination_ttest()\n",
    "\n",
    "mouse_analysis.analysis.discrimination_ttest_results\n",
    "\n",
    "# Show the interactive sex-dependent discrimination plot\n",
    "mouse_analysis.analysis.show_sex_dependent_discrimination_plot()"
   ]
  },
  {
   "cell_type": "code",
   "execution_count": 571,
   "id": "d5fa0048",
   "metadata": {},
   "outputs": [
    {
     "data": {
      "text/html": [
       "<div>\n",
       "<style scoped>\n",
       "    .dataframe tbody tr th:only-of-type {\n",
       "        vertical-align: middle;\n",
       "    }\n",
       "\n",
       "    .dataframe tbody tr th {\n",
       "        vertical-align: top;\n",
       "    }\n",
       "\n",
       "    .dataframe thead th {\n",
       "        text-align: right;\n",
       "    }\n",
       "</style>\n",
       "<table border=\"1\" class=\"dataframe\">\n",
       "  <thead>\n",
       "    <tr style=\"text-align: right;\">\n",
       "      <th></th>\n",
       "      <th>Metric Pair</th>\n",
       "      <th>Comparison</th>\n",
       "      <th>t-statistic</th>\n",
       "      <th>p-value</th>\n",
       "    </tr>\n",
       "  </thead>\n",
       "  <tbody>\n",
       "    <tr>\n",
       "      <th>0</th>\n",
       "      <td>interactiontime_sum_familiar vs interactiontim...</td>\n",
       "      <td>Rbp4-LMO3 vs wt-LMO3</td>\n",
       "      <td>0.064349</td>\n",
       "      <td>0.948984</td>\n",
       "    </tr>\n",
       "    <tr>\n",
       "      <th>1</th>\n",
       "      <td>interactiontime_sum_familiar vs interactiontim...</td>\n",
       "      <td>Rbp4-LMO3: Male vs Female</td>\n",
       "      <td>NaN</td>\n",
       "      <td>NaN</td>\n",
       "    </tr>\n",
       "    <tr>\n",
       "      <th>2</th>\n",
       "      <td>interactiontime_sum_familiar vs interactiontim...</td>\n",
       "      <td>wt-LMO3: Male vs Female</td>\n",
       "      <td>NaN</td>\n",
       "      <td>NaN</td>\n",
       "    </tr>\n",
       "    <tr>\n",
       "      <th>3</th>\n",
       "      <td>interactiontime_avg_familiar vs interactiontim...</td>\n",
       "      <td>Rbp4-LMO3 vs wt-LMO3</td>\n",
       "      <td>1.204622</td>\n",
       "      <td>0.234789</td>\n",
       "    </tr>\n",
       "    <tr>\n",
       "      <th>4</th>\n",
       "      <td>interactiontime_avg_familiar vs interactiontim...</td>\n",
       "      <td>Rbp4-LMO3: Male vs Female</td>\n",
       "      <td>NaN</td>\n",
       "      <td>NaN</td>\n",
       "    </tr>\n",
       "    <tr>\n",
       "      <th>5</th>\n",
       "      <td>interactiontime_avg_familiar vs interactiontim...</td>\n",
       "      <td>wt-LMO3: Male vs Female</td>\n",
       "      <td>NaN</td>\n",
       "      <td>NaN</td>\n",
       "    </tr>\n",
       "    <tr>\n",
       "      <th>6</th>\n",
       "      <td>approach_sum_familiar vs approach_sum_stranger</td>\n",
       "      <td>Rbp4-LMO3 vs wt-LMO3</td>\n",
       "      <td>-0.888604</td>\n",
       "      <td>0.379048</td>\n",
       "    </tr>\n",
       "    <tr>\n",
       "      <th>7</th>\n",
       "      <td>approach_sum_familiar vs approach_sum_stranger</td>\n",
       "      <td>Rbp4-LMO3: Male vs Female</td>\n",
       "      <td>NaN</td>\n",
       "      <td>NaN</td>\n",
       "    </tr>\n",
       "    <tr>\n",
       "      <th>8</th>\n",
       "      <td>approach_sum_familiar vs approach_sum_stranger</td>\n",
       "      <td>wt-LMO3: Male vs Female</td>\n",
       "      <td>NaN</td>\n",
       "      <td>NaN</td>\n",
       "    </tr>\n",
       "  </tbody>\n",
       "</table>\n",
       "</div>"
      ],
      "text/plain": [
       "                                         Metric Pair  \\\n",
       "0  interactiontime_sum_familiar vs interactiontim...   \n",
       "1  interactiontime_sum_familiar vs interactiontim...   \n",
       "2  interactiontime_sum_familiar vs interactiontim...   \n",
       "3  interactiontime_avg_familiar vs interactiontim...   \n",
       "4  interactiontime_avg_familiar vs interactiontim...   \n",
       "5  interactiontime_avg_familiar vs interactiontim...   \n",
       "6     approach_sum_familiar vs approach_sum_stranger   \n",
       "7     approach_sum_familiar vs approach_sum_stranger   \n",
       "8     approach_sum_familiar vs approach_sum_stranger   \n",
       "\n",
       "                  Comparison  t-statistic   p-value  \n",
       "0       Rbp4-LMO3 vs wt-LMO3     0.064349  0.948984  \n",
       "1  Rbp4-LMO3: Male vs Female          NaN       NaN  \n",
       "2    wt-LMO3: Male vs Female          NaN       NaN  \n",
       "3       Rbp4-LMO3 vs wt-LMO3     1.204622  0.234789  \n",
       "4  Rbp4-LMO3: Male vs Female          NaN       NaN  \n",
       "5    wt-LMO3: Male vs Female          NaN       NaN  \n",
       "6       Rbp4-LMO3 vs wt-LMO3    -0.888604  0.379048  \n",
       "7  Rbp4-LMO3: Male vs Female          NaN       NaN  \n",
       "8    wt-LMO3: Male vs Female          NaN       NaN  "
      ]
     },
     "execution_count": 571,
     "metadata": {},
     "output_type": "execute_result"
    }
   ],
   "source": [
    "mouse_analysis.analysis.discrimination_ttest_results"
   ]
  },
  {
   "cell_type": "code",
   "execution_count": null,
   "id": "3c5e3d20",
   "metadata": {},
   "outputs": [],
   "source": []
  },
  {
   "cell_type": "code",
   "execution_count": 572,
   "id": "f2e172ae",
   "metadata": {},
   "outputs": [
    {
     "data": {
      "application/vnd.plotly.v1+json": {
       "config": {
        "plotlyServerURL": "https://plot.ly"
       },
       "data": [
        {
         "hoverinfo": "text",
         "hovertext": [
          "Tag: 3427<br>Age: 5.65 months<br>Familiar: 26.00<br>Stranger: 42.00",
          "Tag: 3515<br>Age: 9.79 months<br>Familiar: 10.00<br>Stranger: 0.00",
          "Tag: 3518<br>Age: 9.79 months<br>Familiar: 22.00<br>Stranger: 17.00",
          "Tag: 3522<br>Age: 9.69 months<br>Familiar: 27.00<br>Stranger: 1.00",
          "Tag: 3523<br>Age: 9.69 months<br>Familiar: 0.00<br>Stranger: 15.00",
          "Tag: 3554<br>Age: 9.23 months<br>Familiar: 10.00<br>Stranger: 15.00",
          "Tag: 3559<br>Age: 9.10 months<br>Familiar: 36.00<br>Stranger: 5.00",
          "Tag: 3561<br>Age: 9.10 months<br>Familiar: 8.00<br>Stranger: 40.00",
          "Tag: 3548<br>Age: 8.97 months<br>Familiar: 15.00<br>Stranger: 16.00"
         ],
         "marker": {
          "color": "blue",
          "size": 10
         },
         "mode": "markers",
         "name": "interactiontime_sum_familiar vs interactiontime_sum_stranger | Rbp4-LMO3",
         "showlegend": true,
         "type": "scatter",
         "visible": true,
         "x": [
          26,
          10,
          22,
          27,
          0,
          10,
          36,
          8,
          15
         ],
         "xaxis": "x",
         "y": [
          42,
          0,
          17,
          1,
          15,
          15,
          5,
          40,
          16
         ],
         "yaxis": "y"
        },
        {
         "hoverinfo": "text",
         "hovertext": [
          "Tag: 3428<br>Age: 5.65 months<br>Familiar: 51.00<br>Stranger: 52.00",
          "Tag: 3434<br>Age: 10.61 months<br>Familiar: 42.00<br>Stranger: 60.00",
          "Tag: 3436<br>Age: 10.61 months<br>Familiar: 47.00<br>Stranger: 65.00",
          "Tag: 3442<br>Age: 9.86 months<br>Familiar: 74.00<br>Stranger: 47.00",
          "Tag: 3514<br>Age: 9.79 months<br>Familiar: 23.00<br>Stranger: 5.00",
          "Tag: 3516<br>Age: 9.79 months<br>Familiar: 20.00<br>Stranger: 16.00",
          "Tag: 3517<br>Age: 9.79 months<br>Familiar: 23.00<br>Stranger: 16.00",
          "Tag: 3555<br>Age: 9.23 months<br>Familiar: 55.00<br>Stranger: 15.00",
          "Tag: 3560<br>Age: 9.10 months<br>Familiar: 9.00<br>Stranger: 18.00",
          "Tag: 3549<br>Age: 8.97 months<br>Familiar: 23.00<br>Stranger: 20.00",
          "Tag: 3550<br>Age: 8.97 months<br>Familiar: 4.00<br>Stranger: 34.00"
         ],
         "marker": {
          "color": "red",
          "size": 10
         },
         "mode": "markers",
         "name": "interactiontime_sum_familiar vs interactiontime_sum_stranger | wt-LMO3",
         "showlegend": true,
         "type": "scatter",
         "visible": true,
         "x": [
          51,
          42,
          47,
          74,
          23,
          20,
          23,
          55,
          9,
          23,
          4
         ],
         "xaxis": "x",
         "y": [
          52,
          60,
          65,
          47,
          5,
          16,
          16,
          15,
          18,
          20,
          34
         ],
         "yaxis": "y"
        },
        {
         "line": {
          "color": "black",
          "dash": "dash"
         },
         "mode": "lines",
         "name": "Equal Line",
         "showlegend": false,
         "type": "scatter",
         "visible": true,
         "x": [
          0,
          74
         ],
         "xaxis": "x",
         "y": [
          0,
          74
         ],
         "yaxis": "y"
        },
        {
         "line": {
          "color": "black",
          "dash": "dash"
         },
         "mode": "lines",
         "name": "Equal Line",
         "showlegend": false,
         "type": "scatter",
         "visible": true,
         "x": [
          0,
          74
         ],
         "xaxis": "x2",
         "y": [
          0,
          74
         ],
         "yaxis": "y2"
        },
        {
         "hoverinfo": "text",
         "hovertext": [
          "Tag: 3427<br>Age: 5.65 months<br>Familiar: 2.60<br>Stranger: 4.67",
          "Tag: 3515<br>Age: 9.79 months<br>Familiar: 2.00<br>Stranger: 0.00",
          "Tag: 3518<br>Age: 9.79 months<br>Familiar: 2.44<br>Stranger: 6.00",
          "Tag: 3522<br>Age: 9.69 months<br>Familiar: 2.45<br>Stranger: 1.00",
          "Tag: 3523<br>Age: 9.69 months<br>Familiar: 0.00<br>Stranger: 3.00",
          "Tag: 3554<br>Age: 9.23 months<br>Familiar: 2.50<br>Stranger: 3.00",
          "Tag: 3559<br>Age: 9.10 months<br>Familiar: 4.00<br>Stranger: 2.50",
          "Tag: 3561<br>Age: 9.10 months<br>Familiar: 2.67<br>Stranger: 2.86",
          "Tag: 3548<br>Age: 8.97 months<br>Familiar: 2.50<br>Stranger: 2.67"
         ],
         "marker": {
          "color": "blue",
          "size": 10
         },
         "mode": "markers",
         "name": "interactiontime_avg_familiar vs interactiontime_avg_stranger | Rbp4-LMO3",
         "showlegend": true,
         "type": "scatter",
         "visible": false,
         "x": [
          2.6,
          2,
          2.44444444,
          2.45454545,
          0,
          2.5,
          4,
          2.66666667,
          2.5
         ],
         "xaxis": "x",
         "y": [
          4.6666667,
          0,
          6,
          1,
          3,
          3,
          2.5,
          2.85714286,
          2.66666667
         ],
         "yaxis": "y"
        },
        {
         "hoverinfo": "text",
         "hovertext": [
          "Tag: 3428<br>Age: 5.65 months<br>Familiar: 5.10<br>Stranger: 5.78",
          "Tag: 3434<br>Age: 10.61 months<br>Familiar: 10.50<br>Stranger: 4.62",
          "Tag: 3436<br>Age: 10.61 months<br>Familiar: 5.88<br>Stranger: 5.91",
          "Tag: 3442<br>Age: 9.86 months<br>Familiar: 8.22<br>Stranger: 9.40",
          "Tag: 3514<br>Age: 9.79 months<br>Familiar: 2.88<br>Stranger: 1.67",
          "Tag: 3516<br>Age: 9.79 months<br>Familiar: 2.88<br>Stranger: 2.00",
          "Tag: 3517<br>Age: 9.79 months<br>Familiar: 2.56<br>Stranger: 3.20",
          "Tag: 3555<br>Age: 9.23 months<br>Familiar: 7.86<br>Stranger: 3.75",
          "Tag: 3560<br>Age: 9.10 months<br>Familiar: 2.25<br>Stranger: 6.00",
          "Tag: 3549<br>Age: 8.97 months<br>Familiar: 2.88<br>Stranger: 2.50",
          "Tag: 3550<br>Age: 8.97 months<br>Familiar: 2.00<br>Stranger: 3.40"
         ],
         "marker": {
          "color": "red",
          "size": 10
         },
         "mode": "markers",
         "name": "interactiontime_avg_familiar vs interactiontime_avg_stranger | wt-LMO3",
         "showlegend": true,
         "type": "scatter",
         "visible": false,
         "x": [
          5.1,
          10.5,
          5.875,
          8.2222222,
          2.875,
          2.87514286,
          2.55555556,
          7.85714286,
          2.25,
          2.875,
          2
         ],
         "xaxis": "x",
         "y": [
          5.7777778,
          4.61538462,
          5.90909091,
          9.4,
          1.66666667,
          2,
          3.2,
          3.75,
          6,
          2.5,
          3.4
         ],
         "yaxis": "y"
        },
        {
         "line": {
          "color": "black",
          "dash": "dash"
         },
         "mode": "lines",
         "name": "Equal Line",
         "showlegend": false,
         "type": "scatter",
         "visible": false,
         "x": [
          0,
          74
         ],
         "xaxis": "x",
         "y": [
          0,
          74
         ],
         "yaxis": "y"
        },
        {
         "line": {
          "color": "black",
          "dash": "dash"
         },
         "mode": "lines",
         "name": "Equal Line",
         "showlegend": false,
         "type": "scatter",
         "visible": false,
         "x": [
          0,
          74
         ],
         "xaxis": "x2",
         "y": [
          0,
          74
         ],
         "yaxis": "y2"
        },
        {
         "hoverinfo": "text",
         "hovertext": [
          "Tag: 3427<br>Age: 5.65 months<br>Familiar: 10.00<br>Stranger: 9.00",
          "Tag: 3515<br>Age: 9.79 months<br>Familiar: 5.00<br>Stranger: 0.00",
          "Tag: 3518<br>Age: 9.79 months<br>Familiar: 9.00<br>Stranger: 2.83",
          "Tag: 3522<br>Age: 9.69 months<br>Familiar: 11.00<br>Stranger: 1.00",
          "Tag: 3523<br>Age: 9.69 months<br>Familiar: 0.00<br>Stranger: 5.00",
          "Tag: 3554<br>Age: 9.23 months<br>Familiar: 4.00<br>Stranger: 5.00",
          "Tag: 3559<br>Age: 9.10 months<br>Familiar: 9.00<br>Stranger: 2.00",
          "Tag: 3561<br>Age: 9.10 months<br>Familiar: 3.00<br>Stranger: 14.00",
          "Tag: 3548<br>Age: 8.97 months<br>Familiar: 6.00<br>Stranger: 6.00"
         ],
         "marker": {
          "color": "blue",
          "size": 10
         },
         "mode": "markers",
         "name": "approach_sum_familiar vs approach_sum_stranger | Rbp4-LMO3",
         "showlegend": true,
         "type": "scatter",
         "visible": false,
         "x": [
          10,
          5,
          9,
          11,
          0,
          4,
          9,
          3,
          6
         ],
         "xaxis": "x",
         "y": [
          9,
          0,
          2.833333333,
          1,
          5,
          5,
          2,
          14,
          6
         ],
         "yaxis": "y"
        },
        {
         "hoverinfo": "text",
         "hovertext": [
          "Tag: 3428<br>Age: 5.65 months<br>Familiar: 10.00<br>Stranger: 9.00",
          "Tag: 3434<br>Age: 10.61 months<br>Familiar: 4.00<br>Stranger: 13.00",
          "Tag: 3436<br>Age: 10.61 months<br>Familiar: 8.00<br>Stranger: 11.00",
          "Tag: 3442<br>Age: 9.86 months<br>Familiar: 9.00<br>Stranger: 5.00",
          "Tag: 3514<br>Age: 9.79 months<br>Familiar: 8.00<br>Stranger: 3.00",
          "Tag: 3516<br>Age: 9.79 months<br>Familiar: 7.00<br>Stranger: 8.00",
          "Tag: 3517<br>Age: 9.79 months<br>Familiar: 9.00<br>Stranger: 5.00",
          "Tag: 3555<br>Age: 9.23 months<br>Familiar: 7.00<br>Stranger: 4.00",
          "Tag: 3560<br>Age: 9.10 months<br>Familiar: 4.00<br>Stranger: 3.00",
          "Tag: 3549<br>Age: 8.97 months<br>Familiar: 8.00<br>Stranger: 8.00",
          "Tag: 3550<br>Age: 8.97 months<br>Familiar: 2.00<br>Stranger: 10.00"
         ],
         "marker": {
          "color": "red",
          "size": 10
         },
         "mode": "markers",
         "name": "approach_sum_familiar vs approach_sum_stranger | wt-LMO3",
         "showlegend": true,
         "type": "scatter",
         "visible": false,
         "x": [
          10,
          4,
          8,
          9,
          8,
          7,
          9,
          7,
          4,
          8,
          2
         ],
         "xaxis": "x",
         "y": [
          9,
          13,
          11,
          5,
          3,
          8,
          5,
          4,
          3,
          8,
          10
         ],
         "yaxis": "y"
        },
        {
         "line": {
          "color": "black",
          "dash": "dash"
         },
         "mode": "lines",
         "name": "Equal Line",
         "showlegend": false,
         "type": "scatter",
         "visible": false,
         "x": [
          0,
          74
         ],
         "xaxis": "x",
         "y": [
          0,
          74
         ],
         "yaxis": "y"
        },
        {
         "line": {
          "color": "black",
          "dash": "dash"
         },
         "mode": "lines",
         "name": "Equal Line",
         "showlegend": false,
         "type": "scatter",
         "visible": false,
         "x": [
          0,
          74
         ],
         "xaxis": "x2",
         "y": [
          0,
          74
         ],
         "yaxis": "y2"
        }
       ],
       "layout": {
        "annotations": [
         {
          "font": {
           "size": 16
          },
          "showarrow": false,
          "text": "Male",
          "x": 0.225,
          "xanchor": "center",
          "xref": "paper",
          "y": 1,
          "yanchor": "bottom",
          "yref": "paper"
         },
         {
          "font": {
           "size": 16
          },
          "showarrow": false,
          "text": "Female",
          "x": 0.775,
          "xanchor": "center",
          "xref": "paper",
          "y": 1,
          "yanchor": "bottom",
          "yref": "paper"
         }
        ],
        "height": 600,
        "template": {
         "data": {
          "bar": [
           {
            "error_x": {
             "color": "#2a3f5f"
            },
            "error_y": {
             "color": "#2a3f5f"
            },
            "marker": {
             "line": {
              "color": "#E5ECF6",
              "width": 0.5
             },
             "pattern": {
              "fillmode": "overlay",
              "size": 10,
              "solidity": 0.2
             }
            },
            "type": "bar"
           }
          ],
          "barpolar": [
           {
            "marker": {
             "line": {
              "color": "#E5ECF6",
              "width": 0.5
             },
             "pattern": {
              "fillmode": "overlay",
              "size": 10,
              "solidity": 0.2
             }
            },
            "type": "barpolar"
           }
          ],
          "carpet": [
           {
            "aaxis": {
             "endlinecolor": "#2a3f5f",
             "gridcolor": "white",
             "linecolor": "white",
             "minorgridcolor": "white",
             "startlinecolor": "#2a3f5f"
            },
            "baxis": {
             "endlinecolor": "#2a3f5f",
             "gridcolor": "white",
             "linecolor": "white",
             "minorgridcolor": "white",
             "startlinecolor": "#2a3f5f"
            },
            "type": "carpet"
           }
          ],
          "choropleth": [
           {
            "colorbar": {
             "outlinewidth": 0,
             "ticks": ""
            },
            "type": "choropleth"
           }
          ],
          "contour": [
           {
            "colorbar": {
             "outlinewidth": 0,
             "ticks": ""
            },
            "colorscale": [
             [
              0,
              "#0d0887"
             ],
             [
              0.1111111111111111,
              "#46039f"
             ],
             [
              0.2222222222222222,
              "#7201a8"
             ],
             [
              0.3333333333333333,
              "#9c179e"
             ],
             [
              0.4444444444444444,
              "#bd3786"
             ],
             [
              0.5555555555555556,
              "#d8576b"
             ],
             [
              0.6666666666666666,
              "#ed7953"
             ],
             [
              0.7777777777777778,
              "#fb9f3a"
             ],
             [
              0.8888888888888888,
              "#fdca26"
             ],
             [
              1,
              "#f0f921"
             ]
            ],
            "type": "contour"
           }
          ],
          "contourcarpet": [
           {
            "colorbar": {
             "outlinewidth": 0,
             "ticks": ""
            },
            "type": "contourcarpet"
           }
          ],
          "heatmap": [
           {
            "colorbar": {
             "outlinewidth": 0,
             "ticks": ""
            },
            "colorscale": [
             [
              0,
              "#0d0887"
             ],
             [
              0.1111111111111111,
              "#46039f"
             ],
             [
              0.2222222222222222,
              "#7201a8"
             ],
             [
              0.3333333333333333,
              "#9c179e"
             ],
             [
              0.4444444444444444,
              "#bd3786"
             ],
             [
              0.5555555555555556,
              "#d8576b"
             ],
             [
              0.6666666666666666,
              "#ed7953"
             ],
             [
              0.7777777777777778,
              "#fb9f3a"
             ],
             [
              0.8888888888888888,
              "#fdca26"
             ],
             [
              1,
              "#f0f921"
             ]
            ],
            "type": "heatmap"
           }
          ],
          "heatmapgl": [
           {
            "colorbar": {
             "outlinewidth": 0,
             "ticks": ""
            },
            "colorscale": [
             [
              0,
              "#0d0887"
             ],
             [
              0.1111111111111111,
              "#46039f"
             ],
             [
              0.2222222222222222,
              "#7201a8"
             ],
             [
              0.3333333333333333,
              "#9c179e"
             ],
             [
              0.4444444444444444,
              "#bd3786"
             ],
             [
              0.5555555555555556,
              "#d8576b"
             ],
             [
              0.6666666666666666,
              "#ed7953"
             ],
             [
              0.7777777777777778,
              "#fb9f3a"
             ],
             [
              0.8888888888888888,
              "#fdca26"
             ],
             [
              1,
              "#f0f921"
             ]
            ],
            "type": "heatmapgl"
           }
          ],
          "histogram": [
           {
            "marker": {
             "pattern": {
              "fillmode": "overlay",
              "size": 10,
              "solidity": 0.2
             }
            },
            "type": "histogram"
           }
          ],
          "histogram2d": [
           {
            "colorbar": {
             "outlinewidth": 0,
             "ticks": ""
            },
            "colorscale": [
             [
              0,
              "#0d0887"
             ],
             [
              0.1111111111111111,
              "#46039f"
             ],
             [
              0.2222222222222222,
              "#7201a8"
             ],
             [
              0.3333333333333333,
              "#9c179e"
             ],
             [
              0.4444444444444444,
              "#bd3786"
             ],
             [
              0.5555555555555556,
              "#d8576b"
             ],
             [
              0.6666666666666666,
              "#ed7953"
             ],
             [
              0.7777777777777778,
              "#fb9f3a"
             ],
             [
              0.8888888888888888,
              "#fdca26"
             ],
             [
              1,
              "#f0f921"
             ]
            ],
            "type": "histogram2d"
           }
          ],
          "histogram2dcontour": [
           {
            "colorbar": {
             "outlinewidth": 0,
             "ticks": ""
            },
            "colorscale": [
             [
              0,
              "#0d0887"
             ],
             [
              0.1111111111111111,
              "#46039f"
             ],
             [
              0.2222222222222222,
              "#7201a8"
             ],
             [
              0.3333333333333333,
              "#9c179e"
             ],
             [
              0.4444444444444444,
              "#bd3786"
             ],
             [
              0.5555555555555556,
              "#d8576b"
             ],
             [
              0.6666666666666666,
              "#ed7953"
             ],
             [
              0.7777777777777778,
              "#fb9f3a"
             ],
             [
              0.8888888888888888,
              "#fdca26"
             ],
             [
              1,
              "#f0f921"
             ]
            ],
            "type": "histogram2dcontour"
           }
          ],
          "mesh3d": [
           {
            "colorbar": {
             "outlinewidth": 0,
             "ticks": ""
            },
            "type": "mesh3d"
           }
          ],
          "parcoords": [
           {
            "line": {
             "colorbar": {
              "outlinewidth": 0,
              "ticks": ""
             }
            },
            "type": "parcoords"
           }
          ],
          "pie": [
           {
            "automargin": true,
            "type": "pie"
           }
          ],
          "scatter": [
           {
            "fillpattern": {
             "fillmode": "overlay",
             "size": 10,
             "solidity": 0.2
            },
            "type": "scatter"
           }
          ],
          "scatter3d": [
           {
            "line": {
             "colorbar": {
              "outlinewidth": 0,
              "ticks": ""
             }
            },
            "marker": {
             "colorbar": {
              "outlinewidth": 0,
              "ticks": ""
             }
            },
            "type": "scatter3d"
           }
          ],
          "scattercarpet": [
           {
            "marker": {
             "colorbar": {
              "outlinewidth": 0,
              "ticks": ""
             }
            },
            "type": "scattercarpet"
           }
          ],
          "scattergeo": [
           {
            "marker": {
             "colorbar": {
              "outlinewidth": 0,
              "ticks": ""
             }
            },
            "type": "scattergeo"
           }
          ],
          "scattergl": [
           {
            "marker": {
             "colorbar": {
              "outlinewidth": 0,
              "ticks": ""
             }
            },
            "type": "scattergl"
           }
          ],
          "scattermapbox": [
           {
            "marker": {
             "colorbar": {
              "outlinewidth": 0,
              "ticks": ""
             }
            },
            "type": "scattermapbox"
           }
          ],
          "scatterpolar": [
           {
            "marker": {
             "colorbar": {
              "outlinewidth": 0,
              "ticks": ""
             }
            },
            "type": "scatterpolar"
           }
          ],
          "scatterpolargl": [
           {
            "marker": {
             "colorbar": {
              "outlinewidth": 0,
              "ticks": ""
             }
            },
            "type": "scatterpolargl"
           }
          ],
          "scatterternary": [
           {
            "marker": {
             "colorbar": {
              "outlinewidth": 0,
              "ticks": ""
             }
            },
            "type": "scatterternary"
           }
          ],
          "surface": [
           {
            "colorbar": {
             "outlinewidth": 0,
             "ticks": ""
            },
            "colorscale": [
             [
              0,
              "#0d0887"
             ],
             [
              0.1111111111111111,
              "#46039f"
             ],
             [
              0.2222222222222222,
              "#7201a8"
             ],
             [
              0.3333333333333333,
              "#9c179e"
             ],
             [
              0.4444444444444444,
              "#bd3786"
             ],
             [
              0.5555555555555556,
              "#d8576b"
             ],
             [
              0.6666666666666666,
              "#ed7953"
             ],
             [
              0.7777777777777778,
              "#fb9f3a"
             ],
             [
              0.8888888888888888,
              "#fdca26"
             ],
             [
              1,
              "#f0f921"
             ]
            ],
            "type": "surface"
           }
          ],
          "table": [
           {
            "cells": {
             "fill": {
              "color": "#EBF0F8"
             },
             "line": {
              "color": "white"
             }
            },
            "header": {
             "fill": {
              "color": "#C8D4E3"
             },
             "line": {
              "color": "white"
             }
            },
            "type": "table"
           }
          ]
         },
         "layout": {
          "annotationdefaults": {
           "arrowcolor": "#2a3f5f",
           "arrowhead": 0,
           "arrowwidth": 1
          },
          "autotypenumbers": "strict",
          "coloraxis": {
           "colorbar": {
            "outlinewidth": 0,
            "ticks": ""
           }
          },
          "colorscale": {
           "diverging": [
            [
             0,
             "#8e0152"
            ],
            [
             0.1,
             "#c51b7d"
            ],
            [
             0.2,
             "#de77ae"
            ],
            [
             0.3,
             "#f1b6da"
            ],
            [
             0.4,
             "#fde0ef"
            ],
            [
             0.5,
             "#f7f7f7"
            ],
            [
             0.6,
             "#e6f5d0"
            ],
            [
             0.7,
             "#b8e186"
            ],
            [
             0.8,
             "#7fbc41"
            ],
            [
             0.9,
             "#4d9221"
            ],
            [
             1,
             "#276419"
            ]
           ],
           "sequential": [
            [
             0,
             "#0d0887"
            ],
            [
             0.1111111111111111,
             "#46039f"
            ],
            [
             0.2222222222222222,
             "#7201a8"
            ],
            [
             0.3333333333333333,
             "#9c179e"
            ],
            [
             0.4444444444444444,
             "#bd3786"
            ],
            [
             0.5555555555555556,
             "#d8576b"
            ],
            [
             0.6666666666666666,
             "#ed7953"
            ],
            [
             0.7777777777777778,
             "#fb9f3a"
            ],
            [
             0.8888888888888888,
             "#fdca26"
            ],
            [
             1,
             "#f0f921"
            ]
           ],
           "sequentialminus": [
            [
             0,
             "#0d0887"
            ],
            [
             0.1111111111111111,
             "#46039f"
            ],
            [
             0.2222222222222222,
             "#7201a8"
            ],
            [
             0.3333333333333333,
             "#9c179e"
            ],
            [
             0.4444444444444444,
             "#bd3786"
            ],
            [
             0.5555555555555556,
             "#d8576b"
            ],
            [
             0.6666666666666666,
             "#ed7953"
            ],
            [
             0.7777777777777778,
             "#fb9f3a"
            ],
            [
             0.8888888888888888,
             "#fdca26"
            ],
            [
             1,
             "#f0f921"
            ]
           ]
          },
          "colorway": [
           "#636efa",
           "#EF553B",
           "#00cc96",
           "#ab63fa",
           "#FFA15A",
           "#19d3f3",
           "#FF6692",
           "#B6E880",
           "#FF97FF",
           "#FECB52"
          ],
          "font": {
           "color": "#2a3f5f"
          },
          "geo": {
           "bgcolor": "white",
           "lakecolor": "white",
           "landcolor": "#E5ECF6",
           "showlakes": true,
           "showland": true,
           "subunitcolor": "white"
          },
          "hoverlabel": {
           "align": "left"
          },
          "hovermode": "closest",
          "mapbox": {
           "style": "light"
          },
          "paper_bgcolor": "white",
          "plot_bgcolor": "#E5ECF6",
          "polar": {
           "angularaxis": {
            "gridcolor": "white",
            "linecolor": "white",
            "ticks": ""
           },
           "bgcolor": "#E5ECF6",
           "radialaxis": {
            "gridcolor": "white",
            "linecolor": "white",
            "ticks": ""
           }
          },
          "scene": {
           "xaxis": {
            "backgroundcolor": "#E5ECF6",
            "gridcolor": "white",
            "gridwidth": 2,
            "linecolor": "white",
            "showbackground": true,
            "ticks": "",
            "zerolinecolor": "white"
           },
           "yaxis": {
            "backgroundcolor": "#E5ECF6",
            "gridcolor": "white",
            "gridwidth": 2,
            "linecolor": "white",
            "showbackground": true,
            "ticks": "",
            "zerolinecolor": "white"
           },
           "zaxis": {
            "backgroundcolor": "#E5ECF6",
            "gridcolor": "white",
            "gridwidth": 2,
            "linecolor": "white",
            "showbackground": true,
            "ticks": "",
            "zerolinecolor": "white"
           }
          },
          "shapedefaults": {
           "line": {
            "color": "#2a3f5f"
           }
          },
          "ternary": {
           "aaxis": {
            "gridcolor": "white",
            "linecolor": "white",
            "ticks": ""
           },
           "baxis": {
            "gridcolor": "white",
            "linecolor": "white",
            "ticks": ""
           },
           "bgcolor": "#E5ECF6",
           "caxis": {
            "gridcolor": "white",
            "linecolor": "white",
            "ticks": ""
           }
          },
          "title": {
           "x": 0.05
          },
          "xaxis": {
           "automargin": true,
           "gridcolor": "white",
           "linecolor": "white",
           "ticks": "",
           "title": {
            "standoff": 15
           },
           "zerolinecolor": "white",
           "zerolinewidth": 2
          },
          "yaxis": {
           "automargin": true,
           "gridcolor": "white",
           "linecolor": "white",
           "ticks": "",
           "title": {
            "standoff": 15
           },
           "zerolinecolor": "white",
           "zerolinewidth": 2
          }
         }
        },
        "title": {
         "text": "Sex-based Familiar vs Stranger Metric Comparison"
        },
        "updatemenus": [
         {
          "buttons": [
           {
            "args": [
             {
              "visible": [
               true,
               true,
               true,
               true,
               false,
               false,
               true,
               true,
               false,
               false,
               true,
               true
              ]
             },
             {
              "title": "Sex-based Familiar vs Stranger: interactiontime_sum_familiar vs interactiontime_sum_stranger"
             }
            ],
            "label": "interactiontime_sum_familiar vs interactiontime_sum_stranger",
            "method": "update"
           },
           {
            "args": [
             {
              "visible": [
               false,
               false,
               false,
               false,
               true,
               true,
               false,
               false,
               false,
               false,
               false,
               false
              ]
             },
             {
              "title": "Sex-based Familiar vs Stranger: interactiontime_avg_familiar vs interactiontime_avg_stranger"
             }
            ],
            "label": "interactiontime_avg_familiar vs interactiontime_avg_stranger",
            "method": "update"
           },
           {
            "args": [
             {
              "visible": [
               false,
               false,
               false,
               false,
               false,
               false,
               false,
               false,
               true,
               true,
               false,
               false
              ]
             },
             {
              "title": "Sex-based Familiar vs Stranger: approach_sum_familiar vs approach_sum_stranger"
             }
            ],
            "label": "approach_sum_familiar vs approach_sum_stranger",
            "method": "update"
           }
          ],
          "direction": "down",
          "showactive": true,
          "x": 0.1,
          "xanchor": "left",
          "y": 1.15,
          "yanchor": "top"
         }
        ],
        "width": 1200,
        "xaxis": {
         "anchor": "y",
         "domain": [
          0,
          0.45
         ],
         "title": {
          "text": "Familiar Value"
         }
        },
        "xaxis2": {
         "anchor": "y2",
         "domain": [
          0.55,
          1
         ],
         "title": {
          "text": "Familiar Value"
         }
        },
        "yaxis": {
         "anchor": "x",
         "domain": [
          0,
          1
         ],
         "title": {
          "text": "Stranger Value"
         }
        },
        "yaxis2": {
         "anchor": "x2",
         "domain": [
          0,
          1
         ],
         "title": {
          "text": "Stranger Value"
         }
        }
       }
      }
     },
     "metadata": {},
     "output_type": "display_data"
    }
   ],
   "source": [
    "# Prepare the metric pair data\n",
    "mouse_analysis.analysis.prepare_metric_pair_data()\n",
    "\n",
    "# Show the sex-based metric pair plot\n",
    "mouse_analysis.analysis.show_sex_based_metric_pair_plot()"
   ]
  },
  {
   "cell_type": "code",
   "execution_count": null,
   "id": "b04cd84a",
   "metadata": {},
   "outputs": [],
   "source": []
  },
  {
   "cell_type": "code",
   "execution_count": null,
   "id": "ed3d591a",
   "metadata": {},
   "outputs": [],
   "source": []
  },
  {
   "cell_type": "code",
   "execution_count": null,
   "id": "599d3f26",
   "metadata": {},
   "outputs": [],
   "source": []
  }
 ],
 "metadata": {
  "kernelspec": {
   "display_name": "Python 3 (ipykernel)",
   "language": "python",
   "name": "python3"
  },
  "language_info": {
   "codemirror_mode": {
    "name": "ipython",
    "version": 3
   },
   "file_extension": ".py",
   "mimetype": "text/x-python",
   "name": "python",
   "nbconvert_exporter": "python",
   "pygments_lexer": "ipython3",
   "version": "3.8.19"
  }
 },
 "nbformat": 4,
 "nbformat_minor": 5
}
